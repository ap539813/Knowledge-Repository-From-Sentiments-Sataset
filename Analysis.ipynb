{
 "cells": [
  {
   "cell_type": "markdown",
   "metadata": {},
   "source": [
    "### Step 1: Load and Explore the Dataset\n",
    "\n",
    "I'll begin by loading the dataset into a pandas DataFrame and taking a quick look at the first few rows.\n"
   ]
  },
  {
   "cell_type": "code",
   "execution_count": 1,
   "metadata": {},
   "outputs": [
    {
     "data": {
      "text/html": [
       "<div>\n",
       "<style scoped>\n",
       "    .dataframe tbody tr th:only-of-type {\n",
       "        vertical-align: middle;\n",
       "    }\n",
       "\n",
       "    .dataframe tbody tr th {\n",
       "        vertical-align: top;\n",
       "    }\n",
       "\n",
       "    .dataframe thead th {\n",
       "        text-align: right;\n",
       "    }\n",
       "</style>\n",
       "<table border=\"1\" class=\"dataframe\">\n",
       "  <thead>\n",
       "    <tr style=\"text-align: right;\">\n",
       "      <th></th>\n",
       "      <th>review</th>\n",
       "    </tr>\n",
       "  </thead>\n",
       "  <tbody>\n",
       "    <tr>\n",
       "      <th>0</th>\n",
       "      <td>The service was excellent. The cabin staff we...</td>\n",
       "    </tr>\n",
       "    <tr>\n",
       "      <th>1</th>\n",
       "      <td>We have had some torrid experiences with BA -...</td>\n",
       "    </tr>\n",
       "    <tr>\n",
       "      <th>2</th>\n",
       "      <td>We had a flight from ZRH to SFO via LHR. The l...</td>\n",
       "    </tr>\n",
       "    <tr>\n",
       "      <th>3</th>\n",
       "      <td>London to Paris. I wish that they would updat...</td>\n",
       "    </tr>\n",
       "    <tr>\n",
       "      <th>4</th>\n",
       "      <td>JFK to LHR. Empty check in and priority securi...</td>\n",
       "    </tr>\n",
       "  </tbody>\n",
       "</table>\n",
       "</div>"
      ],
      "text/plain": [
       "                                              review\n",
       "0   The service was excellent. The cabin staff we...\n",
       "1   We have had some torrid experiences with BA -...\n",
       "2  We had a flight from ZRH to SFO via LHR. The l...\n",
       "3   London to Paris. I wish that they would updat...\n",
       "4  JFK to LHR. Empty check in and priority securi..."
      ]
     },
     "execution_count": 1,
     "metadata": {},
     "output_type": "execute_result"
    }
   ],
   "source": [
    "import pandas as pd\n",
    "\n",
    "# Load the dataset\n",
    "reviews_df = pd.read_csv('airlines_reviews.csv')\n",
    "\n",
    "# Display the first few rows of the dataset\n",
    "reviews_df.head()\n"
   ]
  },
  {
   "cell_type": "markdown",
   "metadata": {},
   "source": [
    "### Step 2: Information Retrieval\n",
    "1. **Sentiment Analysis**: We'll gauge the sentiment of each review. This can be broadly categorized as positive, negative, or neutral.\n",
    "2. **Category of Complaints**: By using keyword extraction or topic modeling, we can identify common categories of complaints or feedback.\n",
    "3. **Urgency**: While determining urgency directly from the reviews might be challenging, we can infer urgency by looking for specific keywords or phrases that indicate immediate issues or concerns.\n",
    "4. **Risks**: We can identify potential risks by searching for keywords that might indicate safety or health concerns.\n",
    "5. **Other Information**: Depending on the reviews' content, we might identify other patterns or keywords that can provide additional insights."
   ]
  },
  {
   "cell_type": "markdown",
   "metadata": {},
   "source": [
    "### Step 3: Define a Pydantic Model\n",
    "We'll define a Pydantic model to structure the information we retrieve from the reviews. This will ensure that the extracted data is validated and serialized in a consistent manner."
   ]
  },
  {
   "cell_type": "code",
   "execution_count": 2,
   "metadata": {},
   "outputs": [
    {
     "data": {
      "text/plain": [
       "{'title': 'ReviewInfo',\n",
       " 'type': 'object',\n",
       " 'properties': {'sentiment': {'title': 'Sentiment', 'type': 'string'},\n",
       "  'categories': {'title': 'Categories',\n",
       "   'type': 'array',\n",
       "   'items': {'type': 'string'}},\n",
       "  'urgency': {'title': 'Urgency', 'type': 'string'},\n",
       "  'risks': {'title': 'Risks', 'type': 'array', 'items': {'type': 'string'}},\n",
       "  'other_info': {'title': 'Other Info', 'type': 'string'}},\n",
       " 'required': ['sentiment', 'categories']}"
      ]
     },
     "execution_count": 2,
     "metadata": {},
     "output_type": "execute_result"
    }
   ],
   "source": [
    "from pydantic import BaseModel\n",
    "from typing import Optional, List\n",
    "\n",
    "class ReviewInfo(BaseModel):\n",
    "    sentiment: str  \n",
    "    categories: List[str]  \n",
    "    urgency: Optional[str]  \n",
    "    risks: Optional[List[str]]  \n",
    "    other_info: Optional[str]\n",
    "\n",
    "ReviewInfo.schema()\n"
   ]
  },
  {
   "cell_type": "markdown",
   "metadata": {},
   "source": [
    "The `ReviewInfo` Pydantic model is defined as follows:\n",
    "\n",
    "- **sentiment**: This represents the sentiment of the review and can take values like \"positive\", \"negative\", or \"neutral\".\n",
    "- **categories**: This is a list capturing the various categories or topics mentioned in the review. For instance, categories could include \"in-flight service\", \"baggage handling\", \"ticketing\", etc.\n",
    "- **urgency**: This field indicates the urgency of the feedback, with possible values being \"high\", \"medium\", or \"low\". It's optional since not all reviews might have an evident urgency.\n",
    "- **risks**: This is a list of potential risks identified in the review, such as \"safety concern\" or \"health issue\". This field is also optional.\n",
    "- **other_info**: Any other significant information extracted from the review will be stored here. This is an optional field."
   ]
  },
  {
   "cell_type": "markdown",
   "metadata": {},
   "source": [
    "### Step 4: Sentiment Analysis\n",
    "\n",
    "We'll use a simple approach to gauge sentiment: \n",
    "- If the review contains more positive words than negative words, we'll label it as \"positive\".\n",
    "- If the review contains more negative words than positive words, we'll label it as \"negative\".\n",
    "- Otherwise, we'll label it as \"neutral\".\n",
    "\n",
    "Let's generate sentiment labels for the reviews."
   ]
  },
  {
   "cell_type": "code",
   "execution_count": 4,
   "metadata": {},
   "outputs": [
    {
     "data": {
      "text/plain": [
       "positive    365\n",
       "negative    134\n",
       "neutral       1\n",
       "Name: sentiment, dtype: int64"
      ]
     },
     "execution_count": 4,
     "metadata": {},
     "output_type": "execute_result"
    }
   ],
   "source": [
    "from textblob import TextBlob\n",
    "\n",
    "def get_sentiment(text):\n",
    "    \"\"\"Determine the sentiment of the text using TextBlob.\"\"\"\n",
    "    analysis = TextBlob(text)\n",
    "    # Classifying sentiment\n",
    "    if analysis.sentiment.polarity > 0:\n",
    "        return \"positive\"\n",
    "    elif analysis.sentiment.polarity < 0:\n",
    "        return \"negative\"\n",
    "    else:\n",
    "        return \"neutral\"\n",
    "\n",
    "# Applying the sentiment function to the reviews\n",
    "reviews_df[\"sentiment\"] = reviews_df[\"review\"].apply(get_sentiment)\n",
    "\n",
    "# Displaying the distribution of sentiments\n",
    "reviews_df[\"sentiment\"].value_counts()\n"
   ]
  },
  {
   "cell_type": "markdown",
   "metadata": {},
   "source": [
    "From the sentiment analysis:\n",
    "\n",
    "- There are 365 positive reviews.\n",
    "- There are 134 negative reviews.\n",
    "- There is 1 neutral review."
   ]
  },
  {
   "cell_type": "markdown",
   "metadata": {},
   "source": [
    "Next, we'll focus on identifying the categories of complaints or feedback within the reviews. For this, we'll utilize keyword extraction to pinpoint common themes or topics. "
   ]
  },
  {
   "cell_type": "markdown",
   "metadata": {},
   "source": [
    "### Step 5: Extract Categories\n",
    "\n",
    "To start, we'll identify a set of potential keywords or phrases that represent common categories of feedback in the airline industry. We'll then search for these keywords within the reviews to categorize them.\n",
    "\n"
   ]
  },
  {
   "cell_type": "code",
   "execution_count": 5,
   "metadata": {},
   "outputs": [
    {
     "data": {
      "text/html": [
       "<div>\n",
       "<style scoped>\n",
       "    .dataframe tbody tr th:only-of-type {\n",
       "        vertical-align: middle;\n",
       "    }\n",
       "\n",
       "    .dataframe tbody tr th {\n",
       "        vertical-align: top;\n",
       "    }\n",
       "\n",
       "    .dataframe thead th {\n",
       "        text-align: right;\n",
       "    }\n",
       "</style>\n",
       "<table border=\"1\" class=\"dataframe\">\n",
       "  <thead>\n",
       "    <tr style=\"text-align: right;\">\n",
       "      <th></th>\n",
       "      <th>review</th>\n",
       "      <th>categories</th>\n",
       "    </tr>\n",
       "  </thead>\n",
       "  <tbody>\n",
       "    <tr>\n",
       "      <th>0</th>\n",
       "      <td>The service was excellent. The cabin staff we...</td>\n",
       "      <td>[in-flight service, seating, staff behavior]</td>\n",
       "    </tr>\n",
       "    <tr>\n",
       "      <th>1</th>\n",
       "      <td>We have had some torrid experiences with BA -...</td>\n",
       "      <td>[in-flight service, baggage handling, seating,...</td>\n",
       "    </tr>\n",
       "    <tr>\n",
       "      <th>2</th>\n",
       "      <td>We had a flight from ZRH to SFO via LHR. The l...</td>\n",
       "      <td>[in-flight service, staff behavior, entertainm...</td>\n",
       "    </tr>\n",
       "    <tr>\n",
       "      <th>3</th>\n",
       "      <td>London to Paris. I wish that they would updat...</td>\n",
       "      <td>[ticketing, seating]</td>\n",
       "    </tr>\n",
       "    <tr>\n",
       "      <th>4</th>\n",
       "      <td>JFK to LHR. Empty check in and priority securi...</td>\n",
       "      <td>[in-flight service, staff behavior, delays]</td>\n",
       "    </tr>\n",
       "  </tbody>\n",
       "</table>\n",
       "</div>"
      ],
      "text/plain": [
       "                                              review  \\\n",
       "0   The service was excellent. The cabin staff we...   \n",
       "1   We have had some torrid experiences with BA -...   \n",
       "2  We had a flight from ZRH to SFO via LHR. The l...   \n",
       "3   London to Paris. I wish that they would updat...   \n",
       "4  JFK to LHR. Empty check in and priority securi...   \n",
       "\n",
       "                                          categories  \n",
       "0       [in-flight service, seating, staff behavior]  \n",
       "1  [in-flight service, baggage handling, seating,...  \n",
       "2  [in-flight service, staff behavior, entertainm...  \n",
       "3                               [ticketing, seating]  \n",
       "4        [in-flight service, staff behavior, delays]  "
      ]
     },
     "execution_count": 5,
     "metadata": {},
     "output_type": "execute_result"
    }
   ],
   "source": [
    "# Define a list of potential categories and associated keywords\n",
    "categories_keywords = {\n",
    "    \"in-flight service\": [\"cabin\", \"service\", \"in-flight\", \"meal\", \"food\", \"beverage\"],\n",
    "    \"baggage handling\": [\"baggage\", \"luggage\", \"lost\", \"damaged\", \"delayed\"],\n",
    "    \"ticketing\": [\"ticket\", \"booking\", \"reservation\", \"price\", \"cost\", \"charge\"],\n",
    "    \"seating\": [\"seat\", \"legroom\", \"space\", \"comfort\", \"recline\", \"position\"],\n",
    "    \"staff behavior\": [\"staff\", \"crew\", \"attendant\", \"rude\", \"friendly\", \"helpful\"],\n",
    "    \"delays\": [\"delay\", \"late\", \"wait\", \"time\", \"hour\", \"postponed\"],\n",
    "    \"entertainment\": [\"entertainment\", \"screen\", \"movie\", \"audio\", \"headphone\"],\n",
    "    \"safety\": [\"safety\", \"emergency\", \"seatbelt\", \"landing\", \"takeoff\"],\n",
    "    \"cleanliness\": [\"clean\", \"dirty\", \"maintained\", \"hygiene\", \"sanitary\"]\n",
    "}\n",
    "\n",
    "def extract_categories(text):\n",
    "    \"\"\"Extract categories from the text based on the presence of specific keywords.\"\"\"\n",
    "    matched_categories = []\n",
    "    for category, keywords in categories_keywords.items():\n",
    "        if any(keyword in text.lower() for keyword in keywords):\n",
    "            matched_categories.append(category)\n",
    "    return matched_categories\n",
    "\n",
    "# Extract categories for each review\n",
    "reviews_df[\"categories\"] = reviews_df[\"review\"].apply(extract_categories)\n",
    "\n",
    "# Displaying some sample reviews with extracted categories\n",
    "reviews_df[[\"review\", \"categories\"]].head()\n"
   ]
  },
  {
   "cell_type": "markdown",
   "metadata": {},
   "source": [
    "We have successfully extracted the categories from the reviews based on the presence of specific keywords. For example:\n",
    "\n",
    "- The first review mentions the \"service,\" \"cabin staff,\" and \"seating,\" so it's categorized under \"in-flight service,\" \"seating,\" and \"staff behavior.\"\n",
    "- The second review touches on multiple aspects like \"in-flight service,\" \"baggage handling,\" \"seating,\" and \"staff behavior.\"\n",
    "\n",
    "Next, let's focus on determining the **urgency** of the feedback. We'll attempt to infer urgency by looking for specific keywords or phrases that indicate immediate issues or concerns."
   ]
  },
  {
   "cell_type": "markdown",
   "metadata": {},
   "source": [
    "\n",
    "\n",
    "\n",
    "\n",
    "\n",
    "\n",
    "### Step 6: Determine Urgency\n",
    "\n",
    "We'll classify urgency into three levels: \"high,\" \"medium,\" and \"low.\" We'll define a set of keywords for each level and then categorize the reviews based on these keywords."
   ]
  },
  {
   "cell_type": "code",
   "execution_count": 6,
   "metadata": {},
   "outputs": [
    {
     "data": {
      "text/html": [
       "<div>\n",
       "<style scoped>\n",
       "    .dataframe tbody tr th:only-of-type {\n",
       "        vertical-align: middle;\n",
       "    }\n",
       "\n",
       "    .dataframe tbody tr th {\n",
       "        vertical-align: top;\n",
       "    }\n",
       "\n",
       "    .dataframe thead th {\n",
       "        text-align: right;\n",
       "    }\n",
       "</style>\n",
       "<table border=\"1\" class=\"dataframe\">\n",
       "  <thead>\n",
       "    <tr style=\"text-align: right;\">\n",
       "      <th></th>\n",
       "      <th>review</th>\n",
       "      <th>urgency</th>\n",
       "    </tr>\n",
       "  </thead>\n",
       "  <tbody>\n",
       "    <tr>\n",
       "      <th>0</th>\n",
       "      <td>The service was excellent. The cabin staff we...</td>\n",
       "      <td>None</td>\n",
       "    </tr>\n",
       "    <tr>\n",
       "      <th>1</th>\n",
       "      <td>We have had some torrid experiences with BA -...</td>\n",
       "      <td>None</td>\n",
       "    </tr>\n",
       "    <tr>\n",
       "      <th>2</th>\n",
       "      <td>We had a flight from ZRH to SFO via LHR. The l...</td>\n",
       "      <td>None</td>\n",
       "    </tr>\n",
       "    <tr>\n",
       "      <th>3</th>\n",
       "      <td>London to Paris. I wish that they would updat...</td>\n",
       "      <td>None</td>\n",
       "    </tr>\n",
       "    <tr>\n",
       "      <th>4</th>\n",
       "      <td>JFK to LHR. Empty check in and priority securi...</td>\n",
       "      <td>None</td>\n",
       "    </tr>\n",
       "  </tbody>\n",
       "</table>\n",
       "</div>"
      ],
      "text/plain": [
       "                                              review urgency\n",
       "0   The service was excellent. The cabin staff we...    None\n",
       "1   We have had some torrid experiences with BA -...    None\n",
       "2  We had a flight from ZRH to SFO via LHR. The l...    None\n",
       "3   London to Paris. I wish that they would updat...    None\n",
       "4  JFK to LHR. Empty check in and priority securi...    None"
      ]
     },
     "execution_count": 6,
     "metadata": {},
     "output_type": "execute_result"
    }
   ],
   "source": [
    "# Define keywords for different levels of urgency\n",
    "urgency_keywords = {\n",
    "    \"high\": [\"urgent\", \"immediate\", \"asap\", \"right away\", \"critical\", \"emergency\"],\n",
    "    \"medium\": [\"soon\", \"shortly\", \"in a while\", \"important\", \"necessary\"],\n",
    "    \"low\": [\"whenever\", \"later\", \"in the future\", \"eventually\"]\n",
    "}\n",
    "\n",
    "def determine_urgency(text):\n",
    "    \"\"\"Determine the urgency level of the text based on the presence of specific keywords.\"\"\"\n",
    "    for urgency_level, keywords in urgency_keywords.items():\n",
    "        if any(keyword in text.lower() for keyword in keywords):\n",
    "            return urgency_level\n",
    "    return None  # If no keywords are found, return None\n",
    "\n",
    "# Determine urgency for each review\n",
    "reviews_df[\"urgency\"] = reviews_df[\"review\"].apply(determine_urgency)\n",
    "\n",
    "# Displaying some sample reviews with determined urgency\n",
    "reviews_df[[\"review\", \"urgency\"]].head()\n"
   ]
  },
  {
   "cell_type": "code",
   "execution_count": 8,
   "metadata": {},
   "outputs": [
    {
     "data": {
      "text/plain": [
       "low       51\n",
       "medium    28\n",
       "high       9\n",
       "Name: urgency, dtype: int64"
      ]
     },
     "execution_count": 8,
     "metadata": {},
     "output_type": "execute_result"
    }
   ],
   "source": [
    "reviews_df['urgency'].value_counts()"
   ]
  },
  {
   "cell_type": "code",
   "execution_count": 9,
   "metadata": {},
   "outputs": [
    {
     "data": {
      "text/plain": [
       "(500, 4)"
      ]
     },
     "execution_count": 9,
     "metadata": {},
     "output_type": "execute_result"
    }
   ],
   "source": [
    "reviews_df.shape"
   ]
  },
  {
   "cell_type": "code",
   "execution_count": 10,
   "metadata": {},
   "outputs": [
    {
     "data": {
      "text/plain": [
       "review          0\n",
       "sentiment       0\n",
       "categories      0\n",
       "urgency       412\n",
       "dtype: int64"
      ]
     },
     "execution_count": 10,
     "metadata": {},
     "output_type": "execute_result"
    }
   ],
   "source": [
    "reviews_df.isna().sum()"
   ]
  },
  {
   "cell_type": "code",
   "execution_count": null,
   "metadata": {},
   "outputs": [],
   "source": []
  }
 ],
 "metadata": {
  "kernelspec": {
   "display_name": "base",
   "language": "python",
   "name": "python3"
  },
  "language_info": {
   "codemirror_mode": {
    "name": "ipython",
    "version": 3
   },
   "file_extension": ".py",
   "mimetype": "text/x-python",
   "name": "python",
   "nbconvert_exporter": "python",
   "pygments_lexer": "ipython3",
   "version": "3.9.10"
  }
 },
 "nbformat": 4,
 "nbformat_minor": 2
}
