{
 "cells": [
  {
   "cell_type": "markdown",
   "metadata": {},
   "source": [
    "### Step 1: Load and Explore the Dataset\n",
    "\n",
    "I'll begin by loading the dataset into a pandas DataFrame and taking a quick look at the first few rows.\n"
   ]
  },
  {
   "cell_type": "code",
   "execution_count": 35,
   "metadata": {},
   "outputs": [
    {
     "data": {
      "text/html": [
       "<div>\n",
       "<style scoped>\n",
       "    .dataframe tbody tr th:only-of-type {\n",
       "        vertical-align: middle;\n",
       "    }\n",
       "\n",
       "    .dataframe tbody tr th {\n",
       "        vertical-align: top;\n",
       "    }\n",
       "\n",
       "    .dataframe thead th {\n",
       "        text-align: right;\n",
       "    }\n",
       "</style>\n",
       "<table border=\"1\" class=\"dataframe\">\n",
       "  <thead>\n",
       "    <tr style=\"text-align: right;\">\n",
       "      <th></th>\n",
       "      <th>review</th>\n",
       "    </tr>\n",
       "  </thead>\n",
       "  <tbody>\n",
       "    <tr>\n",
       "      <th>0</th>\n",
       "      <td>The service was excellent. The cabin staff we...</td>\n",
       "    </tr>\n",
       "    <tr>\n",
       "      <th>1</th>\n",
       "      <td>We have had some torrid experiences with BA -...</td>\n",
       "    </tr>\n",
       "    <tr>\n",
       "      <th>2</th>\n",
       "      <td>We had a flight from ZRH to SFO via LHR. The l...</td>\n",
       "    </tr>\n",
       "    <tr>\n",
       "      <th>3</th>\n",
       "      <td>London to Paris. I wish that they would updat...</td>\n",
       "    </tr>\n",
       "    <tr>\n",
       "      <th>4</th>\n",
       "      <td>JFK to LHR. Empty check in and priority securi...</td>\n",
       "    </tr>\n",
       "  </tbody>\n",
       "</table>\n",
       "</div>"
      ],
      "text/plain": [
       "                                              review\n",
       "0   The service was excellent. The cabin staff we...\n",
       "1   We have had some torrid experiences with BA -...\n",
       "2  We had a flight from ZRH to SFO via LHR. The l...\n",
       "3   London to Paris. I wish that they would updat...\n",
       "4  JFK to LHR. Empty check in and priority securi..."
      ]
     },
     "execution_count": 35,
     "metadata": {},
     "output_type": "execute_result"
    }
   ],
   "source": [
    "import pandas as pd\n",
    "\n",
    "# Load the dataset\n",
    "airlines_reviews_df = pd.read_csv('airlines_reviews.csv')\n",
    "\n",
    "# Display the first few rows of the dataset\n",
    "airlines_reviews_df.head()\n"
   ]
  },
  {
   "cell_type": "markdown",
   "metadata": {},
   "source": [
    "### Step 2: Information Retrieval\n",
    "1. **Sentiment Analysis**: We'll gauge the sentiment of each review. This can be broadly categorized as positive, negative, or neutral.\n",
    "2. **Category of Complaints**: By using keyword extraction or topic modeling, we can identify common categories of complaints or feedback.\n",
    "3. **Urgency**: While determining urgency directly from the reviews might be challenging, we can infer urgency by looking for specific keywords or phrases that indicate immediate issues or concerns.\n",
    "4. **Risks**: We can identify potential risks by searching for keywords that might indicate safety or health concerns.\n",
    "5. **Other Information**: Depending on the reviews' content, we might identify other patterns or keywords that can provide additional insights."
   ]
  },
  {
   "cell_type": "markdown",
   "metadata": {},
   "source": [
    "### Step 3: Define a Pydantic Model\n",
    "We'll define a Pydantic model to structure the information we retrieve from the reviews. This will ensure that the extracted data is validated and serialized in a consistent manner."
   ]
  },
  {
   "cell_type": "code",
   "execution_count": 36,
   "metadata": {},
   "outputs": [
    {
     "data": {
      "text/plain": [
       "{'sentiment': 'Positive',\n",
       " 'categories': ['In-flight Service'],\n",
       " 'urgency': 'Non-Immediate',\n",
       " 'risks': [],\n",
       " 'additional_info': 'Staff were very friendly and accommodating.'}"
      ]
     },
     "execution_count": 36,
     "metadata": {},
     "output_type": "execute_result"
    }
   ],
   "source": [
    "from pydantic import BaseModel\n",
    "from typing import Optional, List\n",
    "\n",
    "# Define the schema for the knowledge repository\n",
    "class ReviewAnalysis(BaseModel):\n",
    "    sentiment: Optional[str]  # This will be 'Positive', 'Neutral', or 'Negative'\n",
    "    categories: Optional[List[str]]  # Categories of complaints or feedback\n",
    "    urgency: Optional[str]  # This will be 'Immediate' or 'Non-Immediate'\n",
    "    risks: Optional[List[str]]  # List of any risks mentioned\n",
    "    additional_info: Optional[str]  # Any other useful information extracted from the review\n",
    "\n",
    "example_review_analysis = ReviewAnalysis(\n",
    "    sentiment='Positive',\n",
    "    categories=['In-flight Service'],\n",
    "    urgency='Non-Immediate',\n",
    "    risks=[],\n",
    "    additional_info='Staff were very friendly and accommodating.'\n",
    ")\n",
    "\n",
    "example_review_analysis.dict()  # To display how the data is structured according to the schema\n"
   ]
  },
  {
   "cell_type": "markdown",
   "metadata": {},
   "source": [
    "The schema for our knowledge repository has been defined using Pydantic. Each ReviewAnalysis object includes:\n",
    "\n",
    "- **sentiment**: A string that can be 'Positive', 'Neutral', or 'Negative'.\n",
    "- **categories**: A list of strings representing different categories of complaints or feedback.\n",
    "- **urgency**: A string that can be 'Immediate' or 'Non-Immediate'.\n",
    "- **risks**: A list of strings indicating any risks mentioned in the review.\n",
    "- **additional_info**: A string containing any other useful information extracted from the review."
   ]
  },
  {
   "cell_type": "markdown",
   "metadata": {},
   "source": [
    "## Analyse Review"
   ]
  },
  {
   "cell_type": "markdown",
   "metadata": {},
   "source": [
    "Now we will need to process the dataset to populate instances of ReviewAnalysis with actual data from the reviews. We'll create a function to analyze each review and then apply this function to the dataset.\n",
    "\n",
    "The function will need to:\n",
    "\n",
    "- Determine the sentiment of the review.\n",
    "- Categorize the content of the review.\n",
    "- Assess urgency and identify any risks.\n",
    "- Extract any additional relevant information."
   ]
  },
  {
   "cell_type": "code",
   "execution_count": 37,
   "metadata": {},
   "outputs": [
    {
     "data": {
      "text/plain": [
       "[ReviewAnalysis(sentiment='Positive', categories=['in-flight service', 'seating', 'staff behavior'], urgency='Non-Immediate', risks=[], additional_info=''),\n",
       " ReviewAnalysis(sentiment='Positive', categories=['in-flight service', 'baggage handling', 'ticketing', 'seating', 'staff behavior', 'delays'], urgency='Immediate', risks=['harm'], additional_info=''),\n",
       " ReviewAnalysis(sentiment='Positive', categories=['in-flight service', 'staff behavior', 'entertainment', 'cleanliness'], urgency='Non-Immediate', risks=[], additional_info=''),\n",
       " ReviewAnalysis(sentiment='Positive', categories=['in-flight service', 'ticketing', 'seating'], urgency='Non-Immediate', risks=[], additional_info=''),\n",
       " ReviewAnalysis(sentiment='Positive', categories=['in-flight service', 'baggage handling', 'ticketing', 'staff behavior', 'delays', 'entertainment'], urgency='Immediate', risks=[], additional_info='')]"
      ]
     },
     "execution_count": 37,
     "metadata": {},
     "output_type": "execute_result"
    }
   ],
   "source": [
    "from textblob import TextBlob\n",
    "import re\n",
    "\n",
    "# Function to analyze each review\n",
    "def analyze_review(review):\n",
    "    # Analyze sentiment using TextBlob\n",
    "    analysis = TextBlob(review)\n",
    "    sentiment = 'Positive' if analysis.sentiment.polarity > 0 else 'Negative' if analysis.sentiment.polarity < 0 else 'Neutral'\n",
    "    \n",
    "    # Determine the category based on keywords (very simplistic approach)\n",
    "    review_categories = []\n",
    "    categories = {\n",
    "    \"in-flight service\": [\"cabin\", \"service\", \"in-flight\", \"meal\", \"food\", \"beverage\", \"snack\", \"drink\", \"attendant\", \"catering\", \"menu\", \n",
    "                          \"quality\", \"choice\", \"selection\", \"dining\", \"refreshment\", \"crew service\", \"presentation\", \"cuisine\", \"variety\", \n",
    "                          \"dietary options\", \"taste\", \"culinary\", \"hot meal\", \"cold meal\", \"special meal\", \"onboard service\", \"flight attendant\", \n",
    "                          \"airline food\", \"gourmet\", \"beverage cart\", \"coffee\", \"tea\", \"alcohol\", \"wine\", \"beer\", \"soft drink\", \"complimentary\", \n",
    "                          \"pay\", \"purchase\", \"onboard menu\", \"breakfast\", \"lunch\", \"dinner\", \"appetizer\", \"dessert\", \"main course\", \"salad\", \n",
    "                          \"vegetarian\", \"vegan\", \"gluten-free\", \"kid's meal\", \"baby food\", \"halal\", \"kosher\"],\n",
    "    \"baggage handling\": [\"baggage\", \"luggage\", \"lost\", \"damaged\", \"delayed\", \"check-in\", \"claim\", \"carousel\", \"overhead bin\", \"carry-on\", \n",
    "                         \"check\", \"lost and found\", \"missing\", \"tag\", \"weight limit\", \"excess baggage\", \"oversize\", \"fragile\", \"security\", \n",
    "                         \"handling\", \"retrieval\", \"lost property\", \"baggage service\", \"locker\", \"storage\", \"baggage allowance\", \"baggage fee\", \n",
    "                         \"hand luggage\", \"suitcase\", \"backpack\", \"duffle bag\", \"checked luggage\", \"baggage claim area\", \"baggage belt\", \n",
    "                         \"tracking\", \"baggage policy\", \"baggage handler\", \"lost luggage office\", \"airport luggage\", \"baggage delay\", \n",
    "                         \"baggage damage\"],\n",
    "    \"ticketing\": [\"ticket\", \"booking\", \"reservation\", \"price\", \"cost\", \"charge\", \"fare\", \"booking fee\", \"e-ticket\", \"online booking\", \"reservation number\", \n",
    "                  \"travel agent\", \"ticket counter\", \"boarding pass\", \"class\", \"economy\", \"business\", \"first class\", \"upgrade\", \"discount\", \"deal\", \n",
    "                  \"offer\", \"refund\", \"cancellation\", \"change fee\", \"no-show\", \"itinerary\", \"round trip\", \"one way\", \"direct flight\", \n",
    "                  \"connecting flight\", \"date change\", \"seat selection\", \"booking confirmation\", \"booking process\", \"early bird\", \"last minute\", \n",
    "                  \"flexible ticket\", \"non-refundable\", \"refundable\", \"group booking\", \"ticket office\", \"airline website\", \"booking platform\", \n",
    "                  \"travel website\", \"promo code\", \"voucher\", \"airfare\", \"ticket price\", \"booking experience\"],\n",
    "    \"seating\": [\"seat\", \"legroom\", \"space\", \"comfort\", \"recline\", \"position\", \"aisle\", \"window\", \"middle seat\", \"exit row\", \"bulkhead\", \n",
    "                \"seating arrangement\", \"seat pitch\", \"seat width\", \"armrest\", \"headrest\", \"seat cushion\", \"seat selection\", \"seat upgrade\", \n",
    "                \"seat map\", \"seat allocation\", \"seat preference\", \"overhead space\", \"seatbelt\", \"cabin layout\", \"economy class seating\", \n",
    "                \"business class seating\", \"first class seating\", \"premium economy\", \"seating comfort\", \"seat adjustment\", \"ergonomic seat\", \n",
    "                \"seatback\", \"underseat storage\", \"seat reservation\", \"extra legroom\", \"cramped\", \"spacious\", \"comfortable seating\", \"uncomfortable seat\", \n",
    "                \"aisle access\", \"window view\", \"seat capacity\", \"cabin class\"],\n",
    "    \"staff behavior\": [\"staff\", \"crew\", \"attendant\", \"rude\", \"friendly\", \"helpful\", \"polite\", \"unprofessional\", \"courteous\", \"attentive\", \"hostile\", \n",
    "                       \"welcoming\", \"efficient\", \"inattentive\", \"service-oriented\", \"customer service\", \"professionalism\", \"smiling\", \"interaction\", \n",
    "                       \"crew member\", \"flight crew\", \"cabin crew\", \"airline staff\", \"customer support\", \"ground staff\", \"gate agent\", \"check-in staff\", \n",
    "                       \"crew attitude\", \"staff attitude\", \"crew behavior\", \"service level\", \"staff assistance\", \"crew assistance\", \"helpfulness\", \n",
    "                       \"responsiveness\", \"language skills\", \"communication skills\", \"problem solving\", \"empathy\", \"approachability\", \"friendliness\", \n",
    "                       \"respectfulness\", \"teamwork\", \"crew efficiency\", \"customer interaction\", \"personal touch\", \"staff presence\", \"service quality\", \n",
    "                       \"staff performance\"],\n",
    "    \"delays\": [\"delay\", \"late\", \"wait\", \"time\", \"hour\", \"postponed\", \"rescheduled\", \"holdup\", \"downtime\", \"flight delay\", \"boarding delay\", \n",
    "               \"departure delay\", \"arrival delay\", \"delayed flight\", \"long wait\", \"waiting time\", \"schedule change\", \"on-time\", \"late departure\", \n",
    "               \"late arrival\", \"delay announcement\", \"delay reason\", \"weather delay\", \"mechanical delay\", \"air traffic delay\", \"security delay\", \n",
    "               \"crew delay\", \"delay compensation\", \"delayed baggage\", \"extended wait\", \"delay notification\", \"flight status\", \"schedule disruption\", \n",
    "               \"unforeseen delay\", \"minor delay\", \"major delay\", \"operational delay\", \"system delay\", \"ground delay\", \"gate hold\", \"tarmac delay\", \n",
    "               \"aircraft delay\", \"connection delay\", \"travel disruption\", \"delayed connection\", \"prolonged delay\"],\n",
    "    \"entertainment\": [\"entertainment\", \"screen\", \"movie\", \"audio\", \"headphone\", \"music\", \"film\", \"TV\", \"television\", \"game\", \"in-flight entertainment\", \n",
    "                      \"video\", \"onboard entertainment\", \"media\", \"selection\", \"content\", \"entertainment system\", \"movie selection\", \"audio channel\", \n",
    "                      \"headset\", \"earphone\", \"touch screen\", \"remote control\", \"streaming\", \"Wi-Fi\", \"internet\", \"USB port\", \"power outlet\", \"app\", \n",
    "                      \"in-flight movie\", \"TV show\", \"documentary\", \"series\", \"kids entertainment\", \"entertainment options\", \"in-flight music\", \n",
    "                      \"audio entertainment\", \"entertainment quality\", \"interactive entertainment\", \"personal screen\", \"overhead screen\", \"seatback screen\", \n",
    "                      \"entertainment variety\", \"onboard Wi-Fi\", \"in-flight Wi-Fi\", \"entertainment experience\", \"flight entertainment\", \"audio book\", \n",
    "                      \"entertainment library\", \"multimedia\", \"video game\"],\n",
    "    \"safety\": [\"safety\", \"emergency\", \"seatbelt\", \"landing\", \"takeoff\", \"safety demonstration\", \"safety video\", \"flight safety\", \"aircraft safety\", \n",
    "               \"safety procedures\", \"safety briefing\", \"safety measures\", \"safety equipment\", \"emergency exit\", \"life jacket\", \"oxygen mask\", \n",
    "               \"security procedures\", \"safety announcement\", \"evacuation\", \"safety check\", \"emergency procedure\", \"safety instructions\", \n",
    "               \"safety features\", \"safety protocol\", \"safety record\", \"safety standards\", \"airline safety\", \"flight attendant safety\", \n",
    "               \"cabin safety\", \"safety compliance\", \"safety regulations\", \"safety guidelines\", \"safety training\", \"safety management\", \n",
    "               \"security check\", \"safety audit\", \"safety performance\", \"safety culture\", \"safety practice\", \"safety policy\", \"safety concern\", \n",
    "               \"safety tips\", \"safety information\", \"flight security\", \"safety awareness\", \"safety priority\", \"safety announcement\", \n",
    "               \"emergency response\"],\n",
    "    \"cleanliness\": [\"clean\", \"dirty\", \"maintained\", \"hygiene\", \"sanitary\", \"tidy\", \"cleanliness\", \"unclean\", \"filthy\", \"spotless\", \"disinfect\", \n",
    "                    \"sanitization\", \"cleaning\", \"maintenance\", \"washroom\", \"bathroom\", \"restroom\", \"cabin clean\", \"hygienic\", \"litter\", \"trash\", \n",
    "                    \"waste\", \"cleaning crew\", \"cleaning standards\", \"cleaning service\", \"dust\", \"spill\", \"stain\", \"cleanliness level\", \"sanitation\", \n",
    "                    \"germ-free\", \"neat\", \"disinfection\", \"cleaning procedure\", \"sweep\", \"mop\", \"wipe\", \"cleaner\", \"cleaning staff\", \"cleaning policy\", \n",
    "                    \"cleaning frequency\", \"aircraft cleanliness\", \"seat cleanliness\", \"lavatory\", \"cabin condition\", \"cleaning supplies\", \n",
    "                    \"surface cleaning\", \"deep cleaning\", \"cabin upkeep\", \"sanitary condition\", \"hygiene standards\", \"hygiene practices\", \n",
    "                    \"hygiene level\", \"cleaning quality\", \"cleanliness rating\"]\n",
    "}\n",
    "\n",
    "    for category, keywords in categories.items():\n",
    "        if any(keyword in review.lower() for keyword in keywords):\n",
    "            review_categories.append(category)\n",
    "    \n",
    "    # Urgency and risks would also typically be determined by keywords or ML models. \n",
    "    # For now, we will use simple keywords, this will ofcourse be canged if needed\n",
    "    urgency_keys = [\n",
    "        \"immediate\", \"urgent\", \"critical\", \"priority\", \"pressing\", \"important\", \"necessary\", \"essential\", \"crucial\", \n",
    "        \"prompt\", \"swift\", \"rapid\", \"quick\", \"hasty\", \"speedy\", \"fast\", \"expedite\", \"accelerate\", \"rush\", \"hurry\",\n",
    "        \"asap\", \"now\", \"instant\", \"emergency\", \"dire\", \"acute\", \"demanding\", \"imperative\", \"compelling\", \"serious\", \n",
    "        \"vital\", \"timely\", \"sudden\", \"urgent matter\", \"urgent issue\", \"urgent need\", \"urgent request\", \"urgent attention\", \n",
    "        \"immediately required\", \"high priority\", \"urgent action\", \"urgent assistance\", \"urgent help\", \"urgent response\", \n",
    "        \"urgent service\", \"urgent support\", \"urgent treatment\", \"urgent work\", \"urgent care\", \"urgent delivery\", \n",
    "        \"urgent repair\", \"urgent solution\", \"urgent handling\", \"urgent matter\", \"urgent query\", \"urgent problem\", \n",
    "        \"urgent situation\", \"urgent case\", \"urgent basis\", \"urgent attention needed\", \"urgent fix\", \"urgent resolution\", \n",
    "        \"urgent concern\", \"urgent call\", \"urgent demand\", \"urgent need for action\", \"urgent follow-up\", \"urgent response needed\",\n",
    "        \"urgent update\", \"urgent matter\", \"urgent request\"\n",
    "    ]\n",
    "\n",
    "    # Assuming review is a string containing the review text\n",
    "    review_lower = review.lower()\n",
    "    urgency = 'Immediate' if any(key in review_lower for key in urgency_keys) else 'Non-Immediate'\n",
    "\n",
    "    \n",
    "    # Risks might include words like 'danger', 'unsafe', 'risk', 'emergency'\n",
    "    risk_keywords = [\n",
    "        'danger', 'unsafe', 'risk', 'emergency', 'hazard', 'threat', 'peril', 'jeopardy', 'alarm', 'warning', \n",
    "        'critical', 'serious', 'severe', 'harm', 'damage', 'vulnerable', 'threatening', 'menace', 'risky', 'precarious', \n",
    "        'uncertain', 'unsure', 'dubious', 'dicey', 'iffy', 'shaky', 'treacherous', 'adverse', 'insecure', 'unstable', \n",
    "        'volatile', 'susceptible', 'exposure', 'liability', 'endanger', 'jeopardize', 'compromise', 'perilous', 'injury', \n",
    "        'accident', 'incident', 'mishap', 'breach', 'violation', 'infraction', 'noncompliance', 'contravention', 'transgression', \n",
    "        'offense', 'negligence', 'reckless', 'careless', 'irresponsible', 'imprudent', 'unwise', 'ill-advised', 'imperil', \n",
    "        'catastrophe', 'disaster', 'calamity', 'tragedy', 'crisis', 'emergency situation', 'unsafe conditions', 'hazardous', \n",
    "        'fatal', 'lethal', 'deadly', 'mortal', 'toxic', 'contamination', 'pollution', 'spill', 'leak', 'outbreak', 'pandemic', \n",
    "        'epidemic', 'infectious', 'contagious', 'health hazard', 'safety hazard', 'security risk', 'cyber risk', 'financial risk'\n",
    "    ]\n",
    "\n",
    "    risks = [word for word in risk_keywords if word in review.lower()]\n",
    "    \n",
    "    # For additional info, we might extract anything in quotes as a simple proxy for specific comments.\n",
    "    additional_info = ' '.join(re.findall(r'\"(.*?)\"', review))\n",
    "    \n",
    "    return ReviewAnalysis(\n",
    "        sentiment=sentiment,\n",
    "        categories=tuple(review_categories),\n",
    "        urgency=urgency,\n",
    "        risks=risks,\n",
    "        additional_info=additional_info\n",
    "    )\n",
    "\n",
    "# Apply the function to a small subset of the dataset to test it\n",
    "sample_reviews_analysis = airlines_reviews_df['review'].head().apply(analyze_review)\n",
    "sample_reviews_analysis.tolist()\n"
   ]
  },
  {
   "cell_type": "markdown",
   "metadata": {},
   "source": [
    "In the above output, for each review, we have:\n",
    "\n",
    "- **sentiment**: Determined as 'Positive' or 'Negative' based on the polarity of the text.\n",
    "- **categories**: Identified based on predefined keywords related to common airline service categories.\n",
    "- **urgency**: Assessed as 'Immediate' or 'Non-Immediate' based on specific keywords in the text.\n",
    "- **risks**: Identified by the presence of risk-related keywords.\n",
    "- **additional_info**: Extracted as text within quotes."
   ]
  },
  {
   "cell_type": "code",
   "execution_count": 38,
   "metadata": {},
   "outputs": [
    {
     "data": {
      "text/plain": [
       "500"
      ]
     },
     "execution_count": 38,
     "metadata": {},
     "output_type": "execute_result"
    }
   ],
   "source": [
    "# Let's check the size of the dataset to decide how to proceed\n",
    "dataset_size = len(airlines_reviews_df)\n",
    "dataset_size\n"
   ]
  },
  {
   "cell_type": "markdown",
   "metadata": {},
   "source": [
    "The dataset contains 500 reviews, which is a manageable size for processing in one go without the need for chunking. We'll apply the analysis function to the entire dataset, store the results in a new DataFrame, and then extract insights."
   ]
  },
  {
   "cell_type": "code",
   "execution_count": 39,
   "metadata": {},
   "outputs": [
    {
     "data": {
      "text/html": [
       "<div>\n",
       "<style scoped>\n",
       "    .dataframe tbody tr th:only-of-type {\n",
       "        vertical-align: middle;\n",
       "    }\n",
       "\n",
       "    .dataframe tbody tr th {\n",
       "        vertical-align: top;\n",
       "    }\n",
       "\n",
       "    .dataframe thead th {\n",
       "        text-align: right;\n",
       "    }\n",
       "</style>\n",
       "<table border=\"1\" class=\"dataframe\">\n",
       "  <thead>\n",
       "    <tr style=\"text-align: right;\">\n",
       "      <th></th>\n",
       "      <th>sentiment</th>\n",
       "      <th>categories</th>\n",
       "      <th>urgency</th>\n",
       "      <th>risks</th>\n",
       "      <th>additional_info</th>\n",
       "    </tr>\n",
       "  </thead>\n",
       "  <tbody>\n",
       "    <tr>\n",
       "      <th>0</th>\n",
       "      <td>Positive</td>\n",
       "      <td>[in-flight service, seating, staff behavior]</td>\n",
       "      <td>Non-Immediate</td>\n",
       "      <td>[]</td>\n",
       "      <td></td>\n",
       "    </tr>\n",
       "    <tr>\n",
       "      <th>1</th>\n",
       "      <td>Positive</td>\n",
       "      <td>[in-flight service, baggage handling, ticketin...</td>\n",
       "      <td>Immediate</td>\n",
       "      <td>[harm]</td>\n",
       "      <td></td>\n",
       "    </tr>\n",
       "    <tr>\n",
       "      <th>2</th>\n",
       "      <td>Positive</td>\n",
       "      <td>[in-flight service, staff behavior, entertainm...</td>\n",
       "      <td>Non-Immediate</td>\n",
       "      <td>[]</td>\n",
       "      <td></td>\n",
       "    </tr>\n",
       "    <tr>\n",
       "      <th>3</th>\n",
       "      <td>Positive</td>\n",
       "      <td>[in-flight service, ticketing, seating]</td>\n",
       "      <td>Non-Immediate</td>\n",
       "      <td>[]</td>\n",
       "      <td></td>\n",
       "    </tr>\n",
       "    <tr>\n",
       "      <th>4</th>\n",
       "      <td>Positive</td>\n",
       "      <td>[in-flight service, baggage handling, ticketin...</td>\n",
       "      <td>Immediate</td>\n",
       "      <td>[]</td>\n",
       "      <td></td>\n",
       "    </tr>\n",
       "  </tbody>\n",
       "</table>\n",
       "</div>"
      ],
      "text/plain": [
       "  sentiment                                         categories        urgency  \\\n",
       "0  Positive       [in-flight service, seating, staff behavior]  Non-Immediate   \n",
       "1  Positive  [in-flight service, baggage handling, ticketin...      Immediate   \n",
       "2  Positive  [in-flight service, staff behavior, entertainm...  Non-Immediate   \n",
       "3  Positive            [in-flight service, ticketing, seating]  Non-Immediate   \n",
       "4  Positive  [in-flight service, baggage handling, ticketin...      Immediate   \n",
       "\n",
       "    risks additional_info  \n",
       "0      []                  \n",
       "1  [harm]                  \n",
       "2      []                  \n",
       "3      []                  \n",
       "4      []                  "
      ]
     },
     "execution_count": 39,
     "metadata": {},
     "output_type": "execute_result"
    }
   ],
   "source": [
    "# Apply the analysis to the entire dataset\n",
    "full_reviews_analysis = airlines_reviews_df['review'].apply(analyze_review)\n",
    "\n",
    "# Convert the list of ReviewAnalysis objects to a list of dictionaries and then to a DataFrame\n",
    "analysis_dicts = [analysis.dict() for analysis in full_reviews_analysis]\n",
    "analysis_df = pd.DataFrame(analysis_dicts)\n",
    "\n",
    "analysis_df.head()\n"
   ]
  },
  {
   "cell_type": "code",
   "execution_count": 40,
   "metadata": {},
   "outputs": [],
   "source": [
    "analysis_df.to_csv('airline_reviews_updated.csv')"
   ]
  },
  {
   "cell_type": "markdown",
   "metadata": {},
   "source": [
    "The analysis results have been successfully structured into a pandas DataFrame. The DataFrame includes columns for sentiment, categories, urgency, risks, and additional_info based on the content of each review."
   ]
  },
  {
   "cell_type": "code",
   "execution_count": 41,
   "metadata": {},
   "outputs": [],
   "source": [
    "\n",
    "# The distribution of sentiments across all reviews.\n",
    "sentiment_distribution = analysis_df['sentiment'].value_counts(normalize=True) * 100\n",
    "\n"
   ]
  },
  {
   "cell_type": "code",
   "execution_count": 54,
   "metadata": {},
   "outputs": [],
   "source": [
    "import ast\n",
    "\n",
    "def safe_literal_eval(s):\n",
    "    try:\n",
    "        # Only try to evaluate non-empty strings that start with a character that indicates a Python literal.\n",
    "        if isinstance(s, str) and (s.startswith(('[', '{', '\"', \"'\")) or s.isdigit()):\n",
    "            return ast.literal_eval(s)\n",
    "        elif s == '[]':  # If the string is exactly '[]', return an empty list\n",
    "            return []\n",
    "    except (ValueError, SyntaxError):\n",
    "        # If there's an error in evaluating, just return the string as-is\n",
    "        pass\n",
    "    return str(s)"
   ]
  },
  {
   "cell_type": "code",
   "execution_count": 55,
   "metadata": {},
   "outputs": [],
   "source": [
    "# Apply the safe_literal_eval function to 'categories' and 'risks' columns\n",
    "analysis_df['categories'] = analysis_df['categories'].apply(safe_literal_eval)\n",
    "analysis_df['risks'] = analysis_df['risks'].apply(safe_literal_eval)\n"
   ]
  },
  {
   "cell_type": "code",
   "execution_count": 56,
   "metadata": {},
   "outputs": [
    {
     "data": {
      "text/plain": [
       "['in-flight service', 'seating', 'staff behavior']"
      ]
     },
     "execution_count": 56,
     "metadata": {},
     "output_type": "execute_result"
    }
   ],
   "source": [
    "ast.literal_eval(str(analysis_df['categories'][0]))"
   ]
  },
  {
   "cell_type": "code",
   "execution_count": 57,
   "metadata": {},
   "outputs": [],
   "source": [
    "# The most common categories for complaints or feedback.\n",
    "# Since the categories are in a list within a string, we'll first convert them to actual lists\n",
    "\n",
    "analysis_df['categories'] = analysis_df['categories'].apply(ast.literal_eval)\n",
    "# Now we can explode the categories into separate rows and count the occurrences\n",
    "category_distribution = analysis_df.explode('categories')['categories'].value_counts()\n",
    "\n",
    "\n"
   ]
  },
  {
   "cell_type": "code",
   "execution_count": 58,
   "metadata": {},
   "outputs": [
    {
     "data": {
      "text/plain": [
       "(Positive    73.0\n",
       " Negative    26.8\n",
       " Neutral      0.2\n",
       " Name: sentiment, dtype: float64,\n",
       " in-flight service    454\n",
       " ticketing            369\n",
       " delays               363\n",
       " staff behavior       358\n",
       " seating              330\n",
       " entertainment        266\n",
       " baggage handling     257\n",
       " cleanliness           99\n",
       " safety                51\n",
       " Name: categories, dtype: int64,\n",
       " Non-Immediate    52.8\n",
       " Immediate        47.2\n",
       " Name: urgency, dtype: float64,\n",
       " emergency      5\n",
       " risk           5\n",
       " severe         4\n",
       " disaster       4\n",
       " serious        3\n",
       " harm           3\n",
       " hazard         2\n",
       " warning        2\n",
       " damage         2\n",
       " liability      2\n",
       " alarm          1\n",
       " unsafe         1\n",
       " accident       1\n",
       " pandemic       1\n",
       " danger         1\n",
       " threat         1\n",
       " threatening    1\n",
       " careless       1\n",
       " Name: risks, dtype: int64)"
      ]
     },
     "execution_count": 58,
     "metadata": {},
     "output_type": "execute_result"
    }
   ],
   "source": [
    "# The frequency of urgent versus non-urgent feedback.\n",
    "urgency_distribution = analysis_df['urgency'].value_counts(normalize=True) * 100\n",
    "\n",
    "# Similar to categories, we'll convert the risks from string representation of lists to actual lists\n",
    "analysis_df['risks'] = analysis_df['risks'].apply(ast.literal_eval)\n",
    "risk_distribution = analysis_df.explode('risks')['risks'].value_counts()\n",
    "\n",
    "# Display the generated insights\n",
    "(sentiment_distribution, category_distribution, urgency_distribution, risk_distribution)"
   ]
  },
  {
   "cell_type": "code",
   "execution_count": 59,
   "metadata": {},
   "outputs": [
    {
     "data": {
      "image/png": "[encoded data removed]",
      "text/plain": [
       "<Figure size 1008x864 with 4 Axes>"
      ]
     },
     "metadata": {
      "needs_background": "light"
     },
     "output_type": "display_data"
    }
   ],
   "source": [
    "import matplotlib.pyplot as plt\n",
    "\n",
    "# Set up the figure and axes for the visualizations\n",
    "fig, axs = plt.subplots(2, 2, figsize=(14, 12))\n",
    "\n",
    "# Sentiment Distribution Pie Chart\n",
    "axs[0, 0].pie(sentiment_distribution, labels=sentiment_distribution.index, autopct='%1.1f%%', startangle=140)\n",
    "axs[0, 0].set_title('Sentiment Distribution')\n",
    "\n",
    "# Category Distribution Bar Chart\n",
    "category_distribution.plot(kind='bar', ax=axs[0, 1], color='orange')\n",
    "axs[0, 1].set_title('Category Distribution')\n",
    "axs[0, 1].set_ylabel('Number of Mentions')\n",
    "\n",
    "# Urgency Distribution Pie Chart\n",
    "axs[1, 0].pie(urgency_distribution, labels=urgency_distribution.index, autopct='%1.1f%%', startangle=140)\n",
    "axs[1, 0].set_title('Urgency Distribution')\n",
    "\n",
    "# Risks Distribution Bar Chart\n",
    "risk_distribution.plot(kind='bar', ax=axs[1, 1], color='green')\n",
    "axs[1, 1].set_title('Risk Distribution')\n",
    "axs[1, 1].set_ylabel('Number of Mentions')\n",
    "\n",
    "# Adjust layout to prevent overlapping\n",
    "plt.tight_layout()\n",
    "plt.show()"
   ]
  },
  {
   "cell_type": "code",
   "execution_count": 60,
   "metadata": {},
   "outputs": [
    {
     "data": {
      "text/plain": [
       "37"
      ]
     },
     "execution_count": 60,
     "metadata": {},
     "output_type": "execute_result"
    }
   ],
   "source": [
    "# Since risks are in a list format in each row, we'll check if any row contains non-empty lists\n",
    "risks_present = analysis_df['risks'].apply(lambda risks: len(risks) > 0)\n",
    "\n",
    "# Count how many reviews have mentioned risks\n",
    "number_of_risks = risks_present.sum()\n",
    "\n",
    "# Output the number of reviews mentioning risks\n",
    "number_of_risks\n"
   ]
  },
  {
   "cell_type": "code",
   "execution_count": 61,
   "metadata": {},
   "outputs": [
    {
     "data": {
      "text/plain": [
       "(116,\n",
       " [\"Compared to the likes of EVA Air or Qatar Airways, British Airways Club World is by far the poor relation. Flew from Glasgow to New York via LHR, the seats have zero storage apart from the small drawer at floor level. It is astonishing that for the money they charge, you have to step over the legs of the person on your outside, especially if you accidentally trip and land on top of them. Food was satisfactory although a small bacon roll for breakfast was again a poor show. AVOD was also satisfactory. Apart from the flat bed, this just really doesn't have a premium feel about it. On our recent trip, on both legs, the crew were excellent, but the product from our national flag carrier simply is not worth the premium prices they charge.\",\n",
       "  'LHR-Washington on a 777-200. Trip got off to a good start in the BA Concorde 1st Class lounge. Nice champagne and a nice quiet ambiance which I like. The place is starting to show signs of wear and tear - with sagging seat cushions. Plane was latest 1st Class and there was only 7 passengers including my wife and I. It seemed a little larger than the 1st I travelled on a month ago on an A380. Maybe it was because of the hideous centre console (that houses he folding table) was smaller - rather than take up half the space. To start we had a small  appetizer  (an Amuse Bouche) which was absolutely hideous. A sort of grilled cheese with burnt bits on it and some sort of couscous. It was foul and we left the lot. Both had a langoustine starter which was ok. The mushrooms with it was wet and horrible texture to the mouth. The soup we both had was nice. My cod dish was very good. My wife said the steak two ways was ok. The braised part she did not eat. Wines all ok. Service from the FAs was fine. In terms of overall quality BA really fail consistently to deliver. As a matter of curiosity I sourced the on way price the day before we left; £5543 - one way. Its an insane price and if I paid that I would be furious as to the product I experienced. Travelling in 1st is only worth it on  sale  offers or Avios. We are travelling back in Club as in my experienced the slightly shorter flight home in First is not worth the money or the Avios. So disappointing. BA really are clueless when it comes to understanding  quality .',\n",
       "  ' ',\n",
       "  'Bucharest to London Heathrow and the worst thing above all are the British Airways business class seats and the shocking lack of legroom. Cramped into a space which is less than many economy seats. And this was Club Europe! Poor breakfast - one slice of bacon, half tomato a few tinned mushrooms and an omelette so overcooked it was grey inside. Seat itself was comfortable and staff were good. Toilet waste bin had tape around it and so a sack was used for rubbish instead! Not a good flight overall.',\n",
       "  ' ',\n",
       "  \"Decided to upgrade and treat myself to BA's Club World. Check in at JFK was efficient. Fast track through to security was a breeze. BA's Galleries Lounge at JFK T7 was shared with Cathay Pacific and LOT Polish Airline. The lounge was spacious and clean. I was encouraged to have my dinner in the lounge as the service is a sleeper service. To my disappointmwnt, there wasn't enough food left although the selections were good but not the best. After my pre-flight dining, I decided to have a shower. The shower rooms were clean and amenities available on request. BA's Club World seat is around 20 inches wide which was very comfortable for the quick 5 hour flight back home. I was greeted by my name by the cabin crew who were friendly. IFE option was the same as flying economy clasd. Menu was handed out a along with Elemis amenity kit. The meals were good but portions could be better. Upon arrival in LHR, bags were delivered on time. I was told to pay a visit to their arrivals lounge but I didn't bother. Overall, I would fly with BA's Club World product again. Seat and bed was very comfortable and well maintained despite the ageing aircraft. Cabin crew friendly and enthusiastic. Just one thing that BA might want to consider is the food portions because their portions are baby sized portions.\",\n",
       "  \"Heathrow - Paris CDG return with British Airways. Bag drop at Terminal 5 quick and hassle free, checked in online so had my boarding pass on my phone. Security was busy at 13.00 but had an hour so no panic. First time I have used BA in 5 years without having access to the lounge through my frequent flyer status but the hour in the terminal pleasant. Boarding quick and seat 7A was spacious departed 20 minutes late with a 10 minute late arrival. Crew nice with a drink and snack provided on a 55 min flight. Return I had no checked baggage so straight through Terminal 2A which is a nice experience with shops and food outlets. Boarding at 17.45 for an 18.00 departure on to a half full A319, departed a little late which meant a late arrival in to T5. A nice flight, nice crew a drink and snack provided. Seat 24A with enough room. Pleasant trip for a short flight, I don't feel it's worth the extra cost for a business class seat, economy was fine. Will use again.\",\n",
       "  \"The staff were not friendly or even helpful. A pregnant lady beside me asked for help with her carry on and the answer was if you can't carry it, don't bring it on board. My husband asked for an extra pillow and he was told only one pillow per passenger. The lady beside my daughter was not given food and when she asked for it, the flight attendant answered in a loud voice  I did ask you  (which did not happen). So don't fly this airline unless you have no other choice.\",\n",
       "  \"Very disappointed with British Airways. Very little leg room, I'm only 5ft 7in but I had to sit sideways for the flight. Food very basic, only a roll on both the outward and the return flight at 5.30pm. Other airlines offer a snack. Wouldn't travel British Airways again, budget airlines have more leg room.\",\n",
       "  ' '])"
      ]
     },
     "execution_count": 61,
     "metadata": {},
     "output_type": "execute_result"
    }
   ],
   "source": [
    "# First, we'll see how many reviews contain additional information\n",
    "additional_info_present = analysis_df['additional_info'].apply(lambda info: len(info.strip()) > 0)\n",
    "\n",
    "# Count how many reviews have additional information\n",
    "number_of_additional_info = additional_info_present.sum()\n",
    "\n",
    "# Show some examples of the additional information provided, if available\n",
    "additional_info_examples = analysis_df[analysis_df['additional_info'] != '']['additional_info'].head(10).tolist()\n",
    "\n",
    "number_of_additional_info, additional_info_examples\n"
   ]
  },
  {
   "cell_type": "code",
   "execution_count": 30,
   "metadata": {},
   "outputs": [
    {
     "data": {
      "text/html": [
       "<div>\n",
       "<style scoped>\n",
       "    .dataframe tbody tr th:only-of-type {\n",
       "        vertical-align: middle;\n",
       "    }\n",
       "\n",
       "    .dataframe tbody tr th {\n",
       "        vertical-align: top;\n",
       "    }\n",
       "\n",
       "    .dataframe thead th {\n",
       "        text-align: right;\n",
       "    }\n",
       "</style>\n",
       "<table border=\"1\" class=\"dataframe\">\n",
       "  <thead>\n",
       "    <tr style=\"text-align: right;\">\n",
       "      <th></th>\n",
       "      <th>sentiment</th>\n",
       "      <th>categories</th>\n",
       "      <th>urgency</th>\n",
       "      <th>risks</th>\n",
       "      <th>additional_info</th>\n",
       "    </tr>\n",
       "  </thead>\n",
       "  <tbody>\n",
       "    <tr>\n",
       "      <th>0</th>\n",
       "      <td>Positive</td>\n",
       "      <td>[in-flight service, seating, staff behavior]</td>\n",
       "      <td>Non-Immediate</td>\n",
       "      <td>[]</td>\n",
       "      <td></td>\n",
       "    </tr>\n",
       "    <tr>\n",
       "      <th>1</th>\n",
       "      <td>Positive</td>\n",
       "      <td>[in-flight service, baggage handling, ticketin...</td>\n",
       "      <td>Immediate</td>\n",
       "      <td>[harm]</td>\n",
       "      <td></td>\n",
       "    </tr>\n",
       "    <tr>\n",
       "      <th>2</th>\n",
       "      <td>Positive</td>\n",
       "      <td>[in-flight service, staff behavior, entertainm...</td>\n",
       "      <td>Non-Immediate</td>\n",
       "      <td>[]</td>\n",
       "      <td></td>\n",
       "    </tr>\n",
       "    <tr>\n",
       "      <th>3</th>\n",
       "      <td>Positive</td>\n",
       "      <td>[in-flight service, ticketing, seating]</td>\n",
       "      <td>Non-Immediate</td>\n",
       "      <td>[]</td>\n",
       "      <td></td>\n",
       "    </tr>\n",
       "    <tr>\n",
       "      <th>4</th>\n",
       "      <td>Positive</td>\n",
       "      <td>[in-flight service, baggage handling, ticketin...</td>\n",
       "      <td>Immediate</td>\n",
       "      <td>[]</td>\n",
       "      <td></td>\n",
       "    </tr>\n",
       "  </tbody>\n",
       "</table>\n",
       "</div>"
      ],
      "text/plain": [
       "  sentiment                                         categories        urgency  \\\n",
       "0  Positive       [in-flight service, seating, staff behavior]  Non-Immediate   \n",
       "1  Positive  [in-flight service, baggage handling, ticketin...      Immediate   \n",
       "2  Positive  [in-flight service, staff behavior, entertainm...  Non-Immediate   \n",
       "3  Positive            [in-flight service, ticketing, seating]  Non-Immediate   \n",
       "4  Positive  [in-flight service, baggage handling, ticketin...      Immediate   \n",
       "\n",
       "    risks additional_info  \n",
       "0      []                  \n",
       "1  [harm]                  \n",
       "2      []                  \n",
       "3      []                  \n",
       "4      []                  "
      ]
     },
     "execution_count": 30,
     "metadata": {},
     "output_type": "execute_result"
    }
   ],
   "source": [
    "analysis_df.head()"
   ]
  },
  {
   "cell_type": "code",
   "execution_count": 62,
   "metadata": {},
   "outputs": [
    {
     "data": {
      "text/html": [
       "<div>\n",
       "<style scoped>\n",
       "    .dataframe tbody tr th:only-of-type {\n",
       "        vertical-align: middle;\n",
       "    }\n",
       "\n",
       "    .dataframe tbody tr th {\n",
       "        vertical-align: top;\n",
       "    }\n",
       "\n",
       "    .dataframe thead th {\n",
       "        text-align: right;\n",
       "    }\n",
       "</style>\n",
       "<table border=\"1\" class=\"dataframe\">\n",
       "  <thead>\n",
       "    <tr style=\"text-align: right;\">\n",
       "      <th></th>\n",
       "      <th>sentiment_score</th>\n",
       "      <th>urgency_score</th>\n",
       "      <th>category_count</th>\n",
       "      <th>risk_count</th>\n",
       "    </tr>\n",
       "  </thead>\n",
       "  <tbody>\n",
       "    <tr>\n",
       "      <th>sentiment_score</th>\n",
       "      <td>1.000000</td>\n",
       "      <td>0.031517</td>\n",
       "      <td>0.071408</td>\n",
       "      <td>0.028677</td>\n",
       "    </tr>\n",
       "    <tr>\n",
       "      <th>urgency_score</th>\n",
       "      <td>0.031517</td>\n",
       "      <td>1.000000</td>\n",
       "      <td>0.248460</td>\n",
       "      <td>0.129834</td>\n",
       "    </tr>\n",
       "    <tr>\n",
       "      <th>category_count</th>\n",
       "      <td>0.071408</td>\n",
       "      <td>0.248460</td>\n",
       "      <td>1.000000</td>\n",
       "      <td>0.053424</td>\n",
       "    </tr>\n",
       "    <tr>\n",
       "      <th>risk_count</th>\n",
       "      <td>0.028677</td>\n",
       "      <td>0.129834</td>\n",
       "      <td>0.053424</td>\n",
       "      <td>1.000000</td>\n",
       "    </tr>\n",
       "  </tbody>\n",
       "</table>\n",
       "</div>"
      ],
      "text/plain": [
       "                 sentiment_score  urgency_score  category_count  risk_count\n",
       "sentiment_score         1.000000       0.031517        0.071408    0.028677\n",
       "urgency_score           0.031517       1.000000        0.248460    0.129834\n",
       "category_count          0.071408       0.248460        1.000000    0.053424\n",
       "risk_count              0.028677       0.129834        0.053424    1.000000"
      ]
     },
     "execution_count": 62,
     "metadata": {},
     "output_type": "execute_result"
    }
   ],
   "source": [
    "# Apply safe_literal_eval function to 'categories' and 'risks' columns\n",
    "analysis_df['categories'] = analysis_df['categories'].apply(safe_literal_eval)\n",
    "analysis_df['risks'] = analysis_df['risks'].apply(safe_literal_eval)\n",
    "\n",
    "# Add a new column that counts the number of categories mentioned in each review\n",
    "analysis_df['category_count'] = analysis_df['categories'].apply(len)\n",
    "\n",
    "# Add a new column that counts the number of risks mentioned in each review\n",
    "analysis_df['risk_count'] = analysis_df['risks'].apply(len)\n",
    "\n",
    "# Now we'll convert categorical columns to numerical values for correlation analysis\n",
    "# For sentiment, we'll map Positive to 1, Neutral to 0, and Negative to -1\n",
    "sentiment_mapping = {'Positive': 1, 'Neutral': 0, 'Negative': -1}\n",
    "analysis_df['sentiment_score'] = analysis_df['sentiment'].map(sentiment_mapping)\n",
    "\n",
    "# For urgency, we'll map Immediate to 1 and Non-Immediate to 0\n",
    "urgency_mapping = {'Immediate': 1, 'Non-Immediate': 0}\n",
    "analysis_df['urgency_score'] = analysis_df['urgency'].map(urgency_mapping)\n",
    "\n",
    "# Now we can calculate correlations\n",
    "correlation_matrix = analysis_df[['sentiment_score', 'urgency_score', 'category_count', 'risk_count']].corr()\n",
    "\n",
    "correlation_matrix\n"
   ]
  },
  {
   "cell_type": "markdown",
   "metadata": {},
   "source": [
    "1. **Sentiment Score**:\n",
    "   - The sentiment score has a very low positive correlation with the urgency score (\\(0.031517\\)), indicating that the sentiment of the feedback (positive, neutral, negative) has very little to do with the urgency assigned to it.\n",
    "   - There is a low positive correlation between the sentiment score and the category count (\\(0.071408\\)), which could imply that feedback with a higher number of categories mentioned is slightly more likely to be positive, but the correlation is still weak.\n",
    "   - The sentiment score has a very low positive correlation with the risk count (\\(0.028677\\)), suggesting that the presence of risks in the feedback doesn't strongly influence whether the sentiment is positive or negative.\n",
    "\n",
    "2. **Urgency Score**:\n",
    "   - As already noted, there's a very low positive correlation between urgency score and sentiment score.\n",
    "   - There is a moderate positive correlation between the urgency score and the category count (\\(0.248460\\)), suggesting that feedback mentioning more categories is somewhat more likely to be marked as urgent. This makes sense as feedback concerning multiple areas might require more immediate attention.\n",
    "   - The urgency score has a low positive correlation with the risk count (\\(0.129834\\)), implying that feedback with identified risks is somewhat more likely to be considered urgent, which aligns with what one might expect intuitively.\n",
    "\n",
    "3. **Category Count**:\n",
    "   - There is a low positive correlation between the category count and both the sentiment score and the urgency score, as mentioned above.\n",
    "   - The category count has a very low positive correlation with the risk count (\\(0.053424\\)), suggesting that having more categories mentioned in the feedback doesn't significantly increase the likelihood that risks will be identified.\n",
    "\n",
    "4. **Risk Count**:\n",
    "   - The correlations of the risk count with both the sentiment score and the category count are very low, indicating that the number of risks identified in feedback is mostly independent of the sentiment and the number of categories mentioned.\n"
   ]
  },
  {
   "cell_type": "code",
   "execution_count": null,
   "metadata": {},
   "outputs": [],
   "source": []
  }
 ],
 "metadata": {
  "kernelspec": {
   "display_name": "base",
   "language": "python",
   "name": "python3"
  },
  "language_info": {
   "codemirror_mode": {
    "name": "ipython",
    "version": 3
   },
   "file_extension": ".py",
   "mimetype": "text/x-python",
   "name": "python",
   "nbconvert_exporter": "python",
   "pygments_lexer": "ipython3",
   "version": "3.9.10"
  }
 },
 "nbformat": 4,
 "nbformat_minor": 2
}
