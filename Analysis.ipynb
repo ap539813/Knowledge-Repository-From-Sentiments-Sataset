{
 "cells": [
  {
   "cell_type": "markdown",
   "metadata": {},
   "source": [
    "### Step 1: Load and Explore the Dataset\n",
    "\n",
    "I'll begin by loading the dataset into a pandas DataFrame and taking a quick look at the first few rows.\n"
   ]
  },
  {
   "cell_type": "code",
   "execution_count": 17,
   "metadata": {},
   "outputs": [],
   "source": [
    "import pandas as pd"
   ]
  },
  {
   "cell_type": "code",
   "execution_count": 18,
   "metadata": {},
   "outputs": [
    {
     "data": {
      "text/html": [
       "<div>\n",
       "<style scoped>\n",
       "    .dataframe tbody tr th:only-of-type {\n",
       "        vertical-align: middle;\n",
       "    }\n",
       "\n",
       "    .dataframe tbody tr th {\n",
       "        vertical-align: top;\n",
       "    }\n",
       "\n",
       "    .dataframe thead th {\n",
       "        text-align: right;\n",
       "    }\n",
       "</style>\n",
       "<table border=\"1\" class=\"dataframe\">\n",
       "  <thead>\n",
       "    <tr style=\"text-align: right;\">\n",
       "      <th></th>\n",
       "      <th>review</th>\n",
       "    </tr>\n",
       "  </thead>\n",
       "  <tbody>\n",
       "    <tr>\n",
       "      <th>0</th>\n",
       "      <td>The service was excellent. The cabin staff we...</td>\n",
       "    </tr>\n",
       "    <tr>\n",
       "      <th>1</th>\n",
       "      <td>We have had some torrid experiences with BA -...</td>\n",
       "    </tr>\n",
       "    <tr>\n",
       "      <th>2</th>\n",
       "      <td>We had a flight from ZRH to SFO via LHR. The l...</td>\n",
       "    </tr>\n",
       "    <tr>\n",
       "      <th>3</th>\n",
       "      <td>London to Paris. I wish that they would updat...</td>\n",
       "    </tr>\n",
       "    <tr>\n",
       "      <th>4</th>\n",
       "      <td>JFK to LHR. Empty check in and priority securi...</td>\n",
       "    </tr>\n",
       "  </tbody>\n",
       "</table>\n",
       "</div>"
      ],
      "text/plain": [
       "                                              review\n",
       "0   The service was excellent. The cabin staff we...\n",
       "1   We have had some torrid experiences with BA -...\n",
       "2  We had a flight from ZRH to SFO via LHR. The l...\n",
       "3   London to Paris. I wish that they would updat...\n",
       "4  JFK to LHR. Empty check in and priority securi..."
      ]
     },
     "execution_count": 18,
     "metadata": {},
     "output_type": "execute_result"
    }
   ],
   "source": [
    "\n",
    "\n",
    "# Load the dataset\n",
    "airlines_reviews_df = pd.read_csv('airlines_reviews.csv')\n",
    "\n",
    "# Display the first few rows of the dataset\n",
    "airlines_reviews_df.head()\n"
   ]
  },
  {
   "cell_type": "markdown",
   "metadata": {},
   "source": [
    "### Step 2: Information Retrieval\n",
    "1. **Sentiment Analysis**: We'll gauge the sentiment of each review. This can be broadly categorized as positive, negative, or neutral.\n",
    "2. **Category of Complaints**: By using keyword extraction or topic modeling, we can identify common categories of complaints or feedback.\n",
    "3. **Urgency**: While determining urgency directly from the reviews might be challenging, we can infer urgency by looking for specific keywords or phrases that indicate immediate issues or concerns.\n",
    "4. **Risks**: We can identify potential risks by searching for keywords that might indicate safety or health concerns.\n",
    "5. **Other Information**: Depending on the reviews' content, we might identify other patterns or keywords that can provide additional insights."
   ]
  },
  {
   "cell_type": "markdown",
   "metadata": {},
   "source": [
    "### Step 3: Define a Pydantic Model\n",
    "We'll define a Pydantic model to structure the information we retrieve from the reviews. This will ensure that the extracted data is validated and serialized in a consistent manner."
   ]
  },
  {
   "cell_type": "code",
   "execution_count": 19,
   "metadata": {},
   "outputs": [
    {
     "data": {
      "text/plain": [
       "{'sentiment': 'Positive',\n",
       " 'categories': ['In-flight Service'],\n",
       " 'urgency': 'Non-Immediate',\n",
       " 'risks': [],\n",
       " 'additional_info': 'Staff were very friendly and accommodating.'}"
      ]
     },
     "execution_count": 19,
     "metadata": {},
     "output_type": "execute_result"
    }
   ],
   "source": [
    "from pydantic import BaseModel\n",
    "from typing import Optional, List\n",
    "\n",
    "# Define the schema for the knowledge repository\n",
    "class ReviewAnalysis(BaseModel):\n",
    "    sentiment: Optional[str]  # This will be 'Positive', 'Neutral', or 'Negative'\n",
    "    categories: Optional[List[str]]  # Categories of complaints or feedback\n",
    "    urgency: Optional[str]  # This will be 'Immediate' or 'Non-Immediate'\n",
    "    risks: Optional[List[str]]  # List of any risks mentioned\n",
    "    additional_info: Optional[str]  # Any other useful information extracted from the review\n",
    "\n",
    "example_review_analysis = ReviewAnalysis(\n",
    "    sentiment='Positive',\n",
    "    categories=['In-flight Service'],\n",
    "    urgency='Non-Immediate',\n",
    "    risks=[],\n",
    "    additional_info='Staff were very friendly and accommodating.'\n",
    ")\n",
    "\n",
    "example_review_analysis.dict()\n"
   ]
  },
  {
   "cell_type": "markdown",
   "metadata": {},
   "source": [
    "The schema for our knowledge repository has been defined using Pydantic. Each ReviewAnalysis object includes:\n",
    "\n",
    "- **sentiment**: A string that can be 'Positive', 'Neutral', or 'Negative'.\n",
    "- **categories**: A list of strings representing different categories of complaints or feedback.\n",
    "- **urgency**: A string that can be 'Immediate' or 'Non-Immediate'.\n",
    "- **risks**: A list of strings indicating any risks mentioned in the review.\n",
    "- **additional_info**: A string containing any other useful information extracted from the review."
   ]
  },
  {
   "cell_type": "markdown",
   "metadata": {},
   "source": [
    "## Analyse Review"
   ]
  },
  {
   "cell_type": "markdown",
   "metadata": {},
   "source": [
    "Now we will need to process the dataset to populate instances of ReviewAnalysis with actual data from the reviews. We'll create a function to analyze each review and then apply this function to the dataset.\n",
    "\n",
    "The function will need to:\n",
    "\n",
    "- Determine the sentiment of the review.\n",
    "- Categorize the content of the review.\n",
    "- Assess urgency and identify any risks.\n",
    "- Extract any additional relevant information."
   ]
  },
  {
   "cell_type": "code",
   "execution_count": 20,
   "metadata": {},
   "outputs": [
    {
     "data": {
      "text/plain": [
       "[ReviewAnalysis(sentiment='Positive', categories=['in-flight service', 'seating', 'staff behavior'], urgency='Non-Immediate', risks=[], additional_info=''),\n",
       " ReviewAnalysis(sentiment='Positive', categories=['in-flight service', 'baggage handling', 'ticketing', 'seating', 'staff behavior', 'delays'], urgency='Immediate', risks=['harm'], additional_info=''),\n",
       " ReviewAnalysis(sentiment='Positive', categories=['in-flight service', 'staff behavior', 'entertainment', 'cleanliness'], urgency='Non-Immediate', risks=[], additional_info=''),\n",
       " ReviewAnalysis(sentiment='Positive', categories=['in-flight service', 'ticketing', 'seating'], urgency='Non-Immediate', risks=[], additional_info=''),\n",
       " ReviewAnalysis(sentiment='Positive', categories=['in-flight service', 'baggage handling', 'ticketing', 'staff behavior', 'delays', 'entertainment'], urgency='Immediate', risks=[], additional_info='')]"
      ]
     },
     "execution_count": 20,
     "metadata": {},
     "output_type": "execute_result"
    }
   ],
   "source": [
    "from textblob import TextBlob\n",
    "import re\n",
    "\n",
    "# Function to analyze each review\n",
    "def analyze_review(review):\n",
    "    # Analyze sentiment using TextBlob\n",
    "    analysis = TextBlob(review)\n",
    "    sentiment = 'Positive' if analysis.sentiment.polarity > 0 else 'Negative' if analysis.sentiment.polarity < 0 else 'Neutral'\n",
    "    \n",
    "    # Determine the category based on keywords (very simplistic approach)\n",
    "    review_categories = []\n",
    "    categories = {\n",
    "    \"in-flight service\": [\"cabin\", \"service\", \"in-flight\", \"meal\", \"food\", \"beverage\", \"snack\", \"drink\", \"attendant\", \"catering\", \"menu\", \n",
    "                          \"quality\", \"choice\", \"selection\", \"dining\", \"refreshment\", \"crew service\", \"presentation\", \"cuisine\", \"variety\", \n",
    "                          \"dietary options\", \"taste\", \"culinary\", \"hot meal\", \"cold meal\", \"special meal\", \"onboard service\", \"flight attendant\", \n",
    "                          \"airline food\", \"gourmet\", \"beverage cart\", \"coffee\", \"tea\", \"alcohol\", \"wine\", \"beer\", \"soft drink\", \"complimentary\", \n",
    "                          \"pay\", \"purchase\", \"onboard menu\", \"breakfast\", \"lunch\", \"dinner\", \"appetizer\", \"dessert\", \"main course\", \"salad\", \n",
    "                          \"vegetarian\", \"vegan\", \"gluten-free\", \"kid's meal\", \"baby food\", \"halal\", \"kosher\"],\n",
    "    \"baggage handling\": [\"baggage\", \"luggage\", \"lost\", \"damaged\", \"delayed\", \"check-in\", \"claim\", \"carousel\", \"overhead bin\", \"carry-on\", \n",
    "                         \"check\", \"lost and found\", \"missing\", \"tag\", \"weight limit\", \"excess baggage\", \"oversize\", \"fragile\", \"security\", \n",
    "                         \"handling\", \"retrieval\", \"lost property\", \"baggage service\", \"locker\", \"storage\", \"baggage allowance\", \"baggage fee\", \n",
    "                         \"hand luggage\", \"suitcase\", \"backpack\", \"duffle bag\", \"checked luggage\", \"baggage claim area\", \"baggage belt\", \n",
    "                         \"tracking\", \"baggage policy\", \"baggage handler\", \"lost luggage office\", \"airport luggage\", \"baggage delay\", \n",
    "                         \"baggage damage\"],\n",
    "    \"ticketing\": [\"ticket\", \"booking\", \"reservation\", \"price\", \"cost\", \"charge\", \"fare\", \"booking fee\", \"e-ticket\", \"online booking\", \"reservation number\", \n",
    "                  \"travel agent\", \"ticket counter\", \"boarding pass\", \"class\", \"economy\", \"business\", \"first class\", \"upgrade\", \"discount\", \"deal\", \n",
    "                  \"offer\", \"refund\", \"cancellation\", \"change fee\", \"no-show\", \"itinerary\", \"round trip\", \"one way\", \"direct flight\", \n",
    "                  \"connecting flight\", \"date change\", \"seat selection\", \"booking confirmation\", \"booking process\", \"early bird\", \"last minute\", \n",
    "                  \"flexible ticket\", \"non-refundable\", \"refundable\", \"group booking\", \"ticket office\", \"airline website\", \"booking platform\", \n",
    "                  \"travel website\", \"promo code\", \"voucher\", \"airfare\", \"ticket price\", \"booking experience\"],\n",
    "    \"seating\": [\"seat\", \"legroom\", \"space\", \"comfort\", \"recline\", \"position\", \"aisle\", \"window\", \"middle seat\", \"exit row\", \"bulkhead\", \n",
    "                \"seating arrangement\", \"seat pitch\", \"seat width\", \"armrest\", \"headrest\", \"seat cushion\", \"seat selection\", \"seat upgrade\", \n",
    "                \"seat map\", \"seat allocation\", \"seat preference\", \"overhead space\", \"seatbelt\", \"cabin layout\", \"economy class seating\", \n",
    "                \"business class seating\", \"first class seating\", \"premium economy\", \"seating comfort\", \"seat adjustment\", \"ergonomic seat\", \n",
    "                \"seatback\", \"underseat storage\", \"seat reservation\", \"extra legroom\", \"cramped\", \"spacious\", \"comfortable seating\", \"uncomfortable seat\", \n",
    "                \"aisle access\", \"window view\", \"seat capacity\", \"cabin class\"],\n",
    "    \"staff behavior\": [\"staff\", \"crew\", \"attendant\", \"rude\", \"friendly\", \"helpful\", \"polite\", \"unprofessional\", \"courteous\", \"attentive\", \"hostile\", \n",
    "                       \"welcoming\", \"efficient\", \"inattentive\", \"service-oriented\", \"customer service\", \"professionalism\", \"smiling\", \"interaction\", \n",
    "                       \"crew member\", \"flight crew\", \"cabin crew\", \"airline staff\", \"customer support\", \"ground staff\", \"gate agent\", \"check-in staff\", \n",
    "                       \"crew attitude\", \"staff attitude\", \"crew behavior\", \"service level\", \"staff assistance\", \"crew assistance\", \"helpfulness\", \n",
    "                       \"responsiveness\", \"language skills\", \"communication skills\", \"problem solving\", \"empathy\", \"approachability\", \"friendliness\", \n",
    "                       \"respectfulness\", \"teamwork\", \"crew efficiency\", \"customer interaction\", \"personal touch\", \"staff presence\", \"service quality\", \n",
    "                       \"staff performance\"],\n",
    "    \"delays\": [\"delay\", \"late\", \"wait\", \"time\", \"hour\", \"postponed\", \"rescheduled\", \"holdup\", \"downtime\", \"flight delay\", \"boarding delay\", \n",
    "               \"departure delay\", \"arrival delay\", \"delayed flight\", \"long wait\", \"waiting time\", \"schedule change\", \"on-time\", \"late departure\", \n",
    "               \"late arrival\", \"delay announcement\", \"delay reason\", \"weather delay\", \"mechanical delay\", \"air traffic delay\", \"security delay\", \n",
    "               \"crew delay\", \"delay compensation\", \"delayed baggage\", \"extended wait\", \"delay notification\", \"flight status\", \"schedule disruption\", \n",
    "               \"unforeseen delay\", \"minor delay\", \"major delay\", \"operational delay\", \"system delay\", \"ground delay\", \"gate hold\", \"tarmac delay\", \n",
    "               \"aircraft delay\", \"connection delay\", \"travel disruption\", \"delayed connection\", \"prolonged delay\"],\n",
    "    \"entertainment\": [\"entertainment\", \"screen\", \"movie\", \"audio\", \"headphone\", \"music\", \"film\", \"TV\", \"television\", \"game\", \"in-flight entertainment\", \n",
    "                      \"video\", \"onboard entertainment\", \"media\", \"selection\", \"content\", \"entertainment system\", \"movie selection\", \"audio channel\", \n",
    "                      \"headset\", \"earphone\", \"touch screen\", \"remote control\", \"streaming\", \"Wi-Fi\", \"internet\", \"USB port\", \"power outlet\", \"app\", \n",
    "                      \"in-flight movie\", \"TV show\", \"documentary\", \"series\", \"kids entertainment\", \"entertainment options\", \"in-flight music\", \n",
    "                      \"audio entertainment\", \"entertainment quality\", \"interactive entertainment\", \"personal screen\", \"overhead screen\", \"seatback screen\", \n",
    "                      \"entertainment variety\", \"onboard Wi-Fi\", \"in-flight Wi-Fi\", \"entertainment experience\", \"flight entertainment\", \"audio book\", \n",
    "                      \"entertainment library\", \"multimedia\", \"video game\"],\n",
    "    \"safety\": [\"safety\", \"emergency\", \"seatbelt\", \"landing\", \"takeoff\", \"safety demonstration\", \"safety video\", \"flight safety\", \"aircraft safety\", \n",
    "               \"safety procedures\", \"safety briefing\", \"safety measures\", \"safety equipment\", \"emergency exit\", \"life jacket\", \"oxygen mask\", \n",
    "               \"security procedures\", \"safety announcement\", \"evacuation\", \"safety check\", \"emergency procedure\", \"safety instructions\", \n",
    "               \"safety features\", \"safety protocol\", \"safety record\", \"safety standards\", \"airline safety\", \"flight attendant safety\", \n",
    "               \"cabin safety\", \"safety compliance\", \"safety regulations\", \"safety guidelines\", \"safety training\", \"safety management\", \n",
    "               \"security check\", \"safety audit\", \"safety performance\", \"safety culture\", \"safety practice\", \"safety policy\", \"safety concern\", \n",
    "               \"safety tips\", \"safety information\", \"flight security\", \"safety awareness\", \"safety priority\", \"safety announcement\", \n",
    "               \"emergency response\"],\n",
    "    \"cleanliness\": [\"clean\", \"dirty\", \"maintained\", \"hygiene\", \"sanitary\", \"tidy\", \"cleanliness\", \"unclean\", \"filthy\", \"spotless\", \"disinfect\", \n",
    "                    \"sanitization\", \"cleaning\", \"maintenance\", \"washroom\", \"bathroom\", \"restroom\", \"cabin clean\", \"hygienic\", \"litter\", \"trash\", \n",
    "                    \"waste\", \"cleaning crew\", \"cleaning standards\", \"cleaning service\", \"dust\", \"spill\", \"stain\", \"cleanliness level\", \"sanitation\", \n",
    "                    \"germ-free\", \"neat\", \"disinfection\", \"cleaning procedure\", \"sweep\", \"mop\", \"wipe\", \"cleaner\", \"cleaning staff\", \"cleaning policy\", \n",
    "                    \"cleaning frequency\", \"aircraft cleanliness\", \"seat cleanliness\", \"lavatory\", \"cabin condition\", \"cleaning supplies\", \n",
    "                    \"surface cleaning\", \"deep cleaning\", \"cabin upkeep\", \"sanitary condition\", \"hygiene standards\", \"hygiene practices\", \n",
    "                    \"hygiene level\", \"cleaning quality\", \"cleanliness rating\"]\n",
    "}\n",
    "\n",
    "    for category, keywords in categories.items():\n",
    "        if any(keyword in review.lower() for keyword in keywords):\n",
    "            review_categories.append(category)\n",
    "    \n",
    "    # Urgency and risks would also typically be determined by keywords or ML models. \n",
    "    # For now, we will use simple keywords, this will ofcourse be canged if needed\n",
    "    urgency_keys = [\n",
    "        \"immediate\", \"urgent\", \"critical\", \"priority\", \"pressing\", \"important\", \"necessary\", \"essential\", \"crucial\", \n",
    "        \"prompt\", \"swift\", \"rapid\", \"quick\", \"hasty\", \"speedy\", \"fast\", \"expedite\", \"accelerate\", \"rush\", \"hurry\",\n",
    "        \"asap\", \"now\", \"instant\", \"emergency\", \"dire\", \"acute\", \"demanding\", \"imperative\", \"compelling\", \"serious\", \n",
    "        \"vital\", \"timely\", \"sudden\", \"urgent matter\", \"urgent issue\", \"urgent need\", \"urgent request\", \"urgent attention\", \n",
    "        \"immediately required\", \"high priority\", \"urgent action\", \"urgent assistance\", \"urgent help\", \"urgent response\", \n",
    "        \"urgent service\", \"urgent support\", \"urgent treatment\", \"urgent work\", \"urgent care\", \"urgent delivery\", \n",
    "        \"urgent repair\", \"urgent solution\", \"urgent handling\", \"urgent matter\", \"urgent query\", \"urgent problem\", \n",
    "        \"urgent situation\", \"urgent case\", \"urgent basis\", \"urgent attention needed\", \"urgent fix\", \"urgent resolution\", \n",
    "        \"urgent concern\", \"urgent call\", \"urgent demand\", \"urgent need for action\", \"urgent follow-up\", \"urgent response needed\",\n",
    "        \"urgent update\", \"urgent matter\", \"urgent request\"\n",
    "    ]\n",
    "\n",
    "    # Assuming review is a string containing the review text\n",
    "    review_lower = review.lower()\n",
    "    urgency = 'Immediate' if any(key in review_lower for key in urgency_keys) else 'Non-Immediate'\n",
    "\n",
    "    \n",
    "    # Risks might include words like 'danger', 'unsafe', 'risk', 'emergency'\n",
    "    risk_keywords = [\n",
    "        'danger', 'unsafe', 'risk', 'emergency', 'hazard', 'threat', 'peril', 'jeopardy', 'alarm', 'warning', \n",
    "        'critical', 'serious', 'severe', 'harm', 'damage', 'vulnerable', 'threatening', 'menace', 'risky', 'precarious', \n",
    "        'uncertain', 'unsure', 'dubious', 'dicey', 'iffy', 'shaky', 'treacherous', 'adverse', 'insecure', 'unstable', \n",
    "        'volatile', 'susceptible', 'exposure', 'liability', 'endanger', 'jeopardize', 'compromise', 'perilous', 'injury', \n",
    "        'accident', 'incident', 'mishap', 'breach', 'violation', 'infraction', 'noncompliance', 'contravention', 'transgression', \n",
    "        'offense', 'negligence', 'reckless', 'careless', 'irresponsible', 'imprudent', 'unwise', 'ill-advised', 'imperil', \n",
    "        'catastrophe', 'disaster', 'calamity', 'tragedy', 'crisis', 'emergency situation', 'unsafe conditions', 'hazardous', \n",
    "        'fatal', 'lethal', 'deadly', 'mortal', 'toxic', 'contamination', 'pollution', 'spill', 'leak', 'outbreak', 'pandemic', \n",
    "        'epidemic', 'infectious', 'contagious', 'health hazard', 'safety hazard', 'security risk', 'cyber risk', 'financial risk'\n",
    "    ]\n",
    "\n",
    "    risks = [word for word in risk_keywords if word in review.lower()]\n",
    "    \n",
    "    # For additional info, we might extract anything in quotes as a simple proxy for specific comments.\n",
    "    additional_info = ' '.join(re.findall(r'\"(.*?)\"', review))\n",
    "    \n",
    "    return ReviewAnalysis(\n",
    "        sentiment=sentiment,\n",
    "        categories=tuple(review_categories),\n",
    "        urgency=urgency,\n",
    "        risks=risks,\n",
    "        additional_info=additional_info\n",
    "    )\n",
    "\n",
    "# Apply the function to a small subset of the dataset to test it\n",
    "sample_reviews_analysis = airlines_reviews_df['review'].head().apply(analyze_review)\n",
    "sample_reviews_analysis.tolist()\n"
   ]
  },
  {
   "cell_type": "markdown",
   "metadata": {},
   "source": [
    "In the above output, for each review, we have:\n",
    "\n",
    "- **sentiment**: Determined as 'Positive' or 'Negative' based on the polarity of the text.\n",
    "- **categories**: Identified based on predefined keywords related to common airline service categories.\n",
    "- **urgency**: Assessed as 'Immediate' or 'Non-Immediate' based on specific keywords in the text.\n",
    "- **risks**: Identified by the presence of risk-related keywords.\n",
    "- **additional_info**: Extracted as text within quotes."
   ]
  },
  {
   "cell_type": "code",
   "execution_count": 21,
   "metadata": {},
   "outputs": [
    {
     "data": {
      "text/plain": [
       "500"
      ]
     },
     "execution_count": 21,
     "metadata": {},
     "output_type": "execute_result"
    }
   ],
   "source": [
    "# Let's check the size of the dataset to decide how to proceed\n",
    "dataset_size = len(airlines_reviews_df)\n",
    "dataset_size\n"
   ]
  },
  {
   "cell_type": "markdown",
   "metadata": {},
   "source": [
    "The dataset contains 500 reviews, which is a manageable size for processing in one go without the need for chunking. We'll apply the analysis function to the entire dataset, store the results in a new DataFrame, and then extract insights."
   ]
  },
  {
   "cell_type": "code",
   "execution_count": 22,
   "metadata": {},
   "outputs": [
    {
     "data": {
      "text/html": [
       "<div>\n",
       "<style scoped>\n",
       "    .dataframe tbody tr th:only-of-type {\n",
       "        vertical-align: middle;\n",
       "    }\n",
       "\n",
       "    .dataframe tbody tr th {\n",
       "        vertical-align: top;\n",
       "    }\n",
       "\n",
       "    .dataframe thead th {\n",
       "        text-align: right;\n",
       "    }\n",
       "</style>\n",
       "<table border=\"1\" class=\"dataframe\">\n",
       "  <thead>\n",
       "    <tr style=\"text-align: right;\">\n",
       "      <th></th>\n",
       "      <th>sentiment</th>\n",
       "      <th>categories</th>\n",
       "      <th>urgency</th>\n",
       "      <th>risks</th>\n",
       "      <th>additional_info</th>\n",
       "    </tr>\n",
       "  </thead>\n",
       "  <tbody>\n",
       "    <tr>\n",
       "      <th>0</th>\n",
       "      <td>Positive</td>\n",
       "      <td>[in-flight service, seating, staff behavior]</td>\n",
       "      <td>Non-Immediate</td>\n",
       "      <td>[]</td>\n",
       "      <td></td>\n",
       "    </tr>\n",
       "    <tr>\n",
       "      <th>1</th>\n",
       "      <td>Positive</td>\n",
       "      <td>[in-flight service, baggage handling, ticketin...</td>\n",
       "      <td>Immediate</td>\n",
       "      <td>[harm]</td>\n",
       "      <td></td>\n",
       "    </tr>\n",
       "    <tr>\n",
       "      <th>2</th>\n",
       "      <td>Positive</td>\n",
       "      <td>[in-flight service, staff behavior, entertainm...</td>\n",
       "      <td>Non-Immediate</td>\n",
       "      <td>[]</td>\n",
       "      <td></td>\n",
       "    </tr>\n",
       "    <tr>\n",
       "      <th>3</th>\n",
       "      <td>Positive</td>\n",
       "      <td>[in-flight service, ticketing, seating]</td>\n",
       "      <td>Non-Immediate</td>\n",
       "      <td>[]</td>\n",
       "      <td></td>\n",
       "    </tr>\n",
       "    <tr>\n",
       "      <th>4</th>\n",
       "      <td>Positive</td>\n",
       "      <td>[in-flight service, baggage handling, ticketin...</td>\n",
       "      <td>Immediate</td>\n",
       "      <td>[]</td>\n",
       "      <td></td>\n",
       "    </tr>\n",
       "  </tbody>\n",
       "</table>\n",
       "</div>"
      ],
      "text/plain": [
       "  sentiment                                         categories        urgency  \\\n",
       "0  Positive       [in-flight service, seating, staff behavior]  Non-Immediate   \n",
       "1  Positive  [in-flight service, baggage handling, ticketin...      Immediate   \n",
       "2  Positive  [in-flight service, staff behavior, entertainm...  Non-Immediate   \n",
       "3  Positive            [in-flight service, ticketing, seating]  Non-Immediate   \n",
       "4  Positive  [in-flight service, baggage handling, ticketin...      Immediate   \n",
       "\n",
       "    risks additional_info  \n",
       "0      []                  \n",
       "1  [harm]                  \n",
       "2      []                  \n",
       "3      []                  \n",
       "4      []                  "
      ]
     },
     "execution_count": 22,
     "metadata": {},
     "output_type": "execute_result"
    }
   ],
   "source": [
    "# Apply the analysis to the entire dataset\n",
    "full_reviews_analysis = airlines_reviews_df['review'].apply(analyze_review)\n",
    "\n",
    "# Convert the list of ReviewAnalysis objects to a list of dictionaries and then to a DataFrame\n",
    "analysis_dicts = [analysis.dict() for analysis in full_reviews_analysis]\n",
    "analysis_df = pd.DataFrame(analysis_dicts)\n",
    "\n",
    "analysis_df.head()\n"
   ]
  },
  {
   "cell_type": "code",
   "execution_count": 104,
   "metadata": {},
   "outputs": [
    {
     "data": {
      "text/plain": [
       "array(['Non-Immediate', 'Immediate'], dtype=object)"
      ]
     },
     "execution_count": 104,
     "metadata": {},
     "output_type": "execute_result"
    }
   ],
   "source": [
    "analysis_df.urgency.unique()"
   ]
  },
  {
   "cell_type": "code",
   "execution_count": 23,
   "metadata": {},
   "outputs": [],
   "source": [
    "analysis_df.to_csv('airline_reviews_updated.csv')"
   ]
  },
  {
   "cell_type": "markdown",
   "metadata": {},
   "source": [
    "The analysis results have been successfully structured into a pandas DataFrame. The DataFrame includes columns for sentiment, categories, urgency, risks, and additional_info based on the content of each review."
   ]
  },
  {
   "cell_type": "code",
   "execution_count": 24,
   "metadata": {},
   "outputs": [],
   "source": [
    "\n",
    "# The distribution of sentiments across all reviews.\n",
    "sentiment_distribution = analysis_df['sentiment'].value_counts(normalize=True) * 100\n",
    "\n"
   ]
  },
  {
   "cell_type": "code",
   "execution_count": 25,
   "metadata": {},
   "outputs": [],
   "source": [
    "import ast\n",
    "\n",
    "def safe_literal_eval(s):\n",
    "    try:\n",
    "        # Only try to evaluate non-empty strings that start with a character that indicates a Python literal.\n",
    "        if isinstance(s, str) and (s.startswith(('[', '{', '\"', \"'\")) or s.isdigit()):\n",
    "            return ast.literal_eval(s)\n",
    "        elif s == '[]':  # If the string is exactly '[]', return an empty list\n",
    "            return []\n",
    "    except (ValueError, SyntaxError):\n",
    "        # If there's an error in evaluating, just return the string as-is\n",
    "        pass\n",
    "    return str(s)"
   ]
  },
  {
   "cell_type": "code",
   "execution_count": 26,
   "metadata": {},
   "outputs": [],
   "source": [
    "# Apply the safe_literal_eval function to 'categories' and 'risks' columns\n",
    "analysis_df['categories'] = analysis_df['categories'].apply(safe_literal_eval)\n",
    "analysis_df['risks'] = analysis_df['risks'].apply(safe_literal_eval)\n"
   ]
  },
  {
   "cell_type": "code",
   "execution_count": 27,
   "metadata": {},
   "outputs": [
    {
     "data": {
      "text/plain": [
       "['in-flight service', 'seating', 'staff behavior']"
      ]
     },
     "execution_count": 27,
     "metadata": {},
     "output_type": "execute_result"
    }
   ],
   "source": [
    "ast.literal_eval(str(analysis_df['categories'][0]))"
   ]
  },
  {
   "cell_type": "code",
   "execution_count": 28,
   "metadata": {},
   "outputs": [],
   "source": [
    "# The most common categories for complaints or feedback.\n",
    "# Since the categories are in a list within a string, we'll first convert them to actual lists\n",
    "\n",
    "analysis_df['categories'] = analysis_df['categories'].apply(ast.literal_eval)\n",
    "# Now we can explode the categories into separate rows and count the occurrences\n",
    "category_distribution = analysis_df.explode('categories')['categories'].value_counts()\n",
    "\n",
    "\n"
   ]
  },
  {
   "cell_type": "code",
   "execution_count": 29,
   "metadata": {},
   "outputs": [
    {
     "data": {
      "text/plain": [
       "(Positive    73.0\n",
       " Negative    26.8\n",
       " Neutral      0.2\n",
       " Name: sentiment, dtype: float64,\n",
       " in-flight service    454\n",
       " ticketing            369\n",
       " delays               363\n",
       " staff behavior       358\n",
       " seating              330\n",
       " entertainment        266\n",
       " baggage handling     257\n",
       " cleanliness           99\n",
       " safety                51\n",
       " Name: categories, dtype: int64,\n",
       " Non-Immediate    52.8\n",
       " Immediate        47.2\n",
       " Name: urgency, dtype: float64,\n",
       " emergency      5\n",
       " risk           5\n",
       " severe         4\n",
       " disaster       4\n",
       " serious        3\n",
       " harm           3\n",
       " hazard         2\n",
       " warning        2\n",
       " damage         2\n",
       " liability      2\n",
       " alarm          1\n",
       " unsafe         1\n",
       " accident       1\n",
       " pandemic       1\n",
       " danger         1\n",
       " threat         1\n",
       " threatening    1\n",
       " careless       1\n",
       " Name: risks, dtype: int64)"
      ]
     },
     "execution_count": 29,
     "metadata": {},
     "output_type": "execute_result"
    }
   ],
   "source": [
    "# The frequency of urgent versus non-urgent feedback.\n",
    "urgency_distribution = analysis_df['urgency'].value_counts(normalize=True) * 100\n",
    "\n",
    "# Similar to categories, we'll convert the risks from string representation of lists to actual lists\n",
    "analysis_df['risks'] = analysis_df['risks'].apply(ast.literal_eval)\n",
    "risk_distribution = analysis_df.explode('risks')['risks'].value_counts()\n",
    "\n",
    "# Display the generated insights\n",
    "(sentiment_distribution, category_distribution, urgency_distribution, risk_distribution)"
   ]
  },
  {
   "cell_type": "code",
   "execution_count": 30,
   "metadata": {},
   "outputs": [
    {
     "data": {
      "image/png": "[encoded data removed]",
      "text/plain": [
       "<Figure size 1008x864 with 4 Axes>"
      ]
     },
     "metadata": {
      "needs_background": "light"
     },
     "output_type": "display_data"
    }
   ],
   "source": [
    "import matplotlib.pyplot as plt\n",
    "\n",
    "# Set up the figure and axes for the visualizations\n",
    "fig, axs = plt.subplots(2, 2, figsize=(14, 12))\n",
    "\n",
    "# Sentiment Distribution Pie Chart\n",
    "axs[0, 0].pie(sentiment_distribution, labels=sentiment_distribution.index, autopct='%1.1f%%', startangle=140)\n",
    "axs[0, 0].set_title('Sentiment Distribution')\n",
    "\n",
    "# Category Distribution Bar Chart\n",
    "category_distribution.plot(kind='bar', ax=axs[0, 1], color='orange')\n",
    "axs[0, 1].set_title('Category Distribution')\n",
    "axs[0, 1].set_ylabel('Number of Mentions')\n",
    "\n",
    "# Urgency Distribution Pie Chart\n",
    "axs[1, 0].pie(urgency_distribution, labels=urgency_distribution.index, autopct='%1.1f%%', startangle=140)\n",
    "axs[1, 0].set_title('Urgency Distribution')\n",
    "\n",
    "# Risks Distribution Bar Chart\n",
    "risk_distribution.plot(kind='bar', ax=axs[1, 1], color='green')\n",
    "axs[1, 1].set_title('Risk Distribution')\n",
    "axs[1, 1].set_ylabel('Number of Mentions')\n",
    "\n",
    "# Adjust layout to prevent overlapping\n",
    "plt.tight_layout()\n",
    "plt.show()"
   ]
  },
  {
   "cell_type": "code",
   "execution_count": 31,
   "metadata": {},
   "outputs": [
    {
     "data": {
      "text/plain": [
       "37"
      ]
     },
     "execution_count": 31,
     "metadata": {},
     "output_type": "execute_result"
    }
   ],
   "source": [
    "# Since risks are in a list format in each row, we'll check if any row contains non-empty lists\n",
    "risks_present = analysis_df['risks'].apply(lambda risks: len(risks) > 0)\n",
    "\n",
    "# Count how many reviews have mentioned risks\n",
    "number_of_risks = risks_present.sum()\n",
    "\n",
    "# Output the number of reviews mentioning risks\n",
    "number_of_risks\n"
   ]
  },
  {
   "cell_type": "code",
   "execution_count": 32,
   "metadata": {},
   "outputs": [
    {
     "data": {
      "text/plain": [
       "(116,\n",
       " [\"Compared to the likes of EVA Air or Qatar Airways, British Airways Club World is by far the poor relation. Flew from Glasgow to New York via LHR, the seats have zero storage apart from the small drawer at floor level. It is astonishing that for the money they charge, you have to step over the legs of the person on your outside, especially if you accidentally trip and land on top of them. Food was satisfactory although a small bacon roll for breakfast was again a poor show. AVOD was also satisfactory. Apart from the flat bed, this just really doesn't have a premium feel about it. On our recent trip, on both legs, the crew were excellent, but the product from our national flag carrier simply is not worth the premium prices they charge.\",\n",
       "  'LHR-Washington on a 777-200. Trip got off to a good start in the BA Concorde 1st Class lounge. Nice champagne and a nice quiet ambiance which I like. The place is starting to show signs of wear and tear - with sagging seat cushions. Plane was latest 1st Class and there was only 7 passengers including my wife and I. It seemed a little larger than the 1st I travelled on a month ago on an A380. Maybe it was because of the hideous centre console (that houses he folding table) was smaller - rather than take up half the space. To start we had a small  appetizer  (an Amuse Bouche) which was absolutely hideous. A sort of grilled cheese with burnt bits on it and some sort of couscous. It was foul and we left the lot. Both had a langoustine starter which was ok. The mushrooms with it was wet and horrible texture to the mouth. The soup we both had was nice. My cod dish was very good. My wife said the steak two ways was ok. The braised part she did not eat. Wines all ok. Service from the FAs was fine. In terms of overall quality BA really fail consistently to deliver. As a matter of curiosity I sourced the on way price the day before we left; £5543 - one way. Its an insane price and if I paid that I would be furious as to the product I experienced. Travelling in 1st is only worth it on  sale  offers or Avios. We are travelling back in Club as in my experienced the slightly shorter flight home in First is not worth the money or the Avios. So disappointing. BA really are clueless when it comes to understanding  quality .',\n",
       "  ' ',\n",
       "  'Bucharest to London Heathrow and the worst thing above all are the British Airways business class seats and the shocking lack of legroom. Cramped into a space which is less than many economy seats. And this was Club Europe! Poor breakfast - one slice of bacon, half tomato a few tinned mushrooms and an omelette so overcooked it was grey inside. Seat itself was comfortable and staff were good. Toilet waste bin had tape around it and so a sack was used for rubbish instead! Not a good flight overall.',\n",
       "  ' ',\n",
       "  \"Decided to upgrade and treat myself to BA's Club World. Check in at JFK was efficient. Fast track through to security was a breeze. BA's Galleries Lounge at JFK T7 was shared with Cathay Pacific and LOT Polish Airline. The lounge was spacious and clean. I was encouraged to have my dinner in the lounge as the service is a sleeper service. To my disappointmwnt, there wasn't enough food left although the selections were good but not the best. After my pre-flight dining, I decided to have a shower. The shower rooms were clean and amenities available on request. BA's Club World seat is around 20 inches wide which was very comfortable for the quick 5 hour flight back home. I was greeted by my name by the cabin crew who were friendly. IFE option was the same as flying economy clasd. Menu was handed out a along with Elemis amenity kit. The meals were good but portions could be better. Upon arrival in LHR, bags were delivered on time. I was told to pay a visit to their arrivals lounge but I didn't bother. Overall, I would fly with BA's Club World product again. Seat and bed was very comfortable and well maintained despite the ageing aircraft. Cabin crew friendly and enthusiastic. Just one thing that BA might want to consider is the food portions because their portions are baby sized portions.\",\n",
       "  \"Heathrow - Paris CDG return with British Airways. Bag drop at Terminal 5 quick and hassle free, checked in online so had my boarding pass on my phone. Security was busy at 13.00 but had an hour so no panic. First time I have used BA in 5 years without having access to the lounge through my frequent flyer status but the hour in the terminal pleasant. Boarding quick and seat 7A was spacious departed 20 minutes late with a 10 minute late arrival. Crew nice with a drink and snack provided on a 55 min flight. Return I had no checked baggage so straight through Terminal 2A which is a nice experience with shops and food outlets. Boarding at 17.45 for an 18.00 departure on to a half full A319, departed a little late which meant a late arrival in to T5. A nice flight, nice crew a drink and snack provided. Seat 24A with enough room. Pleasant trip for a short flight, I don't feel it's worth the extra cost for a business class seat, economy was fine. Will use again.\",\n",
       "  \"The staff were not friendly or even helpful. A pregnant lady beside me asked for help with her carry on and the answer was if you can't carry it, don't bring it on board. My husband asked for an extra pillow and he was told only one pillow per passenger. The lady beside my daughter was not given food and when she asked for it, the flight attendant answered in a loud voice  I did ask you  (which did not happen). So don't fly this airline unless you have no other choice.\",\n",
       "  \"Very disappointed with British Airways. Very little leg room, I'm only 5ft 7in but I had to sit sideways for the flight. Food very basic, only a roll on both the outward and the return flight at 5.30pm. Other airlines offer a snack. Wouldn't travel British Airways again, budget airlines have more leg room.\",\n",
       "  ' '])"
      ]
     },
     "execution_count": 32,
     "metadata": {},
     "output_type": "execute_result"
    }
   ],
   "source": [
    "# First, we'll see how many reviews contain additional information\n",
    "additional_info_present = analysis_df['additional_info'].apply(lambda info: len(info.strip()) > 0)\n",
    "\n",
    "# Count how many reviews have additional information\n",
    "number_of_additional_info = additional_info_present.sum()\n",
    "\n",
    "# Show some examples of the additional information provided, if available\n",
    "additional_info_examples = analysis_df[analysis_df['additional_info'] != '']['additional_info'].head(10).tolist()\n",
    "\n",
    "number_of_additional_info, additional_info_examples\n"
   ]
  },
  {
   "cell_type": "code",
   "execution_count": 33,
   "metadata": {},
   "outputs": [
    {
     "data": {
      "text/html": [
       "<div>\n",
       "<style scoped>\n",
       "    .dataframe tbody tr th:only-of-type {\n",
       "        vertical-align: middle;\n",
       "    }\n",
       "\n",
       "    .dataframe tbody tr th {\n",
       "        vertical-align: top;\n",
       "    }\n",
       "\n",
       "    .dataframe thead th {\n",
       "        text-align: right;\n",
       "    }\n",
       "</style>\n",
       "<table border=\"1\" class=\"dataframe\">\n",
       "  <thead>\n",
       "    <tr style=\"text-align: right;\">\n",
       "      <th></th>\n",
       "      <th>sentiment</th>\n",
       "      <th>categories</th>\n",
       "      <th>urgency</th>\n",
       "      <th>risks</th>\n",
       "      <th>additional_info</th>\n",
       "    </tr>\n",
       "  </thead>\n",
       "  <tbody>\n",
       "    <tr>\n",
       "      <th>0</th>\n",
       "      <td>Positive</td>\n",
       "      <td>[in-flight service, seating, staff behavior]</td>\n",
       "      <td>Non-Immediate</td>\n",
       "      <td>[]</td>\n",
       "      <td></td>\n",
       "    </tr>\n",
       "    <tr>\n",
       "      <th>1</th>\n",
       "      <td>Positive</td>\n",
       "      <td>[in-flight service, baggage handling, ticketin...</td>\n",
       "      <td>Immediate</td>\n",
       "      <td>[harm]</td>\n",
       "      <td></td>\n",
       "    </tr>\n",
       "    <tr>\n",
       "      <th>2</th>\n",
       "      <td>Positive</td>\n",
       "      <td>[in-flight service, staff behavior, entertainm...</td>\n",
       "      <td>Non-Immediate</td>\n",
       "      <td>[]</td>\n",
       "      <td></td>\n",
       "    </tr>\n",
       "    <tr>\n",
       "      <th>3</th>\n",
       "      <td>Positive</td>\n",
       "      <td>[in-flight service, ticketing, seating]</td>\n",
       "      <td>Non-Immediate</td>\n",
       "      <td>[]</td>\n",
       "      <td></td>\n",
       "    </tr>\n",
       "    <tr>\n",
       "      <th>4</th>\n",
       "      <td>Positive</td>\n",
       "      <td>[in-flight service, baggage handling, ticketin...</td>\n",
       "      <td>Immediate</td>\n",
       "      <td>[]</td>\n",
       "      <td></td>\n",
       "    </tr>\n",
       "  </tbody>\n",
       "</table>\n",
       "</div>"
      ],
      "text/plain": [
       "  sentiment                                         categories        urgency  \\\n",
       "0  Positive       [in-flight service, seating, staff behavior]  Non-Immediate   \n",
       "1  Positive  [in-flight service, baggage handling, ticketin...      Immediate   \n",
       "2  Positive  [in-flight service, staff behavior, entertainm...  Non-Immediate   \n",
       "3  Positive            [in-flight service, ticketing, seating]  Non-Immediate   \n",
       "4  Positive  [in-flight service, baggage handling, ticketin...      Immediate   \n",
       "\n",
       "    risks additional_info  \n",
       "0      []                  \n",
       "1  [harm]                  \n",
       "2      []                  \n",
       "3      []                  \n",
       "4      []                  "
      ]
     },
     "execution_count": 33,
     "metadata": {},
     "output_type": "execute_result"
    }
   ],
   "source": [
    "analysis_df.head()"
   ]
  },
  {
   "cell_type": "code",
   "execution_count": 34,
   "metadata": {},
   "outputs": [
    {
     "data": {
      "text/html": [
       "<div>\n",
       "<style scoped>\n",
       "    .dataframe tbody tr th:only-of-type {\n",
       "        vertical-align: middle;\n",
       "    }\n",
       "\n",
       "    .dataframe tbody tr th {\n",
       "        vertical-align: top;\n",
       "    }\n",
       "\n",
       "    .dataframe thead th {\n",
       "        text-align: right;\n",
       "    }\n",
       "</style>\n",
       "<table border=\"1\" class=\"dataframe\">\n",
       "  <thead>\n",
       "    <tr style=\"text-align: right;\">\n",
       "      <th></th>\n",
       "      <th>sentiment_score</th>\n",
       "      <th>urgency_score</th>\n",
       "      <th>category_count</th>\n",
       "      <th>risk_count</th>\n",
       "    </tr>\n",
       "  </thead>\n",
       "  <tbody>\n",
       "    <tr>\n",
       "      <th>sentiment_score</th>\n",
       "      <td>1.000000</td>\n",
       "      <td>0.031517</td>\n",
       "      <td>0.071408</td>\n",
       "      <td>0.028677</td>\n",
       "    </tr>\n",
       "    <tr>\n",
       "      <th>urgency_score</th>\n",
       "      <td>0.031517</td>\n",
       "      <td>1.000000</td>\n",
       "      <td>0.248460</td>\n",
       "      <td>0.129834</td>\n",
       "    </tr>\n",
       "    <tr>\n",
       "      <th>category_count</th>\n",
       "      <td>0.071408</td>\n",
       "      <td>0.248460</td>\n",
       "      <td>1.000000</td>\n",
       "      <td>0.053424</td>\n",
       "    </tr>\n",
       "    <tr>\n",
       "      <th>risk_count</th>\n",
       "      <td>0.028677</td>\n",
       "      <td>0.129834</td>\n",
       "      <td>0.053424</td>\n",
       "      <td>1.000000</td>\n",
       "    </tr>\n",
       "  </tbody>\n",
       "</table>\n",
       "</div>"
      ],
      "text/plain": [
       "                 sentiment_score  urgency_score  category_count  risk_count\n",
       "sentiment_score         1.000000       0.031517        0.071408    0.028677\n",
       "urgency_score           0.031517       1.000000        0.248460    0.129834\n",
       "category_count          0.071408       0.248460        1.000000    0.053424\n",
       "risk_count              0.028677       0.129834        0.053424    1.000000"
      ]
     },
     "execution_count": 34,
     "metadata": {},
     "output_type": "execute_result"
    }
   ],
   "source": [
    "# Apply safe_literal_eval function to 'categories' and 'risks' columns\n",
    "analysis_df['categories'] = analysis_df['categories'].apply(safe_literal_eval)\n",
    "analysis_df['risks'] = analysis_df['risks'].apply(safe_literal_eval)\n",
    "\n",
    "# Add a new column that counts the number of categories mentioned in each review\n",
    "analysis_df['category_count'] = analysis_df['categories'].apply(len)\n",
    "\n",
    "# Add a new column that counts the number of risks mentioned in each review\n",
    "analysis_df['risk_count'] = analysis_df['risks'].apply(len)\n",
    "\n",
    "# Now we'll convert categorical columns to numerical values for correlation analysis\n",
    "# For sentiment, we'll map Positive to 1, Neutral to 0, and Negative to -1\n",
    "sentiment_mapping = {'Positive': 1, 'Neutral': 0, 'Negative': -1}\n",
    "analysis_df['sentiment_score'] = analysis_df['sentiment'].map(sentiment_mapping)\n",
    "\n",
    "# For urgency, we'll map Immediate to 1 and Non-Immediate to 0\n",
    "urgency_mapping = {'Immediate': 1, 'Non-Immediate': 0}\n",
    "analysis_df['urgency_score'] = analysis_df['urgency'].map(urgency_mapping)\n",
    "\n",
    "# Now we can calculate correlations\n",
    "correlation_matrix = analysis_df[['sentiment_score', 'urgency_score', 'category_count', 'risk_count']].corr()\n",
    "\n",
    "correlation_matrix\n"
   ]
  },
  {
   "cell_type": "markdown",
   "metadata": {},
   "source": [
    "1. **Sentiment Score**:\n",
    "   - The sentiment score has a very low positive correlation with the urgency score (\\(0.031517\\)), indicating that the sentiment of the feedback (positive, neutral, negative) has very little to do with the urgency assigned to it.\n",
    "   - There is a low positive correlation between the sentiment score and the category count (\\(0.071408\\)), which could imply that feedback with a higher number of categories mentioned is slightly more likely to be positive, but the correlation is still weak.\n",
    "   - The sentiment score has a very low positive correlation with the risk count (\\(0.028677\\)), suggesting that the presence of risks in the feedback doesn't strongly influence whether the sentiment is positive or negative.\n",
    "\n",
    "2. **Urgency Score**:\n",
    "   - As already noted, there's a very low positive correlation between urgency score and sentiment score.\n",
    "   - There is a moderate positive correlation between the urgency score and the category count (\\(0.248460\\)), suggesting that feedback mentioning more categories is somewhat more likely to be marked as urgent. This makes sense as feedback concerning multiple areas might require more immediate attention.\n",
    "   - The urgency score has a low positive correlation with the risk count (\\(0.129834\\)), implying that feedback with identified risks is somewhat more likely to be considered urgent, which aligns with what one might expect intuitively.\n",
    "\n",
    "3. **Category Count**:\n",
    "   - There is a low positive correlation between the category count and both the sentiment score and the urgency score, as mentioned above.\n",
    "   - The category count has a very low positive correlation with the risk count (\\(0.053424\\)), suggesting that having more categories mentioned in the feedback doesn't significantly increase the likelihood that risks will be identified.\n",
    "\n",
    "4. **Risk Count**:\n",
    "   - The correlations of the risk count with both the sentiment score and the category count are very low, indicating that the number of risks identified in feedback is mostly independent of the sentiment and the number of categories mentioned.\n"
   ]
  },
  {
   "cell_type": "markdown",
   "metadata": {},
   "source": [
    "### Prompt engineering"
   ]
  },
  {
   "cell_type": "code",
   "execution_count": 35,
   "metadata": {},
   "outputs": [],
   "source": [
    "from langchain.llms import OpenAI\n",
    "from langchain import PromptTemplate, LLMChain\n",
    "\n",
    "import json\n",
    "import os"
   ]
  },
  {
   "cell_type": "code",
   "execution_count": 36,
   "metadata": {},
   "outputs": [],
   "source": [
    "# we have avoided removing full stops to keep the itentity of sentences\n",
    "\n",
    "def clean_text(text):\n",
    "    cleaned_text = ''\n",
    "    for char in text:\n",
    "        if char.isalnum() or char.isspace() or char == '.':\n",
    "            cleaned_text += char\n",
    "    return cleaned_text\n",
    "\n"
   ]
  },
  {
   "cell_type": "code",
   "execution_count": 37,
   "metadata": {},
   "outputs": [],
   "source": [
    "with open('api_keys.json') as api_file:\n",
    "    api_dict = json.load(api_file)\n",
    "\n",
    "os.environ['OPENAI_API_KEY'] = api_dict['API OPENAI']"
   ]
  },
  {
   "cell_type": "code",
   "execution_count": 38,
   "metadata": {},
   "outputs": [],
   "source": [
    "# Initialize the language model\n",
    "llm = OpenAI()\n"
   ]
  },
  {
   "cell_type": "code",
   "execution_count": 72,
   "metadata": {},
   "outputs": [],
   "source": [
    "template_for_code = \"\"\"\n",
    "Give me the sentiment, risk, urgency, Topic, Source Airport, Destination Airport, Carrier of the given review:\n",
    "\n",
    "\n",
    "Review:\n",
    "    {review}\n",
    "\n",
    "Instructions:\n",
    "    1. Be very specific to the review I provided\n",
    "    2. Do not refer to anything else external from the source\n",
    "\n",
    "Answer in following format: \n",
    "            <sentiment>, <risk>, <urgency>, <topic>, <source>, <destination>, <carrier>\n",
    "\n",
    "Good examples are: \n",
    "            Positive, High Risk, Non-Immediate, Bad Service, City x, City y, Air India\n",
    "      \n",
    "Possible Values for Topic are one of the following list:\n",
    "            possible_topics = [\n",
    "                \"Service Quality\",\n",
    "                \"Food and Catering\",\n",
    "                \"Comfort and Seating\",\n",
    "                \"Flight and In-Flight Experience\",\n",
    "                \"Aircraft Condition and Cleanliness\",\n",
    "                \"Operational Efficiency\",\n",
    "                \"Customer Experience and Satisfaction\",\n",
    "                \"Pricing and Policies\",\n",
    "                \"Issues and Complaints\"\n",
    "            ]\n",
    "\n",
    "feedback example:\n",
    "    I had an excellent flight with XYZ Airlines. The staff was incredibly friendly, the seat comfortable, and the meal \n",
    "    delicious. I was particularly impressed by the range of in-flight entertainment. Great job, XYZ Airlines!\n",
    "\n",
    "Sentiment: \n",
    "    Positive\n",
    "\n",
    "feednack example:\n",
    "    I was disappointed with my recent flight on XYZ Airlines. The seats were cramped, the meal was unappetizing, \n",
    "    and the staff seemed overwhelmed. Additionally, the flight was delayed without clear communication. Needs improvement.\n",
    "\n",
    "Sentiment: \n",
    "    Negative\n",
    "\n",
    "\"\"\""
   ]
  },
  {
   "cell_type": "code",
   "execution_count": 73,
   "metadata": {},
   "outputs": [
    {
     "data": {
      "text/plain": [
       "' The service was excellent. The cabin staff were attentive and efficient. The food and drinks were very good. The seat in the new suites is extremely comfortable and the additional privacy is really nice. Overall a very enjoyable flight.\\n'"
      ]
     },
     "execution_count": 73,
     "metadata": {},
     "output_type": "execute_result"
    }
   ],
   "source": [
    "airlines_reviews_df.review[0]"
   ]
  },
  {
   "cell_type": "code",
   "execution_count": 74,
   "metadata": {},
   "outputs": [],
   "source": [
    "prompt_repo = PromptTemplate(\n",
    "    template = template_for_code,\n",
    "    input_variables=['review']\n",
    ")\n",
    "review = airlines_reviews_df.review[100]\n"
   ]
  },
  {
   "cell_type": "code",
   "execution_count": 75,
   "metadata": {},
   "outputs": [
    {
     "name": "stdout",
     "output_type": "stream",
     "text": [
      "\n",
      "Answer: Negative, High Risk, Immediate, Bad Service, Austin, London, British Airways\n"
     ]
    }
   ],
   "source": [
    "# Create a LLMChain instance for generating the summary of the repository\n",
    "llm_chain = LLMChain(prompt=prompt_repo, llm=llm)\n",
    "answer_openai = llm_chain.run(\n",
    "    review = review,\n",
    ")\n",
    "print(answer_openai)"
   ]
  },
  {
   "cell_type": "code",
   "execution_count": 43,
   "metadata": {},
   "outputs": [
    {
     "data": {
      "text/plain": [
       "500"
      ]
     },
     "execution_count": 43,
     "metadata": {},
     "output_type": "execute_result"
    }
   ],
   "source": [
    "analysis_df.shape[0]"
   ]
  },
  {
   "cell_type": "code",
   "execution_count": 44,
   "metadata": {},
   "outputs": [],
   "source": [
    "# Define the schema for the new knowledge repository\n",
    "class NewReviewAnalysis(BaseModel):\n",
    "    sentiment: Optional[str]\n",
    "    topic: Optional[str]\n",
    "    urgency: Optional[str]\n",
    "    risks: Optional[str]\n",
    "    source_airport: Optional[str]\n",
    "    destination_airport: Optional[str]\n",
    "    carrier: Optional[str]\n",
    "\n"
   ]
  },
  {
   "cell_type": "code",
   "execution_count": 45,
   "metadata": {},
   "outputs": [],
   "source": [
    "columns = ['Sentiment', 'Risk', 'Urgency', 'Topic', 'Source Airport', 'Destination Airport', 'Carrier']\n",
    "\n",
    "data_df = pd.DataFrame(columns = columns)"
   ]
  },
  {
   "cell_type": "code",
   "execution_count": 46,
   "metadata": {},
   "outputs": [
    {
     "name": "stdout",
     "output_type": "stream",
     "text": [
      "review no: 1\n",
      "review no: 2\n",
      "review no: 3\n",
      "review no: 4\n",
      "review no: 5\n",
      "review no: 6\n",
      "review no: 7\n",
      "review no: 8\n",
      "review no: 9\n",
      "review no: 10\n",
      "review no: 11\n",
      "review no: 12\n",
      "review no: 13\n",
      "review no: 14\n",
      "review no: 15\n",
      "review no: 16\n",
      "review no: 17\n",
      "review no: 18\n",
      "review no: 19\n",
      "review no: 20\n",
      "review no: 21\n",
      "review no: 22\n",
      "review no: 23\n",
      "review no: 24\n",
      "review no: 25\n",
      "review no: 26\n",
      "review no: 27\n",
      "review no: 28\n",
      "review no: 29\n",
      "review no: 30\n",
      "review no: 31\n",
      "review no: 32\n",
      "review no: 33\n",
      "review no: 34\n",
      "review no: 35\n",
      "review no: 36\n",
      "review no: 37\n",
      "review no: 38\n",
      "review no: 39\n",
      "review no: 40\n",
      "review no: 41\n",
      "review no: 42\n",
      "review no: 43\n",
      "review no: 44\n",
      "review no: 45\n",
      "review no: 46\n",
      "review no: 47\n",
      "review no: 48\n",
      "review no: 49\n",
      "review no: 50\n",
      "review no: 51\n",
      "review no: 52\n",
      "review no: 53\n",
      "review no: 54\n",
      "review no: 55\n",
      "review no: 56\n",
      "review no: 57\n",
      "review no: 58\n",
      "review no: 59\n",
      "review no: 60\n",
      "review no: 61\n",
      "review no: 62\n",
      "review no: 63\n",
      "review no: 64\n",
      "review no: 65\n",
      "review no: 66\n",
      "review no: 67\n",
      "review no: 68\n",
      "review no: 69\n",
      "review no: 70\n",
      "review no: 71\n",
      "review no: 72\n",
      "review no: 73\n",
      "review no: 74\n",
      "review no: 75\n",
      "review no: 76\n",
      "review no: 77\n",
      "review no: 78\n",
      "review no: 79\n",
      "review no: 80\n",
      "review no: 81\n",
      "review no: 82\n",
      "review no: 83\n",
      "review no: 84\n",
      "review no: 85\n",
      "review no: 86\n",
      "review no: 87\n",
      "review no: 88\n",
      "review no: 89\n",
      "review no: 90\n",
      "review no: 91\n",
      "review no: 92\n",
      "review no: 93\n",
      "review no: 94\n",
      "review no: 95\n",
      "review no: 96\n",
      "review no: 97\n",
      "review no: 98\n",
      "review no: 99\n",
      "review no: 100\n",
      "review no: 101\n",
      "review no: 102\n",
      "review no: 103\n",
      "review no: 104\n",
      "review no: 105\n",
      "review no: 106\n",
      "review no: 107\n",
      "review no: 108\n",
      "review no: 109\n",
      "review no: 110\n",
      "review no: 111\n",
      "review no: 112\n",
      "review no: 113\n",
      "review no: 114\n",
      "review no: 115\n",
      "review no: 116\n",
      "review no: 117\n",
      "review no: 118\n",
      "review no: 119\n",
      "review no: 120\n",
      "review no: 121\n",
      "review no: 122\n",
      "review no: 123\n",
      "review no: 124\n",
      "review no: 125\n",
      "review no: 126\n",
      "review no: 127\n",
      "review no: 128\n",
      "review no: 129\n",
      "review no: 130\n",
      "review no: 131\n",
      "review no: 132\n",
      "review no: 133\n",
      "review no: 134\n",
      "review no: 135\n",
      "review no: 136\n",
      "review no: 137\n",
      "review no: 138\n",
      "review no: 139\n",
      "review no: 140\n",
      "review no: 141\n",
      "review no: 142\n",
      "review no: 143\n",
      "review no: 144\n",
      "review no: 145\n",
      "review no: 146\n",
      "review no: 147\n",
      "review no: 148\n",
      "review no: 149\n",
      "review no: 150\n",
      "review no: 151\n",
      "review no: 152\n",
      "review no: 153\n",
      "review no: 154\n",
      "review no: 155\n",
      "review no: 156\n",
      "review no: 157\n",
      "review no: 158\n",
      "review no: 159\n",
      "review no: 160\n",
      "review no: 161\n",
      "review no: 162\n",
      "review no: 163\n",
      "review no: 164\n",
      "review no: 165\n",
      "review no: 166\n",
      "review no: 167\n",
      "review no: 168\n",
      "review no: 169\n",
      "review no: 170\n",
      "review no: 171\n",
      "review no: 172\n",
      "review no: 173\n",
      "review no: 174\n",
      "review no: 175\n",
      "review no: 176\n",
      "review no: 177\n",
      "review no: 178\n",
      "review no: 179\n",
      "review no: 180\n",
      "review no: 181\n",
      "review no: 182\n",
      "review no: 183\n",
      "review no: 184\n",
      "review no: 185\n",
      "review no: 186\n",
      "review no: 187\n",
      "review no: 188\n",
      "review no: 189\n",
      "review no: 190\n",
      "review no: 191\n",
      "review no: 192\n",
      "review no: 193\n",
      "review no: 194\n",
      "review no: 195\n",
      "review no: 196\n",
      "review no: 197\n",
      "review no: 198\n",
      "review no: 199\n",
      "review no: 200\n",
      "review no: 201\n",
      "review no: 202\n",
      "review no: 203\n",
      "review no: 204\n",
      "review no: 205\n",
      "review no: 206\n",
      "review no: 207\n",
      "review no: 208\n",
      "review no: 209\n",
      "review no: 210\n",
      "review no: 211\n",
      "review no: 212\n",
      "review no: 213\n",
      "review no: 214\n",
      "review no: 215\n",
      "review no: 216\n",
      "review no: 217\n",
      "review no: 218\n",
      "review no: 219\n",
      "review no: 220\n",
      "review no: 221\n",
      "review no: 222\n",
      "review no: 223\n",
      "review no: 224\n",
      "review no: 225\n",
      "review no: 226\n",
      "review no: 227\n",
      "review no: 228\n",
      "review no: 229\n",
      "review no: 230\n",
      "review no: 231\n",
      "review no: 232\n",
      "review no: 233\n",
      "review no: 234\n",
      "review no: 235\n",
      "review no: 236\n",
      "review no: 237\n",
      "review no: 238\n",
      "review no: 239\n",
      "review no: 240\n",
      "review no: 241\n",
      "review no: 242\n",
      "review no: 243\n",
      "review no: 244\n",
      "review no: 245\n",
      "review no: 246\n",
      "review no: 247\n",
      "review no: 248\n",
      "review no: 249\n",
      "review no: 250\n",
      "review no: 251\n",
      "review no: 252\n",
      "review no: 253\n",
      "review no: 254\n",
      "review no: 255\n",
      "review no: 256\n",
      "review no: 257\n",
      "review no: 258\n",
      "review no: 259\n",
      "review no: 260\n",
      "review no: 261\n",
      "review no: 262\n",
      "review no: 263\n",
      "review no: 264\n",
      "review no: 265\n",
      "review no: 266\n",
      "review no: 267\n",
      "review no: 268\n",
      "review no: 269\n",
      "review no: 270\n",
      "review no: 271\n",
      "review no: 272\n",
      "review no: 273\n",
      "review no: 274\n",
      "review no: 275\n",
      "review no: 276\n",
      "review no: 277\n",
      "review no: 278\n",
      "review no: 279\n",
      "review no: 280\n",
      "review no: 281\n",
      "review no: 282\n",
      "review no: 283\n",
      "review no: 284\n",
      "review no: 285\n",
      "review no: 286\n",
      "review no: 287\n",
      "review no: 288\n",
      "review no: 289\n",
      "review no: 290\n",
      "review no: 291\n",
      "review no: 292\n",
      "review no: 293\n",
      "review no: 294\n",
      "review no: 295\n",
      "review no: 296\n",
      "review no: 297\n",
      "review no: 298\n",
      "review no: 299\n",
      "review no: 300\n",
      "review no: 301\n",
      "review no: 302\n",
      "review no: 303\n",
      "review no: 304\n",
      "review no: 305\n",
      "review no: 306\n",
      "review no: 307\n",
      "review no: 308\n",
      "review no: 309\n",
      "review no: 310\n",
      "review no: 311\n",
      "review no: 312\n",
      "review no: 313\n",
      "review no: 314\n",
      "review no: 315\n",
      "review no: 316\n",
      "review no: 317\n",
      "review no: 318\n",
      "review no: 319\n",
      "review no: 320\n",
      "review no: 321\n",
      "review no: 322\n",
      "review no: 323\n",
      "review no: 324\n",
      "review no: 325\n",
      "review no: 326\n",
      "review no: 327\n",
      "review no: 328\n",
      "review no: 329\n",
      "review no: 330\n",
      "review no: 331\n",
      "review no: 332\n",
      "review no: 333\n",
      "review no: 334\n",
      "review no: 335\n",
      "review no: 336\n",
      "review no: 337\n",
      "review no: 338\n",
      "review no: 339\n",
      "review no: 340\n",
      "review no: 341\n",
      "review no: 342\n",
      "review no: 343\n",
      "review no: 344\n",
      "review no: 345\n",
      "review no: 346\n",
      "review no: 347\n",
      "review no: 348\n",
      "review no: 349\n",
      "review no: 350\n",
      "review no: 351\n",
      "review no: 352\n",
      "review no: 353\n",
      "review no: 354\n",
      "review no: 355\n",
      "review no: 356\n",
      "review no: 357\n",
      "review no: 358\n",
      "review no: 359\n",
      "review no: 360\n",
      "review no: 361\n",
      "review no: 362\n",
      "review no: 363\n",
      "review no: 364\n",
      "review no: 365\n",
      "review no: 366\n",
      "review no: 367\n",
      "review no: 368\n",
      "review no: 369\n",
      "review no: 370\n",
      "review no: 371\n",
      "review no: 372\n",
      "review no: 373\n",
      "review no: 374\n",
      "review no: 375\n",
      "review no: 376\n",
      "review no: 377\n",
      "review no: 378\n",
      "review no: 379\n",
      "review no: 380\n",
      "review no: 381\n",
      "review no: 382\n",
      "review no: 383\n",
      "review no: 384\n",
      "review no: 385\n",
      "review no: 386\n",
      "review no: 387\n",
      "review no: 388\n",
      "review no: 389\n",
      "review no: 390\n",
      "review no: 391\n",
      "review no: 392\n",
      "review no: 393\n",
      "review no: 394\n",
      "review no: 395\n",
      "review no: 396\n",
      "review no: 397\n",
      "review no: 398\n",
      "review no: 399\n",
      "review no: 400\n",
      "review no: 401\n",
      "review no: 402\n",
      "review no: 403\n",
      "review no: 404\n",
      "review no: 405\n",
      "review no: 406\n",
      "review no: 407\n",
      "review no: 408\n",
      "review no: 409\n",
      "review no: 410\n",
      "review no: 411\n",
      "review no: 412\n",
      "review no: 413\n",
      "review no: 414\n",
      "review no: 415\n",
      "review no: 416\n",
      "review no: 417\n",
      "review no: 418\n",
      "review no: 419\n",
      "review no: 420\n",
      "review no: 421\n",
      "review no: 422\n",
      "review no: 423\n",
      "review no: 424\n",
      "review no: 425\n",
      "review no: 426\n",
      "review no: 427\n",
      "review no: 428\n",
      "review no: 429\n",
      "review no: 430\n",
      "review no: 431\n",
      "review no: 432\n",
      "review no: 433\n",
      "review no: 434\n",
      "review no: 435\n",
      "review no: 436\n",
      "review no: 437\n",
      "review no: 438\n",
      "review no: 439\n",
      "review no: 440\n",
      "review no: 441\n",
      "review no: 442\n",
      "review no: 443\n",
      "review no: 444\n",
      "review no: 445\n",
      "review no: 446\n",
      "review no: 447\n",
      "review no: 448\n",
      "review no: 449\n",
      "review no: 450\n",
      "review no: 451\n",
      "review no: 452\n",
      "review no: 453\n",
      "review no: 454\n",
      "review no: 455\n",
      "review no: 456\n",
      "review no: 457\n",
      "review no: 458\n",
      "review no: 459\n",
      "review no: 460\n",
      "review no: 461\n",
      "review no: 462\n",
      "review no: 463\n",
      "review no: 464\n",
      "review no: 465\n",
      "review no: 466\n",
      "review no: 467\n",
      "review no: 468\n",
      "review no: 469\n",
      "review no: 470\n",
      "review no: 471\n",
      "review no: 472\n",
      "review no: 473\n",
      "review no: 474\n",
      "review no: 475\n",
      "review no: 476\n",
      "review no: 477\n",
      "review no: 478\n",
      "review no: 479\n",
      "review no: 480\n",
      "review no: 481\n",
      "review no: 482\n",
      "review no: 483\n",
      "review no: 484\n",
      "review no: 485\n",
      "review no: 486\n",
      "review no: 487\n",
      "review no: 488\n",
      "review no: 489\n",
      "review no: 490\n",
      "review no: 491\n",
      "review no: 492\n",
      "review no: 493\n",
      "review no: 494\n",
      "review no: 495\n",
      "review no: 496\n",
      "review no: 497\n",
      "review no: 498\n",
      "review no: 499\n",
      "review no: 500\n"
     ]
    },
    {
     "data": {
      "text/html": [
       "<div>\n",
       "<style scoped>\n",
       "    .dataframe tbody tr th:only-of-type {\n",
       "        vertical-align: middle;\n",
       "    }\n",
       "\n",
       "    .dataframe tbody tr th {\n",
       "        vertical-align: top;\n",
       "    }\n",
       "\n",
       "    .dataframe thead th {\n",
       "        text-align: right;\n",
       "    }\n",
       "</style>\n",
       "<table border=\"1\" class=\"dataframe\">\n",
       "  <thead>\n",
       "    <tr style=\"text-align: right;\">\n",
       "      <th></th>\n",
       "      <th>Sentiment</th>\n",
       "      <th>Risk</th>\n",
       "      <th>Urgency</th>\n",
       "      <th>Topic</th>\n",
       "      <th>Source Airport</th>\n",
       "      <th>Destination Airport</th>\n",
       "      <th>Carrier</th>\n",
       "    </tr>\n",
       "  </thead>\n",
       "  <tbody>\n",
       "    <tr>\n",
       "      <th>0</th>\n",
       "      <td>Answer: Positive</td>\n",
       "      <td>Low Risk</td>\n",
       "      <td>Non-Immediate</td>\n",
       "      <td>Comfort and Seating</td>\n",
       "      <td>Source Airport Unknown</td>\n",
       "      <td>Destination Airport Unknown</td>\n",
       "      <td>Carrier Unknown.</td>\n",
       "    </tr>\n",
       "    <tr>\n",
       "      <th>1</th>\n",
       "      <td>Answer: Positive</td>\n",
       "      <td>Low Risk</td>\n",
       "      <td>Non-Immediate</td>\n",
       "      <td>Customer Experience and Satisfaction</td>\n",
       "      <td>Heathrow</td>\n",
       "      <td>Austin</td>\n",
       "      <td>British Airways</td>\n",
       "    </tr>\n",
       "    <tr>\n",
       "      <th>2</th>\n",
       "      <td>Answer: Positive</td>\n",
       "      <td>Low Risk</td>\n",
       "      <td>Non-Immediate</td>\n",
       "      <td>Flight and In-Flight Experience</td>\n",
       "      <td>ZRH</td>\n",
       "      <td>SFO</td>\n",
       "      <td>British Airways</td>\n",
       "    </tr>\n",
       "    <tr>\n",
       "      <th>3</th>\n",
       "      <td>Answer: Positive</td>\n",
       "      <td>High Risk</td>\n",
       "      <td>Non-Immediate</td>\n",
       "      <td>Aircraft Condition and Cleanliness</td>\n",
       "      <td>London</td>\n",
       "      <td>Paris</td>\n",
       "      <td>Unknown</td>\n",
       "    </tr>\n",
       "    <tr>\n",
       "      <th>4</th>\n",
       "      <td>Answer: Positive</td>\n",
       "      <td>Low Risk</td>\n",
       "      <td>Non-Immediate</td>\n",
       "      <td>Flight and In-Flight Experience</td>\n",
       "      <td>JFK</td>\n",
       "      <td>LHR</td>\n",
       "      <td>Unknown</td>\n",
       "    </tr>\n",
       "  </tbody>\n",
       "</table>\n",
       "</div>"
      ],
      "text/plain": [
       "          Sentiment       Risk        Urgency  \\\n",
       "0  Answer: Positive   Low Risk  Non-Immediate   \n",
       "1  Answer: Positive   Low Risk  Non-Immediate   \n",
       "2  Answer: Positive   Low Risk  Non-Immediate   \n",
       "3  Answer: Positive  High Risk  Non-Immediate   \n",
       "4  Answer: Positive   Low Risk  Non-Immediate   \n",
       "\n",
       "                                  Topic          Source Airport  \\\n",
       "0                   Comfort and Seating  Source Airport Unknown   \n",
       "1  Customer Experience and Satisfaction                Heathrow   \n",
       "2       Flight and In-Flight Experience                     ZRH   \n",
       "3    Aircraft Condition and Cleanliness                  London   \n",
       "4       Flight and In-Flight Experience                     JFK   \n",
       "\n",
       "           Destination Airport           Carrier  \n",
       "0  Destination Airport Unknown  Carrier Unknown.  \n",
       "1                       Austin   British Airways  \n",
       "2                          SFO   British Airways  \n",
       "3                        Paris           Unknown  \n",
       "4                          LHR           Unknown  "
      ]
     },
     "execution_count": 46,
     "metadata": {},
     "output_type": "execute_result"
    }
   ],
   "source": [
    "for i in range(airlines_reviews_df.shape[0]):\n",
    "    # values = [item.strip() for item in entry.split(',')]\n",
    "    review = airlines_reviews_df.iloc[i, 0]\n",
    "    print(f'review no: {i + 1}')\n",
    "    answer_openai = llm_chain.run(\n",
    "        review = review,\n",
    "    )\n",
    "    values = [item.strip() for item in answer_openai.split(',')]\n",
    "\n",
    "    # data_df = data_df.append(pd.Series(values, index = columns), ignore_index=True)\n",
    "\n",
    "    try:\n",
    "        row_df = pd.DataFrame([values], columns=columns)\n",
    "        data_df = pd.concat([data_df, row_df], ignore_index=True)\n",
    "    except:\n",
    "        row_df = pd.DataFrame([[None, None, None, None, None, None, None]], columns=columns)\n",
    "        data_df = pd.concat([data_df, row_df], ignore_index=True)\n",
    "\n",
    "data_df.head()\n"
   ]
  },
  {
   "cell_type": "code",
   "execution_count": 47,
   "metadata": {},
   "outputs": [],
   "source": [
    "data_df.to_csv('airline_review_classified_v2.csv')"
   ]
  },
  {
   "cell_type": "code",
   "execution_count": 82,
   "metadata": {},
   "outputs": [
    {
     "data": {
      "text/html": [
       "<div>\n",
       "<style scoped>\n",
       "    .dataframe tbody tr th:only-of-type {\n",
       "        vertical-align: middle;\n",
       "    }\n",
       "\n",
       "    .dataframe tbody tr th {\n",
       "        vertical-align: top;\n",
       "    }\n",
       "\n",
       "    .dataframe thead th {\n",
       "        text-align: right;\n",
       "    }\n",
       "</style>\n",
       "<table border=\"1\" class=\"dataframe\">\n",
       "  <thead>\n",
       "    <tr style=\"text-align: right;\">\n",
       "      <th></th>\n",
       "      <th>Sentiment</th>\n",
       "      <th>Risk</th>\n",
       "      <th>Urgency</th>\n",
       "      <th>Topic</th>\n",
       "      <th>Source Airport</th>\n",
       "      <th>Destination Airport</th>\n",
       "      <th>Carrier</th>\n",
       "    </tr>\n",
       "  </thead>\n",
       "  <tbody>\n",
       "    <tr>\n",
       "      <th>0</th>\n",
       "      <td>Answer: Positive</td>\n",
       "      <td>Low Risk</td>\n",
       "      <td>Non-Immediate</td>\n",
       "      <td>Comfort and Seating</td>\n",
       "      <td>Source Airport Unknown</td>\n",
       "      <td>Destination Airport Unknown</td>\n",
       "      <td>Carrier Unknown.</td>\n",
       "    </tr>\n",
       "    <tr>\n",
       "      <th>1</th>\n",
       "      <td>Answer: Positive</td>\n",
       "      <td>Low Risk</td>\n",
       "      <td>Non-Immediate</td>\n",
       "      <td>Customer Experience and Satisfaction</td>\n",
       "      <td>Heathrow</td>\n",
       "      <td>Austin</td>\n",
       "      <td>British Airways</td>\n",
       "    </tr>\n",
       "    <tr>\n",
       "      <th>2</th>\n",
       "      <td>Answer: Positive</td>\n",
       "      <td>Low Risk</td>\n",
       "      <td>Non-Immediate</td>\n",
       "      <td>Flight and In-Flight Experience</td>\n",
       "      <td>ZRH</td>\n",
       "      <td>SFO</td>\n",
       "      <td>British Airways</td>\n",
       "    </tr>\n",
       "    <tr>\n",
       "      <th>3</th>\n",
       "      <td>Answer: Positive</td>\n",
       "      <td>High Risk</td>\n",
       "      <td>Non-Immediate</td>\n",
       "      <td>Aircraft Condition and Cleanliness</td>\n",
       "      <td>London</td>\n",
       "      <td>Paris</td>\n",
       "      <td>Unknown</td>\n",
       "    </tr>\n",
       "    <tr>\n",
       "      <th>4</th>\n",
       "      <td>Answer: Positive</td>\n",
       "      <td>Low Risk</td>\n",
       "      <td>Non-Immediate</td>\n",
       "      <td>Flight and In-Flight Experience</td>\n",
       "      <td>JFK</td>\n",
       "      <td>LHR</td>\n",
       "      <td>Unknown</td>\n",
       "    </tr>\n",
       "  </tbody>\n",
       "</table>\n",
       "</div>"
      ],
      "text/plain": [
       "          Sentiment       Risk        Urgency  \\\n",
       "0  Answer: Positive   Low Risk  Non-Immediate   \n",
       "1  Answer: Positive   Low Risk  Non-Immediate   \n",
       "2  Answer: Positive   Low Risk  Non-Immediate   \n",
       "3  Answer: Positive  High Risk  Non-Immediate   \n",
       "4  Answer: Positive   Low Risk  Non-Immediate   \n",
       "\n",
       "                                  Topic          Source Airport  \\\n",
       "0                   Comfort and Seating  Source Airport Unknown   \n",
       "1  Customer Experience and Satisfaction                Heathrow   \n",
       "2       Flight and In-Flight Experience                     ZRH   \n",
       "3    Aircraft Condition and Cleanliness                  London   \n",
       "4       Flight and In-Flight Experience                     JFK   \n",
       "\n",
       "           Destination Airport           Carrier  \n",
       "0  Destination Airport Unknown  Carrier Unknown.  \n",
       "1                       Austin   British Airways  \n",
       "2                          SFO   British Airways  \n",
       "3                        Paris           Unknown  \n",
       "4                          LHR           Unknown  "
      ]
     },
     "execution_count": 82,
     "metadata": {},
     "output_type": "execute_result"
    }
   ],
   "source": [
    "data_df = pd.read_csv('airline_review_classified_v2.csv', index_col = 0)\n",
    "data_df.head()"
   ]
  },
  {
   "cell_type": "code",
   "execution_count": 83,
   "metadata": {},
   "outputs": [
    {
     "data": {
      "text/plain": [
       "array(['Answer: Positive', 'Answer: Negative', 'Negative',\n",
       "       'Answer:\\nPositive', 'Possible answer: Neutral', 'Answer: Neutral',\n",
       "       'Positive', nan, 'Answer:\\nNegative',\n",
       "       'Possible Answer: \\n            Positive', 'Neutral'], dtype=object)"
      ]
     },
     "execution_count": 83,
     "metadata": {},
     "output_type": "execute_result"
    }
   ],
   "source": [
    "data_df.Sentiment.unique()"
   ]
  },
  {
   "cell_type": "code",
   "execution_count": 84,
   "metadata": {},
   "outputs": [],
   "source": [
    "def pydantic_data(row):\n",
    "    pydantic_object = NewReviewAnalysis(sentiment = row.iloc[0],\n",
    "                                        risks = row.iloc[1],\n",
    "                                        urgency = row.iloc[2],\n",
    "                                        topic = row.iloc[3],\n",
    "                                        source_airport = row.iloc[4],\n",
    "                                        destination_airport = row.iloc[5],\n",
    "                                        carrier = row.iloc[6])\n",
    "    return pydantic_object"
   ]
  },
  {
   "cell_type": "code",
   "execution_count": 85,
   "metadata": {},
   "outputs": [],
   "source": [
    "pydantic_data_df = data_df.apply(pydantic_data, axis = 1)"
   ]
  },
  {
   "cell_type": "code",
   "execution_count": 86,
   "metadata": {},
   "outputs": [
    {
     "data": {
      "text/plain": [
       "0      sentiment='Answer: Positive' topic='Comfort an...\n",
       "1      sentiment='Answer: Positive' topic='Customer E...\n",
       "2      sentiment='Answer: Positive' topic='Flight and...\n",
       "3      sentiment='Answer: Positive' topic='Aircraft C...\n",
       "4      sentiment='Answer: Positive' topic='Flight and...\n",
       "                             ...                        \n",
       "495    sentiment='Negative' topic='Aircraft Condition...\n",
       "496    sentiment='Answer: Positive' topic='Operationa...\n",
       "497    sentiment='Answer: Positive' topic='Flight and...\n",
       "498    sentiment='Answer: Negative' topic='Bad Servic...\n",
       "499    sentiment='Negative' topic='Service Quality' u...\n",
       "Length: 500, dtype: object"
      ]
     },
     "execution_count": 86,
     "metadata": {},
     "output_type": "execute_result"
    }
   ],
   "source": [
    "pydantic_data_df"
   ]
  },
  {
   "cell_type": "code",
   "execution_count": 87,
   "metadata": {},
   "outputs": [
    {
     "data": {
      "text/plain": [
       "array(['Answer: Positive', 'Answer: Negative', 'Negative',\n",
       "       'Answer:\\nPositive', 'Possible answer: Neutral', 'Answer: Neutral',\n",
       "       'Positive', nan, 'Answer:\\nNegative',\n",
       "       'Possible Answer: \\n            Positive', 'Neutral'], dtype=object)"
      ]
     },
     "execution_count": 87,
     "metadata": {},
     "output_type": "execute_result"
    }
   ],
   "source": [
    "data_df['Sentiment'].unique()"
   ]
  },
  {
   "cell_type": "code",
   "execution_count": 88,
   "metadata": {},
   "outputs": [
    {
     "data": {
      "text/plain": [
       "array(['Low Risk', 'High Risk', 'Medium Risk', nan, 'Moderate Risk',\n",
       "       'Average Risk'], dtype=object)"
      ]
     },
     "execution_count": 88,
     "metadata": {},
     "output_type": "execute_result"
    }
   ],
   "source": [
    "data_df['Risk'].unique()"
   ]
  },
  {
   "cell_type": "code",
   "execution_count": 89,
   "metadata": {},
   "outputs": [
    {
     "data": {
      "text/plain": [
       "array(['Non-Immediate', 'Immediate', nan, 'Urgent', 'Non-immediate'],\n",
       "      dtype=object)"
      ]
     },
     "execution_count": 89,
     "metadata": {},
     "output_type": "execute_result"
    }
   ],
   "source": [
    "data_df['Urgency'].unique()"
   ]
  },
  {
   "cell_type": "code",
   "execution_count": 56,
   "metadata": {},
   "outputs": [],
   "source": [
    "# filtered_df = data_df[data_df['Carrier'].str.contains('British', na=False)]\n"
   ]
  },
  {
   "cell_type": "code",
   "execution_count": 96,
   "metadata": {},
   "outputs": [],
   "source": [
    "import numpy as np"
   ]
  },
  {
   "cell_type": "code",
   "execution_count": 108,
   "metadata": {},
   "outputs": [],
   "source": [
    "\n",
    "def normalize_values(data_df):\n",
    "    # Normalize 'Sentiment' values\n",
    "    sentiment_mapping = {\n",
    "        'Positive': ['Positive', 'Answer: Positive', 'Pleasant', 'Possible Answer: \\n            Positive', 'Answer:\\nPositive'],\n",
    "        'Negative': ['Negative', 'Answer: Negative', 'Answer:\\nNegative'],\n",
    "        'Neutral': ['Neutral', 'Indifferent', 'Unknown', np.nan, 'Possible answer: Neutral', 'Answer: Neutral'],\n",
    "    }\n",
    "    \n",
    "    # Normalize 'Risk' values\n",
    "    risk_mapping = {\n",
    "        'Low Risk': ['Low Risk', 'Low-Risk', 'No Risk', 'Unknown', np.nan],\n",
    "        'Moderate Risk': ['Moderate Risk', 'Medium Risk'],\n",
    "        'High Risk': ['High Risk'],\n",
    "    }\n",
    "\n",
    "    # Normalize 'Urgency' values\n",
    "    urgency_mapping = {\n",
    "        'Non-Immediate': ['Non-Immediate', 'Unknown', np.nan, 'Non-immediate'],\n",
    "        'Immediate': ['Immediate', 'Urgent'],\n",
    "    }\n",
    "\n",
    "    # Helper function for mapping\n",
    "    def map_values(row, mapping):\n",
    "        for key, values in mapping.items():\n",
    "            if row in values:\n",
    "                return key\n",
    "        return row\n",
    "\n",
    "    # Apply mappings\n",
    "    data_df['Sentiment'] = data_df['Sentiment'].apply(lambda x: map_values(x, sentiment_mapping))\n",
    "    data_df['Risk'] = data_df['Risk'].apply(lambda x: map_values(x, risk_mapping))\n",
    "    data_df['Urgency'] = data_df['Urgency'].apply(lambda x: map_values(x, urgency_mapping))\n",
    "\n",
    "    return data_df\n",
    "\n",
    "\n",
    "filtered_df = normalize_values(data_df)\n",
    "\n"
   ]
  },
  {
   "cell_type": "code",
   "execution_count": 109,
   "metadata": {},
   "outputs": [
    {
     "data": {
      "text/plain": [
       "Sentiment               0\n",
       "Risk                    0\n",
       "Urgency                 0\n",
       "Topic                   4\n",
       "Source Airport         10\n",
       "Destination Airport    10\n",
       "Carrier                 4\n",
       "dtype: int64"
      ]
     },
     "execution_count": 109,
     "metadata": {},
     "output_type": "execute_result"
    }
   ],
   "source": [
    "filtered_df.isna().sum()"
   ]
  },
  {
   "cell_type": "code",
   "execution_count": 110,
   "metadata": {},
   "outputs": [
    {
     "data": {
      "text/plain": [
       "array(['Non-Immediate', 'Immediate'], dtype=object)"
      ]
     },
     "execution_count": 110,
     "metadata": {},
     "output_type": "execute_result"
    }
   ],
   "source": [
    "filtered_df.Urgency.unique()"
   ]
  },
  {
   "cell_type": "code",
   "execution_count": 111,
   "metadata": {},
   "outputs": [
    {
     "name": "stdout",
     "output_type": "stream",
     "text": [
      "              precision    recall  f1-score   support\n",
      "\n",
      "    Negative       0.93      0.47      0.62       265\n",
      "     Neutral       0.00      0.00      0.00        22\n",
      "    Positive       0.56      0.96      0.71       213\n",
      "\n",
      "    accuracy                           0.66       500\n",
      "   macro avg       0.49      0.48      0.44       500\n",
      "weighted avg       0.73      0.66      0.63       500\n",
      "\n"
     ]
    }
   ],
   "source": [
    "from sklearn.metrics import classification_report\n",
    "\n",
    "print(classification_report(filtered_df['Sentiment'], analysis_df['sentiment']))"
   ]
  },
  {
   "cell_type": "code",
   "execution_count": 112,
   "metadata": {},
   "outputs": [
    {
     "name": "stdout",
     "output_type": "stream",
     "text": [
      "               precision    recall  f1-score   support\n",
      "\n",
      "    Immediate       0.23      0.46      0.31       117\n",
      "Non-Immediate       0.76      0.52      0.62       383\n",
      "\n",
      "     accuracy                           0.51       500\n",
      "    macro avg       0.50      0.49      0.46       500\n",
      " weighted avg       0.64      0.51      0.55       500\n",
      "\n"
     ]
    }
   ],
   "source": [
    "print(classification_report(filtered_df['Urgency'], analysis_df['urgency'])) "
   ]
  },
  {
   "cell_type": "code",
   "execution_count": 113,
   "metadata": {},
   "outputs": [],
   "source": [
    "filtered_df = filtered_df[filtered_df['Carrier'].str.contains('British', na=False)]"
   ]
  },
  {
   "cell_type": "code",
   "execution_count": 114,
   "metadata": {},
   "outputs": [
    {
     "data": {
      "text/html": [
       "<div>\n",
       "<style scoped>\n",
       "    .dataframe tbody tr th:only-of-type {\n",
       "        vertical-align: middle;\n",
       "    }\n",
       "\n",
       "    .dataframe tbody tr th {\n",
       "        vertical-align: top;\n",
       "    }\n",
       "\n",
       "    .dataframe thead th {\n",
       "        text-align: right;\n",
       "    }\n",
       "</style>\n",
       "<table border=\"1\" class=\"dataframe\">\n",
       "  <thead>\n",
       "    <tr style=\"text-align: right;\">\n",
       "      <th></th>\n",
       "      <th>Sentiment</th>\n",
       "      <th>Risk</th>\n",
       "      <th>Urgency</th>\n",
       "      <th>Topic</th>\n",
       "      <th>Source Airport</th>\n",
       "      <th>Destination Airport</th>\n",
       "      <th>Carrier</th>\n",
       "    </tr>\n",
       "  </thead>\n",
       "  <tbody>\n",
       "    <tr>\n",
       "      <th>1</th>\n",
       "      <td>Positive</td>\n",
       "      <td>Low Risk</td>\n",
       "      <td>Non-Immediate</td>\n",
       "      <td>Customer Experience and Satisfaction</td>\n",
       "      <td>Heathrow</td>\n",
       "      <td>Austin</td>\n",
       "      <td>British Airways</td>\n",
       "    </tr>\n",
       "    <tr>\n",
       "      <th>2</th>\n",
       "      <td>Positive</td>\n",
       "      <td>Low Risk</td>\n",
       "      <td>Non-Immediate</td>\n",
       "      <td>Flight and In-Flight Experience</td>\n",
       "      <td>ZRH</td>\n",
       "      <td>SFO</td>\n",
       "      <td>British Airways</td>\n",
       "    </tr>\n",
       "    <tr>\n",
       "      <th>5</th>\n",
       "      <td>Negative</td>\n",
       "      <td>High Risk</td>\n",
       "      <td>Immediate</td>\n",
       "      <td>Customer Experience and Satisfaction</td>\n",
       "      <td>London Heathrow</td>\n",
       "      <td>Cape Town</td>\n",
       "      <td>British Airways</td>\n",
       "    </tr>\n",
       "    <tr>\n",
       "      <th>6</th>\n",
       "      <td>Positive</td>\n",
       "      <td>Low Risk</td>\n",
       "      <td>Non-Immediate</td>\n",
       "      <td>Flight and In-Flight Experience</td>\n",
       "      <td>London City</td>\n",
       "      <td>Florence</td>\n",
       "      <td>BA (British Airways)</td>\n",
       "    </tr>\n",
       "    <tr>\n",
       "      <th>7</th>\n",
       "      <td>Negative</td>\n",
       "      <td>Low Risk</td>\n",
       "      <td>Non-Immediate</td>\n",
       "      <td>Pricing and Policies</td>\n",
       "      <td>Singapore</td>\n",
       "      <td>London Heathrow</td>\n",
       "      <td>British Airways</td>\n",
       "    </tr>\n",
       "  </tbody>\n",
       "</table>\n",
       "</div>"
      ],
      "text/plain": [
       "  Sentiment       Risk        Urgency                                 Topic  \\\n",
       "1  Positive   Low Risk  Non-Immediate  Customer Experience and Satisfaction   \n",
       "2  Positive   Low Risk  Non-Immediate       Flight and In-Flight Experience   \n",
       "5  Negative  High Risk      Immediate  Customer Experience and Satisfaction   \n",
       "6  Positive   Low Risk  Non-Immediate       Flight and In-Flight Experience   \n",
       "7  Negative   Low Risk  Non-Immediate                  Pricing and Policies   \n",
       "\n",
       "    Source Airport Destination Airport               Carrier  \n",
       "1         Heathrow              Austin       British Airways  \n",
       "2              ZRH                 SFO       British Airways  \n",
       "5  London Heathrow           Cape Town       British Airways  \n",
       "6      London City            Florence  BA (British Airways)  \n",
       "7        Singapore     London Heathrow       British Airways  "
      ]
     },
     "execution_count": 114,
     "metadata": {},
     "output_type": "execute_result"
    }
   ],
   "source": [
    "filtered_df.head()"
   ]
  },
  {
   "cell_type": "code",
   "execution_count": 115,
   "metadata": {},
   "outputs": [],
   "source": [
    "import pandas as pd\n",
    "import matplotlib.pyplot as plt\n",
    "import seaborn as sns\n",
    "\n",
    "\n",
    "# 1. Overview of distribution of feedback by sentiment, risk, urgency, topic for every Career\n",
    "def plot_distribution_by_career(data_df, career_column):\n",
    "    features = ['Sentiment', 'Risk', 'Urgency', 'Topic']\n",
    "    top_careers = data_df[career_column].value_counts().index[:3]  # Get top 3 careers\n",
    "    filtered_df = data_df[data_df[career_column].isin(top_careers)]  # Filter DataFrame\n",
    "\n",
    "    for feature in features:\n",
    "        plt.figure(figsize=(20, 6))\n",
    "        sns.countplot(x=feature, data=filtered_df)\n",
    "        plt.xticks(rotation = 90)\n",
    "        plt.title(f'Distribution of {feature} by {career_column}')\n",
    "        plt.show()\n",
    "\n",
    "\n",
    "\n",
    "# 2. Overview of distribution of feedback by sentiment, risk, urgency, topic for every source airport\n",
    "def plot_distribution_by_source_airport(data_df):\n",
    "    features = ['Sentiment', 'Risk', 'Urgency', 'Topic']\n",
    "    top_airports = data_df['Source Airport'].value_counts().index[:3]  # Get top 3 airports\n",
    "    filtered_df = data_df[data_df['Source Airport'].isin(top_airports)]  # Filter DataFrame\n",
    "\n",
    "    for feature in features:\n",
    "        plt.figure(figsize=(20, 6))\n",
    "        sns.countplot(x=feature, data=filtered_df)\n",
    "        plt.xticks(rotation = 90)\n",
    "        plt.title(f'Distribution of {feature} by Source Airport')\n",
    "        plt.show()\n",
    "\n",
    "# 3. Identifying top things customers like and airline should continue offering\n",
    "def top_positive_feedback(data_df):\n",
    "    \"\"\"\n",
    "    This function identifies the top positive aspects that customers like.\n",
    "    \"\"\"\n",
    "    # Assuming positive sentiment is labeled in a certain way (e.g., 'Positive')\n",
    "    positive_feedback = data_df[data_df['Sentiment'] == 'Positive']\n",
    "    top_topics = positive_feedback['Topic'].value_counts().head(5)\n",
    "    return top_topics\n",
    "\n",
    "# 4. Identifying top pain points from the reviews\n",
    "def top_pain_points(data_df):\n",
    "    \"\"\"\n",
    "    This function identifies the top pain points mentioned in the reviews.\n",
    "    \"\"\"\n",
    "    # Assuming negative sentiment is labeled in a certain way (e.g., 'Negative')\n",
    "    negative_feedback = data_df[data_df['Sentiment'] == 'Negative']\n",
    "    pain_points = negative_feedback['Topic'].value_counts().head(5)\n",
    "    return pain_points\n",
    "\n"
   ]
  },
  {
   "cell_type": "code",
   "execution_count": 116,
   "metadata": {},
   "outputs": [
    {
     "data": {
      "image/png": "[encoded data removed]",
      "text/plain": [
       "<Figure size 1440x432 with 1 Axes>"
      ]
     },
     "metadata": {
      "needs_background": "light"
     },
     "output_type": "display_data"
    },
    {
     "data": {
      "image/png": "[encoded data removed]",
      "text/plain": [
       "<Figure size 1440x432 with 1 Axes>"
      ]
     },
     "metadata": {
      "needs_background": "light"
     },
     "output_type": "display_data"
    },
    {
     "data": {
      "image/png": "[encoded data removed]",
      "text/plain": [
       "<Figure size 1440x432 with 1 Axes>"
      ]
     },
     "metadata": {
      "needs_background": "light"
     },
     "output_type": "display_data"
    },
    {
     "data": {
      "image/png": "[encoded data removed]",
      "text/plain": [
       "<Figure size 1440x432 with 1 Axes>"
      ]
     },
     "metadata": {
      "needs_background": "light"
     },
     "output_type": "display_data"
    }
   ],
   "source": [
    "plot_distribution_by_career(filtered_df, 'Carrier')"
   ]
  },
  {
   "cell_type": "code",
   "execution_count": 117,
   "metadata": {},
   "outputs": [
    {
     "data": {
      "image/png": "[encoded data removed]",
      "text/plain": [
       "<Figure size 1440x432 with 1 Axes>"
      ]
     },
     "metadata": {
      "needs_background": "light"
     },
     "output_type": "display_data"
    },
    {
     "data": {
      "image/png": "[encoded data removed]",
      "text/plain": [
       "<Figure size 1440x432 with 1 Axes>"
      ]
     },
     "metadata": {
      "needs_background": "light"
     },
     "output_type": "display_data"
    },
    {
     "data": {
      "image/png": "[encoded data removed]",
      "text/plain": [
       "<Figure size 1440x432 with 1 Axes>"
      ]
     },
     "metadata": {
      "needs_background": "light"
     },
     "output_type": "display_data"
    },
    {
     "data": {
      "image/png": "[encoded data removed]",
      "text/plain": [
       "<Figure size 1440x432 with 1 Axes>"
      ]
     },
     "metadata": {
      "needs_background": "light"
     },
     "output_type": "display_data"
    }
   ],
   "source": [
    "plot_distribution_by_source_airport(filtered_df)"
   ]
  },
  {
   "cell_type": "code",
   "execution_count": 118,
   "metadata": {},
   "outputs": [
    {
     "data": {
      "text/plain": [
       "Flight and In-Flight Experience         66\n",
       "Customer Experience and Satisfaction    32\n",
       "Service Quality                         18\n",
       "Comfort and Seating                     14\n",
       "Aircraft Condition and Cleanliness       7\n",
       "Name: Topic, dtype: int64"
      ]
     },
     "execution_count": 118,
     "metadata": {},
     "output_type": "execute_result"
    }
   ],
   "source": [
    "top_positive_feedback(filtered_df)"
   ]
  },
  {
   "cell_type": "code",
   "execution_count": 119,
   "metadata": {},
   "outputs": [
    {
     "data": {
      "text/plain": [
       "Customer Experience and Satisfaction    59\n",
       "Service Quality                         49\n",
       "Bad Service                             37\n",
       "Flight and In-Flight Experience         23\n",
       "Pricing and Policies                    16\n",
       "Name: Topic, dtype: int64"
      ]
     },
     "execution_count": 119,
     "metadata": {},
     "output_type": "execute_result"
    }
   ],
   "source": [
    "top_pain_points(filtered_df)"
   ]
  },
  {
   "cell_type": "code",
   "execution_count": null,
   "metadata": {},
   "outputs": [],
   "source": []
  }
 ],
 "metadata": {
  "kernelspec": {
   "display_name": "base",
   "language": "python",
   "name": "python3"
  },
  "language_info": {
   "codemirror_mode": {
    "name": "ipython",
    "version": 3
   },
   "file_extension": ".py",
   "mimetype": "text/x-python",
   "name": "python",
   "nbconvert_exporter": "python",
   "pygments_lexer": "ipython3",
   "version": "3.9.12"
  }
 },
 "nbformat": 4,
 "nbformat_minor": 2
}
