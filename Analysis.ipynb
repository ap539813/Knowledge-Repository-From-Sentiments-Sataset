{
 "cells": [
  {
   "cell_type": "markdown",
   "metadata": {},
   "source": [
    "### Step 1: Load and Explore the Dataset\n",
    "\n",
    "I'll begin by loading the dataset into a pandas DataFrame and taking a quick look at the first few rows.\n"
   ]
  },
  {
   "cell_type": "code",
   "execution_count": 4,
   "metadata": {},
   "outputs": [
    {
     "data": {
      "text/html": [
       "<div>\n",
       "<style scoped>\n",
       "    .dataframe tbody tr th:only-of-type {\n",
       "        vertical-align: middle;\n",
       "    }\n",
       "\n",
       "    .dataframe tbody tr th {\n",
       "        vertical-align: top;\n",
       "    }\n",
       "\n",
       "    .dataframe thead th {\n",
       "        text-align: right;\n",
       "    }\n",
       "</style>\n",
       "<table border=\"1\" class=\"dataframe\">\n",
       "  <thead>\n",
       "    <tr style=\"text-align: right;\">\n",
       "      <th></th>\n",
       "      <th>review</th>\n",
       "    </tr>\n",
       "  </thead>\n",
       "  <tbody>\n",
       "    <tr>\n",
       "      <th>0</th>\n",
       "      <td>The service was excellent. The cabin staff we...</td>\n",
       "    </tr>\n",
       "    <tr>\n",
       "      <th>1</th>\n",
       "      <td>We have had some torrid experiences with BA -...</td>\n",
       "    </tr>\n",
       "    <tr>\n",
       "      <th>2</th>\n",
       "      <td>We had a flight from ZRH to SFO via LHR. The l...</td>\n",
       "    </tr>\n",
       "    <tr>\n",
       "      <th>3</th>\n",
       "      <td>London to Paris. I wish that they would updat...</td>\n",
       "    </tr>\n",
       "    <tr>\n",
       "      <th>4</th>\n",
       "      <td>JFK to LHR. Empty check in and priority securi...</td>\n",
       "    </tr>\n",
       "  </tbody>\n",
       "</table>\n",
       "</div>"
      ],
      "text/plain": [
       "                                              review\n",
       "0   The service was excellent. The cabin staff we...\n",
       "1   We have had some torrid experiences with BA -...\n",
       "2  We had a flight from ZRH to SFO via LHR. The l...\n",
       "3   London to Paris. I wish that they would updat...\n",
       "4  JFK to LHR. Empty check in and priority securi..."
      ]
     },
     "execution_count": 4,
     "metadata": {},
     "output_type": "execute_result"
    }
   ],
   "source": [
    "import pandas as pd\n",
    "\n",
    "# Load the dataset\n",
    "airlines_reviews_df = pd.read_csv('airlines_reviews.csv')\n",
    "\n",
    "# Display the first few rows of the dataset\n",
    "airlines_reviews_df.head()\n"
   ]
  },
  {
   "cell_type": "markdown",
   "metadata": {},
   "source": [
    "### Step 2: Information Retrieval\n",
    "1. **Sentiment Analysis**: We'll gauge the sentiment of each review. This can be broadly categorized as positive, negative, or neutral.\n",
    "2. **Category of Complaints**: By using keyword extraction or topic modeling, we can identify common categories of complaints or feedback.\n",
    "3. **Urgency**: While determining urgency directly from the reviews might be challenging, we can infer urgency by looking for specific keywords or phrases that indicate immediate issues or concerns.\n",
    "4. **Risks**: We can identify potential risks by searching for keywords that might indicate safety or health concerns.\n",
    "5. **Other Information**: Depending on the reviews' content, we might identify other patterns or keywords that can provide additional insights."
   ]
  },
  {
   "cell_type": "markdown",
   "metadata": {},
   "source": [
    "### Step 3: Define a Pydantic Model\n",
    "We'll define a Pydantic model to structure the information we retrieve from the reviews. This will ensure that the extracted data is validated and serialized in a consistent manner."
   ]
  },
  {
   "cell_type": "code",
   "execution_count": 5,
   "metadata": {},
   "outputs": [
    {
     "data": {
      "text/plain": [
       "{'sentiment': 'Positive',\n",
       " 'categories': ['In-flight Service'],\n",
       " 'urgency': 'Non-Immediate',\n",
       " 'risks': [],\n",
       " 'additional_info': 'Staff were very friendly and accommodating.'}"
      ]
     },
     "execution_count": 5,
     "metadata": {},
     "output_type": "execute_result"
    }
   ],
   "source": [
    "from pydantic import BaseModel\n",
    "from typing import Optional, List\n",
    "\n",
    "# Define the schema for the knowledge repository\n",
    "class ReviewAnalysis(BaseModel):\n",
    "    sentiment: Optional[str]  # This will be 'Positive', 'Neutral', or 'Negative'\n",
    "    categories: Optional[List[str]]  # Categories of complaints or feedback\n",
    "    urgency: Optional[str]  # This will be 'Immediate' or 'Non-Immediate'\n",
    "    risks: Optional[List[str]]  # List of any risks mentioned\n",
    "    additional_info: Optional[str]  # Any other useful information extracted from the review\n",
    "\n",
    "example_review_analysis = ReviewAnalysis(\n",
    "    sentiment='Positive',\n",
    "    categories=['In-flight Service'],\n",
    "    urgency='Non-Immediate',\n",
    "    risks=[],\n",
    "    additional_info='Staff were very friendly and accommodating.'\n",
    ")\n",
    "\n",
    "example_review_analysis.dict()  # To display how the data is structured according to the schema\n"
   ]
  },
  {
   "cell_type": "markdown",
   "metadata": {},
   "source": [
    "The schema for our knowledge repository has been defined using Pydantic. Each ReviewAnalysis object includes:\n",
    "\n",
    "- **sentiment**: A string that can be 'Positive', 'Neutral', or 'Negative'.\n",
    "- **categories**: A list of strings representing different categories of complaints or feedback.\n",
    "- **urgency**: A string that can be 'Immediate' or 'Non-Immediate'.\n",
    "- **risks**: A list of strings indicating any risks mentioned in the review.\n",
    "- **additional_info**: A string containing any other useful information extracted from the review."
   ]
  },
  {
   "cell_type": "markdown",
   "metadata": {},
   "source": [
    "## Analyse Review"
   ]
  },
  {
   "cell_type": "markdown",
   "metadata": {},
   "source": [
    "Now we will need to process the dataset to populate instances of ReviewAnalysis with actual data from the reviews. We'll create a function to analyze each review and then apply this function to the dataset.\n",
    "\n",
    "The function will need to:\n",
    "\n",
    "- Determine the sentiment of the review.\n",
    "- Categorize the content of the review.\n",
    "- Assess urgency and identify any risks.\n",
    "- Extract any additional relevant information."
   ]
  },
  {
   "cell_type": "code",
   "execution_count": 11,
   "metadata": {},
   "outputs": [
    {
     "data": {
      "text/plain": [
       "[ReviewAnalysis(sentiment='Positive', categories=['in-flight service', 'seating', 'staff behavior'], urgency='Non-Immediate', risks=[], additional_info=''),\n",
       " ReviewAnalysis(sentiment='Positive', categories=['in-flight service', 'baggage handling', 'seating', 'staff behavior', 'delays'], urgency='Non-Immediate', risks=[], additional_info=''),\n",
       " ReviewAnalysis(sentiment='Positive', categories=['in-flight service', 'staff behavior', 'entertainment', 'cleanliness'], urgency='Non-Immediate', risks=[], additional_info=''),\n",
       " ReviewAnalysis(sentiment='Positive', categories=['ticketing', 'seating'], urgency='Non-Immediate', risks=[], additional_info=''),\n",
       " ReviewAnalysis(sentiment='Positive', categories=['in-flight service', 'staff behavior', 'delays'], urgency='Non-Immediate', risks=[], additional_info='')]"
      ]
     },
     "execution_count": 11,
     "metadata": {},
     "output_type": "execute_result"
    }
   ],
   "source": [
    "from textblob import TextBlob\n",
    "import re\n",
    "\n",
    "# Function to analyze each review\n",
    "def analyze_review(review):\n",
    "    # Analyze sentiment using TextBlob\n",
    "    analysis = TextBlob(review)\n",
    "    sentiment = 'Positive' if analysis.sentiment.polarity > 0 else 'Negative' if analysis.sentiment.polarity < 0 else 'Neutral'\n",
    "    \n",
    "    # Determine the category based on keywords (very simplistic approach)\n",
    "    review_categories = []\n",
    "    categories = {\n",
    "    \"in-flight service\": [\"cabin\", \"service\", \"in-flight\", \"meal\", \"food\", \"beverage\"],\n",
    "    \"baggage handling\": [\"baggage\", \"luggage\", \"lost\", \"damaged\", \"delayed\"],\n",
    "    \"ticketing\": [\"ticket\", \"booking\", \"reservation\", \"price\", \"cost\", \"charge\"],\n",
    "    \"seating\": [\"seat\", \"legroom\", \"space\", \"comfort\", \"recline\", \"position\"],\n",
    "    \"staff behavior\": [\"staff\", \"crew\", \"attendant\", \"rude\", \"friendly\", \"helpful\"],\n",
    "    \"delays\": [\"delay\", \"late\", \"wait\", \"time\", \"hour\", \"postponed\"],\n",
    "    \"entertainment\": [\"entertainment\", \"screen\", \"movie\", \"audio\", \"headphone\"],\n",
    "    \"safety\": [\"safety\", \"emergency\", \"seatbelt\", \"landing\", \"takeoff\"],\n",
    "    \"cleanliness\": [\"clean\", \"dirty\", \"maintained\", \"hygiene\", \"sanitary\"]\n",
    "}\n",
    "    for category, keywords in categories.items():\n",
    "        if any(keyword in review.lower() for keyword in keywords):\n",
    "            review_categories.append(category)\n",
    "    \n",
    "    # Urgency and risks would also typically be determined by keywords or ML models. \n",
    "    # For now, we will use simple keywords, this will ofcourse be canged if needed\n",
    "    urgency = 'Immediate' if 'urgent' in review.lower() or 'asap' in review.lower() else 'Non-Immediate'\n",
    "    \n",
    "    # Risks might include words like 'danger', 'unsafe', 'risk', 'emergency'\n",
    "    risk_keywords = ['danger', 'unsafe', 'risk', 'emergency']\n",
    "    risks = [word for word in risk_keywords if word in review.lower()]\n",
    "    \n",
    "    # For additional info, we might extract anything in quotes as a simple proxy for specific comments.\n",
    "    additional_info = ' '.join(re.findall(r'\"(.*?)\"', review))\n",
    "    \n",
    "    return ReviewAnalysis(\n",
    "        sentiment=sentiment,\n",
    "        categories=review_categories,\n",
    "        urgency=urgency,\n",
    "        risks=risks,\n",
    "        additional_info=additional_info\n",
    "    )\n",
    "\n",
    "# Apply the function to a small subset of the dataset to test it\n",
    "sample_reviews_analysis = airlines_reviews_df['review'].head().apply(analyze_review)\n",
    "sample_reviews_analysis.tolist()\n"
   ]
  },
  {
   "cell_type": "markdown",
   "metadata": {},
   "source": [
    "In the above output, for each review, we have:\n",
    "\n",
    "- **sentiment**: Determined as 'Positive' or 'Negative' based on the polarity of the text.\n",
    "- **categories**: Identified based on predefined keywords related to common airline service categories.\n",
    "- **urgency**: Assessed as 'Immediate' or 'Non-Immediate' based on specific keywords in the text.\n",
    "- **risks**: Identified by the presence of risk-related keywords.\n",
    "- **additional_info**: Extracted as text within quotes."
   ]
  },
  {
   "cell_type": "code",
   "execution_count": 8,
   "metadata": {},
   "outputs": [
    {
     "data": {
      "text/plain": [
       "500"
      ]
     },
     "execution_count": 8,
     "metadata": {},
     "output_type": "execute_result"
    }
   ],
   "source": [
    "# Let's check the size of the dataset to decide how to proceed\n",
    "dataset_size = len(airlines_reviews_df)\n",
    "dataset_size\n"
   ]
  },
  {
   "cell_type": "markdown",
   "metadata": {},
   "source": [
    "The dataset contains 500 reviews, which is a manageable size for processing in one go without the need for chunking. We'll apply the analysis function to the entire dataset, store the results in a new DataFrame, and then extract insights."
   ]
  },
  {
   "cell_type": "code",
   "execution_count": 10,
   "metadata": {},
   "outputs": [
    {
     "data": {
      "text/html": [
       "<div>\n",
       "<style scoped>\n",
       "    .dataframe tbody tr th:only-of-type {\n",
       "        vertical-align: middle;\n",
       "    }\n",
       "\n",
       "    .dataframe tbody tr th {\n",
       "        vertical-align: top;\n",
       "    }\n",
       "\n",
       "    .dataframe thead th {\n",
       "        text-align: right;\n",
       "    }\n",
       "</style>\n",
       "<table border=\"1\" class=\"dataframe\">\n",
       "  <thead>\n",
       "    <tr style=\"text-align: right;\">\n",
       "      <th></th>\n",
       "      <th>sentiment</th>\n",
       "      <th>categories</th>\n",
       "      <th>urgency</th>\n",
       "      <th>risks</th>\n",
       "      <th>additional_info</th>\n",
       "    </tr>\n",
       "  </thead>\n",
       "  <tbody>\n",
       "    <tr>\n",
       "      <th>0</th>\n",
       "      <td>Positive</td>\n",
       "      <td>[In-flight Service]</td>\n",
       "      <td>Non-Immediate</td>\n",
       "      <td>[]</td>\n",
       "      <td></td>\n",
       "    </tr>\n",
       "    <tr>\n",
       "      <th>1</th>\n",
       "      <td>Positive</td>\n",
       "      <td>[In-flight Service, Baggage Handling, Delays]</td>\n",
       "      <td>Non-Immediate</td>\n",
       "      <td>[]</td>\n",
       "      <td></td>\n",
       "    </tr>\n",
       "    <tr>\n",
       "      <th>2</th>\n",
       "      <td>Positive</td>\n",
       "      <td>[In-flight Service, Cleanliness]</td>\n",
       "      <td>Non-Immediate</td>\n",
       "      <td>[]</td>\n",
       "      <td></td>\n",
       "    </tr>\n",
       "    <tr>\n",
       "      <th>3</th>\n",
       "      <td>Positive</td>\n",
       "      <td>[]</td>\n",
       "      <td>Non-Immediate</td>\n",
       "      <td>[]</td>\n",
       "      <td></td>\n",
       "    </tr>\n",
       "    <tr>\n",
       "      <th>4</th>\n",
       "      <td>Positive</td>\n",
       "      <td>[Delays]</td>\n",
       "      <td>Non-Immediate</td>\n",
       "      <td>[]</td>\n",
       "      <td></td>\n",
       "    </tr>\n",
       "  </tbody>\n",
       "</table>\n",
       "</div>"
      ],
      "text/plain": [
       "  sentiment                                     categories        urgency  \\\n",
       "0  Positive                            [In-flight Service]  Non-Immediate   \n",
       "1  Positive  [In-flight Service, Baggage Handling, Delays]  Non-Immediate   \n",
       "2  Positive               [In-flight Service, Cleanliness]  Non-Immediate   \n",
       "3  Positive                                             []  Non-Immediate   \n",
       "4  Positive                                       [Delays]  Non-Immediate   \n",
       "\n",
       "  risks additional_info  \n",
       "0    []                  \n",
       "1    []                  \n",
       "2    []                  \n",
       "3    []                  \n",
       "4    []                  "
      ]
     },
     "execution_count": 10,
     "metadata": {},
     "output_type": "execute_result"
    }
   ],
   "source": [
    "# Apply the analysis to the entire dataset\n",
    "full_reviews_analysis = airlines_reviews_df['review'].apply(analyze_review)\n",
    "\n",
    "# Convert the list of ReviewAnalysis objects to a list of dictionaries and then to a DataFrame\n",
    "analysis_dicts = [analysis.dict() for analysis in full_reviews_analysis]\n",
    "analysis_df = pd.DataFrame(analysis_dicts)\n",
    "\n",
    "analysis_df.head()\n"
   ]
  },
  {
   "cell_type": "markdown",
   "metadata": {},
   "source": [
    "The analysis results have been successfully structured into a pandas DataFrame. The DataFrame includes columns for sentiment, categories, urgency, risks, and additional_info based on the content of each review."
   ]
  },
  {
   "cell_type": "code",
   "execution_count": 12,
   "metadata": {},
   "outputs": [
    {
     "data": {
      "image/png": "[encoded data removed]",
      "text/plain": [
       "<Figure size 576x432 with 1 Axes>"
      ]
     },
     "metadata": {
      "needs_background": "light"
     },
     "output_type": "display_data"
    },
    {
     "data": {
      "text/plain": [
       "Positive    365\n",
       "Negative    134\n",
       "Neutral       1\n",
       "Name: sentiment, dtype: int64"
      ]
     },
     "execution_count": 12,
     "metadata": {},
     "output_type": "execute_result"
    }
   ],
   "source": [
    "import matplotlib.pyplot as plt\n",
    "\n",
    "# Insight 1: Distribution of sentiments across all reviews\n",
    "sentiment_counts = analysis_df['sentiment'].value_counts()\n",
    "\n",
    "# Plotting the sentiment distribution\n",
    "plt.figure(figsize=(8, 6))\n",
    "sentiment_counts.plot(kind='bar', color=['green', 'blue', 'red'])\n",
    "plt.title('Distribution of Sentiments Across Reviews')\n",
    "plt.xlabel('Sentiment')\n",
    "plt.ylabel('Number of Reviews')\n",
    "plt.xticks(rotation=0)\n",
    "plt.show()\n",
    "\n",
    "sentiment_counts\n"
   ]
  },
  {
   "cell_type": "code",
   "execution_count": 13,
   "metadata": {},
   "outputs": [
    {
     "data": {
      "image/png": "[encoded data removed]",
      "text/plain": [
       "<Figure size 720x576 with 1 Axes>"
      ]
     },
     "metadata": {
      "needs_background": "light"
     },
     "output_type": "display_data"
    },
    {
     "data": {
      "text/html": [
       "<div>\n",
       "<style scoped>\n",
       "    .dataframe tbody tr th:only-of-type {\n",
       "        vertical-align: middle;\n",
       "    }\n",
       "\n",
       "    .dataframe tbody tr th {\n",
       "        vertical-align: top;\n",
       "    }\n",
       "\n",
       "    .dataframe thead th {\n",
       "        text-align: right;\n",
       "    }\n",
       "</style>\n",
       "<table border=\"1\" class=\"dataframe\">\n",
       "  <thead>\n",
       "    <tr style=\"text-align: right;\">\n",
       "      <th></th>\n",
       "      <th>Category</th>\n",
       "      <th>Count</th>\n",
       "    </tr>\n",
       "  </thead>\n",
       "  <tbody>\n",
       "    <tr>\n",
       "      <th>0</th>\n",
       "      <td>In-flight Service</td>\n",
       "      <td>318</td>\n",
       "    </tr>\n",
       "    <tr>\n",
       "      <th>2</th>\n",
       "      <td>Delays</td>\n",
       "      <td>196</td>\n",
       "    </tr>\n",
       "    <tr>\n",
       "      <th>1</th>\n",
       "      <td>Baggage Handling</td>\n",
       "      <td>86</td>\n",
       "    </tr>\n",
       "    <tr>\n",
       "      <th>4</th>\n",
       "      <td>Ticketing</td>\n",
       "      <td>75</td>\n",
       "    </tr>\n",
       "    <tr>\n",
       "      <th>3</th>\n",
       "      <td>Cleanliness</td>\n",
       "      <td>65</td>\n",
       "    </tr>\n",
       "  </tbody>\n",
       "</table>\n",
       "</div>"
      ],
      "text/plain": [
       "            Category  Count\n",
       "0  In-flight Service    318\n",
       "2             Delays    196\n",
       "1   Baggage Handling     86\n",
       "4          Ticketing     75\n",
       "3        Cleanliness     65"
      ]
     },
     "execution_count": 13,
     "metadata": {},
     "output_type": "execute_result"
    }
   ],
   "source": [
    "from collections import Counter\n",
    "\n",
    "# Insight 2: Top categories of complaints or feedback\n",
    "# Flatten the list of categories from all reviews and count occurrences\n",
    "all_categories = [category for sublist in analysis_df['categories'] for category in sublist]\n",
    "category_counts = Counter(all_categories)\n",
    "\n",
    "# Convert to a DataFrame for better visualization\n",
    "category_counts_df = pd.DataFrame(category_counts.items(), \n",
    "                                  columns=['Category', 'Count']).sort_values(by='Count', \n",
    "                                                                             ascending=False)\n",
    "\n",
    "# Plotting the top categories\n",
    "plt.figure(figsize=(10, 8))\n",
    "plt.barh(category_counts_df['Category'], category_counts_df['Count'], color='skyblue')\n",
    "plt.title('Top Categories of Complaints or Feedback')\n",
    "plt.xlabel('Number of Mentions')\n",
    "plt.ylabel('Categories')\n",
    "plt.gca().invert_yaxis()  # To display the highest count at the top\n",
    "plt.show()\n",
    "\n",
    "category_counts_df\n"
   ]
  },
  {
   "cell_type": "code",
   "execution_count": 14,
   "metadata": {},
   "outputs": [
    {
     "data": {
      "image/png": "[encoded data removed]",
      "text/plain": [
       "<Figure size 576x432 with 1 Axes>"
      ]
     },
     "metadata": {
      "needs_background": "light"
     },
     "output_type": "display_data"
    },
    {
     "data": {
      "text/plain": [
       "Non-Immediate    500\n",
       "Name: urgency, dtype: int64"
      ]
     },
     "execution_count": 14,
     "metadata": {},
     "output_type": "execute_result"
    }
   ],
   "source": [
    "# Insight 3: Number of reviews indicating immediate urgency\n",
    "urgency_counts = analysis_df['urgency'].value_counts()\n",
    "\n",
    "# Plotting the urgency count\n",
    "plt.figure(figsize=(8, 6))\n",
    "urgency_counts.plot(kind='bar', color=['orange', 'grey'])\n",
    "plt.title('Distribution of Urgency in Reviews')\n",
    "plt.xlabel('Urgency')\n",
    "plt.ylabel('Number of Reviews')\n",
    "plt.xticks(rotation=0)\n",
    "plt.show()\n",
    "\n",
    "urgency_counts\n"
   ]
  },
  {
   "cell_type": "code",
   "execution_count": 15,
   "metadata": {},
   "outputs": [
    {
     "data": {
      "text/plain": [
       "11"
      ]
     },
     "execution_count": 15,
     "metadata": {},
     "output_type": "execute_result"
    }
   ],
   "source": [
    "# Insight 4: Mention of risks in the reviews\n",
    "# Since risks are in a list format in each row, we'll check if any row contains non-empty lists\n",
    "risks_present = analysis_df['risks'].apply(lambda risks: len(risks) > 0)\n",
    "\n",
    "# Count how many reviews have mentioned risks\n",
    "number_of_risks = risks_present.sum()\n",
    "\n",
    "# Output the number of reviews mentioning risks\n",
    "number_of_risks\n"
   ]
  },
  {
   "cell_type": "code",
   "execution_count": 16,
   "metadata": {},
   "outputs": [
    {
     "data": {
      "text/plain": [
       "(116,\n",
       " [\"Compared to the likes of EVA Air or Qatar Airways, British Airways Club World is by far the poor relation. Flew from Glasgow to New York via LHR, the seats have zero storage apart from the small drawer at floor level. It is astonishing that for the money they charge, you have to step over the legs of the person on your outside, especially if you accidentally trip and land on top of them. Food was satisfactory although a small bacon roll for breakfast was again a poor show. AVOD was also satisfactory. Apart from the flat bed, this just really doesn't have a premium feel about it. On our recent trip, on both legs, the crew were excellent, but the product from our national flag carrier simply is not worth the premium prices they charge.\",\n",
       "  'LHR-Washington on a 777-200. Trip got off to a good start in the BA Concorde 1st Class lounge. Nice champagne and a nice quiet ambiance which I like. The place is starting to show signs of wear and tear - with sagging seat cushions. Plane was latest 1st Class and there was only 7 passengers including my wife and I. It seemed a little larger than the 1st I travelled on a month ago on an A380. Maybe it was because of the hideous centre console (that houses he folding table) was smaller - rather than take up half the space. To start we had a small  appetizer  (an Amuse Bouche) which was absolutely hideous. A sort of grilled cheese with burnt bits on it and some sort of couscous. It was foul and we left the lot. Both had a langoustine starter which was ok. The mushrooms with it was wet and horrible texture to the mouth. The soup we both had was nice. My cod dish was very good. My wife said the steak two ways was ok. The braised part she did not eat. Wines all ok. Service from the FAs was fine. In terms of overall quality BA really fail consistently to deliver. As a matter of curiosity I sourced the on way price the day before we left; £5543 - one way. Its an insane price and if I paid that I would be furious as to the product I experienced. Travelling in 1st is only worth it on  sale  offers or Avios. We are travelling back in Club as in my experienced the slightly shorter flight home in First is not worth the money or the Avios. So disappointing. BA really are clueless when it comes to understanding  quality .',\n",
       "  ' ',\n",
       "  'Bucharest to London Heathrow and the worst thing above all are the British Airways business class seats and the shocking lack of legroom. Cramped into a space which is less than many economy seats. And this was Club Europe! Poor breakfast - one slice of bacon, half tomato a few tinned mushrooms and an omelette so overcooked it was grey inside. Seat itself was comfortable and staff were good. Toilet waste bin had tape around it and so a sack was used for rubbish instead! Not a good flight overall.',\n",
       "  ' ',\n",
       "  \"Decided to upgrade and treat myself to BA's Club World. Check in at JFK was efficient. Fast track through to security was a breeze. BA's Galleries Lounge at JFK T7 was shared with Cathay Pacific and LOT Polish Airline. The lounge was spacious and clean. I was encouraged to have my dinner in the lounge as the service is a sleeper service. To my disappointmwnt, there wasn't enough food left although the selections were good but not the best. After my pre-flight dining, I decided to have a shower. The shower rooms were clean and amenities available on request. BA's Club World seat is around 20 inches wide which was very comfortable for the quick 5 hour flight back home. I was greeted by my name by the cabin crew who were friendly. IFE option was the same as flying economy clasd. Menu was handed out a along with Elemis amenity kit. The meals were good but portions could be better. Upon arrival in LHR, bags were delivered on time. I was told to pay a visit to their arrivals lounge but I didn't bother. Overall, I would fly with BA's Club World product again. Seat and bed was very comfortable and well maintained despite the ageing aircraft. Cabin crew friendly and enthusiastic. Just one thing that BA might want to consider is the food portions because their portions are baby sized portions.\",\n",
       "  \"Heathrow - Paris CDG return with British Airways. Bag drop at Terminal 5 quick and hassle free, checked in online so had my boarding pass on my phone. Security was busy at 13.00 but had an hour so no panic. First time I have used BA in 5 years without having access to the lounge through my frequent flyer status but the hour in the terminal pleasant. Boarding quick and seat 7A was spacious departed 20 minutes late with a 10 minute late arrival. Crew nice with a drink and snack provided on a 55 min flight. Return I had no checked baggage so straight through Terminal 2A which is a nice experience with shops and food outlets. Boarding at 17.45 for an 18.00 departure on to a half full A319, departed a little late which meant a late arrival in to T5. A nice flight, nice crew a drink and snack provided. Seat 24A with enough room. Pleasant trip for a short flight, I don't feel it's worth the extra cost for a business class seat, economy was fine. Will use again.\",\n",
       "  \"The staff were not friendly or even helpful. A pregnant lady beside me asked for help with her carry on and the answer was if you can't carry it, don't bring it on board. My husband asked for an extra pillow and he was told only one pillow per passenger. The lady beside my daughter was not given food and when she asked for it, the flight attendant answered in a loud voice  I did ask you  (which did not happen). So don't fly this airline unless you have no other choice.\",\n",
       "  \"Very disappointed with British Airways. Very little leg room, I'm only 5ft 7in but I had to sit sideways for the flight. Food very basic, only a roll on both the outward and the return flight at 5.30pm. Other airlines offer a snack. Wouldn't travel British Airways again, budget airlines have more leg room.\",\n",
       "  ' '])"
      ]
     },
     "execution_count": 16,
     "metadata": {},
     "output_type": "execute_result"
    }
   ],
   "source": [
    "# Insight 5: Common themes or specific phrases in the 'additional_info' column\n",
    "\n",
    "# First, we'll see how many reviews contain additional information\n",
    "additional_info_present = analysis_df['additional_info'].apply(lambda info: len(info.strip()) > 0)\n",
    "\n",
    "# Count how many reviews have additional information\n",
    "number_of_additional_info = additional_info_present.sum()\n",
    "\n",
    "# Show some examples of the additional information provided, if available\n",
    "additional_info_examples = analysis_df[analysis_df['additional_info'] != '']['additional_info'].head(10).tolist()\n",
    "\n",
    "number_of_additional_info, additional_info_examples\n"
   ]
  },
  {
   "cell_type": "code",
   "execution_count": null,
   "metadata": {},
   "outputs": [],
   "source": []
  }
 ],
 "metadata": {
  "kernelspec": {
   "display_name": "base",
   "language": "python",
   "name": "python3"
  },
  "language_info": {
   "codemirror_mode": {
    "name": "ipython",
    "version": 3
   },
   "file_extension": ".py",
   "mimetype": "text/x-python",
   "name": "python",
   "nbconvert_exporter": "python",
   "pygments_lexer": "ipython3",
   "version": "3.9.10"
  }
 },
 "nbformat": 4,
 "nbformat_minor": 2
}
