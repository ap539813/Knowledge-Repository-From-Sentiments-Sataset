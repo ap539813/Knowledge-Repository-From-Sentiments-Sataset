{
 "cells": [
  {
   "cell_type": "code",
   "execution_count": 2,
   "metadata": {},
   "outputs": [],
   "source": [
    "from docx import Document\n",
    "import json\n",
    "\n",
    "import os"
   ]
  },
  {
   "cell_type": "markdown",
   "metadata": {},
   "source": [
    "## Load and read the data"
   ]
  },
  {
   "cell_type": "code",
   "execution_count": 3,
   "metadata": {},
   "outputs": [],
   "source": [
    "def extract_text_from_docx(docx_path):\n",
    "    doc = Document(docx_path)\n",
    "    full_text = []\n",
    "    for para in doc.paragraphs:\n",
    "        full_text.append(para.text)\n",
    "    return '\\n'.join(full_text)\n",
    "\n",
    "vastu_text = extract_text_from_docx('vastu-shastra-V1.docx')\n"
   ]
  },
  {
   "cell_type": "code",
   "execution_count": 4,
   "metadata": {},
   "outputs": [],
   "source": [
    "# we have avoided removing full stops to keep the itentity of sentences\n",
    "\n",
    "def clean_text(text):\n",
    "    cleaned_text = ''\n",
    "    for char in text:\n",
    "        if char.isalnum() or char.isspace() or char == '.':\n",
    "            cleaned_text += char\n",
    "    return cleaned_text\n",
    "\n",
    "vastu_text = clean_text(vastu_text)\n"
   ]
  },
  {
   "cell_type": "markdown",
   "metadata": {},
   "source": [
    "## LLM OpenAI model"
   ]
  },
  {
   "cell_type": "code",
   "execution_count": 5,
   "metadata": {},
   "outputs": [],
   "source": [
    "from langchain.llms import OpenAI\n",
    "from langchain import PromptTemplate, LLMChain\n",
    "\n"
   ]
  },
  {
   "cell_type": "code",
   "execution_count": 6,
   "metadata": {},
   "outputs": [],
   "source": [
    "with open('api_keys.json') as api_file:\n",
    "    api_dict = json.load(api_file)\n",
    "\n",
    "os.environ['OPENAI_API_KEY'] = api_dict['API OPENAI']"
   ]
  },
  {
   "cell_type": "code",
   "execution_count": 7,
   "metadata": {},
   "outputs": [],
   "source": [
    "# Initialize the language model\n",
    "llm = OpenAI()\n"
   ]
  },
  {
   "cell_type": "code",
   "execution_count": 8,
   "metadata": {},
   "outputs": [],
   "source": [
    "template_for_code = \"\"\"\n",
    "Answer question from Vastu Shashtra document:\n",
    "\n",
    "\n",
    "Question:\n",
    "    {question}\n",
    "\n",
    "Instructions:\n",
    "    1. Be very specific to the document I have in conversation history\n",
    "    2. Do not refer to anything else external from the source\n",
    "\n",
    "Answer:\n",
    "\"\"\""
   ]
  },
  {
   "cell_type": "code",
   "execution_count": 9,
   "metadata": {},
   "outputs": [],
   "source": [
    "prompt_repo = PromptTemplate(\n",
    "    template = template_for_code,\n",
    "    input_variables=['question']\n",
    ")\n",
    "question = \"What does Vastu say about kitchen placement?\"\n",
    "\n"
   ]
  },
  {
   "cell_type": "code",
   "execution_count": 10,
   "metadata": {},
   "outputs": [
    {
     "data": {
      "text/plain": [
       "'According to the Vastu Shashtra document, the kitchen should be located in the south-east corner of the house. It should be well ventilated and the cook should face east while cooking. The sink should be placed in the north-east corner of the kitchen.'"
      ]
     },
     "execution_count": 10,
     "metadata": {},
     "output_type": "execute_result"
    }
   ],
   "source": [
    "# Create a LLMChain instance for generating the summary of the repository\n",
    "llm_chain = LLMChain(prompt=prompt_repo, llm=llm)\n",
    "answer_openai = llm_chain.run(\n",
    "    conversation_history = vastu_text,\n",
    "    question = question,\n",
    ")\n",
    "answer_openai"
   ]
  },
  {
   "cell_type": "markdown",
   "metadata": {},
   "source": [
    "## RAG model"
   ]
  },
  {
   "cell_type": "code",
   "execution_count": 11,
   "metadata": {},
   "outputs": [],
   "source": [
    "from sentence_transformers import SentenceTransformer\n",
    "\n",
    "from sklearn.neighbors import NearestNeighbors\n"
   ]
  },
  {
   "cell_type": "code",
   "execution_count": 12,
   "metadata": {},
   "outputs": [],
   "source": [
    "# We have used different type of chunkings, all types give different responses\n",
    "\n",
    "def chunk_by_sentence(text, max_chunk_length=200):\n",
    "    paragraphs = text.split(\".\")  # Assuming sentences are separated by full stop.\n",
    "    chunks = []\n",
    "\n",
    "    for paragraph in paragraphs:\n",
    "        if len(paragraph) <= max_chunk_length:\n",
    "            chunks.append(paragraph)\n",
    "        else:\n",
    "            # For long sentences, further split them into smaller chunks\n",
    "            words = paragraph.split()\n",
    "            for i in range(0, len(words), max_chunk_length):\n",
    "                chunk = \" \".join(words[i:i+max_chunk_length])\n",
    "                chunks.append(chunk)\n",
    "                \n",
    "    return chunks\n",
    "\n",
    "\n",
    "def chunk_by_word_count(text, max_words=30):\n",
    "    words = text.split()\n",
    "    chunks = []\n",
    "\n",
    "    for i in range(0, len(words), max_words):\n",
    "        chunk = \" \".join(words[i:i+max_words])\n",
    "        chunks.append(chunk)\n",
    "\n",
    "    return chunks\n",
    "\n",
    "\n",
    "def chunk_by_paragraph(text, max_chunk_length=200):\n",
    "    paragraphs = text.split(\"\\n\") \n",
    "    chunks = []\n",
    "\n",
    "    for paragraph in paragraphs:\n",
    "        if len(paragraph) <= max_chunk_length:\n",
    "            chunks.append(paragraph)\n",
    "        else:\n",
    "            # For long paragraphs, further split them into smaller chunks\n",
    "            words = paragraph.split()\n",
    "            temp_chunk = \"\"\n",
    "            for word in words:\n",
    "                if len(temp_chunk) + len(word) + 1 <= max_chunk_length:\n",
    "                    temp_chunk += \" \" + word\n",
    "                else:\n",
    "                    chunks.append(temp_chunk.strip())\n",
    "                    temp_chunk = word\n",
    "            if temp_chunk:\n",
    "                chunks.append(temp_chunk.strip())\n",
    "                \n",
    "    return chunks\n",
    "\n",
    "\n",
    "def chunk_by_line_length(text, max_line_length=80):\n",
    "    lines = text.split(\"\\n\")\n",
    "    chunks = []\n",
    "\n",
    "    for line in lines:\n",
    "        if len(line) <= max_line_length:\n",
    "            chunks.append(line)\n",
    "        else:\n",
    "            words = line.split()\n",
    "            temp_chunk = \"\"\n",
    "            for word in words:\n",
    "                if len(temp_chunk) + len(word) + 1 <= max_line_length:\n",
    "                    temp_chunk += \" \" + word\n",
    "                else:\n",
    "                    chunks.append(temp_chunk.strip())\n",
    "                    temp_chunk = word\n",
    "            if temp_chunk:\n",
    "                chunks.append(temp_chunk.strip())\n",
    "\n",
    "    return chunks\n",
    "\n",
    "\n",
    "document_chunks = chunk_by_sentence(vastu_text)\n"
   ]
  },
  {
   "cell_type": "code",
   "execution_count": 13,
   "metadata": {},
   "outputs": [],
   "source": [
    "\n",
    "model = SentenceTransformer('all-MiniLM-L6-v2')\n",
    "embeddings = model.encode(document_chunks)\n"
   ]
  },
  {
   "cell_type": "code",
   "execution_count": 14,
   "metadata": {},
   "outputs": [
    {
     "data": {
      "text/plain": [
       "NearestNeighbors(algorithm='ball_tree', n_neighbors=1)"
      ]
     },
     "execution_count": 14,
     "metadata": {},
     "output_type": "execute_result"
    }
   ],
   "source": [
    "\n",
    "vector_store = NearestNeighbors(n_neighbors=1, algorithm='ball_tree')\n",
    "vector_store.fit(embeddings)\n"
   ]
  },
  {
   "cell_type": "code",
   "execution_count": 15,
   "metadata": {},
   "outputs": [
    {
     "name": "stdout",
     "output_type": "stream",
     "text": [
      "\n",
      "Vastu dining room\n",
      "Dining Room\n",
      "The dining room should be located on the west side of the house or on the east or north side of the building\n"
     ]
    }
   ],
   "source": [
    "def query_rag(question, model, vector_store, document_chunks):\n",
    "    question_embedding = model.encode([question])\n",
    "    _, indices = vector_store.kneighbors(question_embedding)\n",
    "    return document_chunks[indices[0][0]]\n",
    "\n",
    "answer_rag = query_rag(\"What does Vastu say about kitchen placement?\", model, vector_store, document_chunks)\n",
    "print(answer_rag)\n"
   ]
  },
  {
   "cell_type": "markdown",
   "metadata": {},
   "source": [
    "## Comparison of results"
   ]
  },
  {
   "cell_type": "code",
   "execution_count": 1,
   "metadata": {},
   "outputs": [
    {
     "ename": "",
     "evalue": "",
     "output_type": "error",
     "traceback": [
      "\u001b[1;31mThe Kernel crashed while executing code in the the current cell or a previous cell. Please review the code in the cell(s) to identify a possible cause of the failure. Click <a href='https://aka.ms/vscodeJupyterKernelCrash'>here</a> for more info. View Jupyter <a href='command:jupyter.viewOutput'>log</a> for further details."
     ]
    }
   ],
   "source": [
    "from bert_score import score\n",
    "\n",
    "def compare_responses(baseline_response, rag_response):\n",
    "    P, R, F1 = score([rag_response], [baseline_response], lang='en')\n",
    "    return P.mean()[0], R.mean()[0], F1.mean()[0]\n",
    "\n",
    "compare_responses('answer_openai', 'answer_rag')\n"
   ]
  },
  {
   "cell_type": "code",
   "execution_count": null,
   "metadata": {},
   "outputs": [],
   "source": []
  }
 ],
 "metadata": {
  "kernelspec": {
   "display_name": "Python 3",
   "language": "python",
   "name": "python3"
  },
  "language_info": {
   "codemirror_mode": {
    "name": "ipython",
    "version": 3
   },
   "file_extension": ".py",
   "mimetype": "text/x-python",
   "name": "python",
   "nbconvert_exporter": "python",
   "pygments_lexer": "ipython3",
   "version": "3.9.12"
  }
 },
 "nbformat": 4,
 "nbformat_minor": 2
}
